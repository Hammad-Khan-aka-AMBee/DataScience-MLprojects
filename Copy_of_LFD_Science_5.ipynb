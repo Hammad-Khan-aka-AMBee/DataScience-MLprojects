{
  "nbformat": 4,
  "nbformat_minor": 0,
  "metadata": {
    "colab": {
      "provenance": [],
      "include_colab_link": true
    },
    "kernelspec": {
      "name": "python3",
      "display_name": "Python 3"
    }
  },
  "cells": [
    {
      "cell_type": "markdown",
      "metadata": {
        "id": "view-in-github",
        "colab_type": "text"
      },
      "source": [
        "<a href=\"https://colab.research.google.com/github/Hammad-Khan-aka-Ansar-Malik/DataScience-MLprojects/blob/main/Copy_of_LFD_Science_5.ipynb\" target=\"_parent\"><img src=\"https://colab.research.google.com/assets/colab-badge.svg\" alt=\"Open In Colab\"/></a>"
      ]
    },
    {
      "cell_type": "code",
      "metadata": {
        "id": "FnjOojd9Oocd"
      },
      "source": [
        "from pandas_datareader import DataReader\n",
        "import pandas as pd\n",
        "from datetime import date\n",
        "import matplotlib.pyplot as plt\n",
        "import numpy as np"
      ],
      "execution_count": null,
      "outputs": []
    },
    {
      "cell_type": "code",
      "metadata": {
        "id": "5moLeh6fZCQu",
        "outputId": "e25f287e-ffac-4e56-979e-c338b4b3e6f4",
        "colab": {
          "resources": {
            "http://localhost:8080/nbextensions/google.colab/files.js": {
              "data": "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",
              "ok": true,
              "headers": [
                [
                  "content-type",
                  "application/javascript"
                ]
              ],
              "status": 200,
              "status_text": "OK"
            }
          },
          "base_uri": "https://localhost:8080/",
          "height": 135
        }
      },
      "source": [
        "from google.colab import files\n",
        "uploaded = files.upload()"
      ],
      "execution_count": null,
      "outputs": [
        {
          "output_type": "display_data",
          "data": {
            "text/html": [
              "\n",
              "     <input type=\"file\" id=\"files-7db9665a-a15f-436b-bb17-c716f2a9b785\" name=\"files[]\" multiple disabled />\n",
              "     <output id=\"result-7db9665a-a15f-436b-bb17-c716f2a9b785\">\n",
              "      Upload widget is only available when the cell has been executed in the\n",
              "      current browser session. Please rerun this cell to enable.\n",
              "      </output>\n",
              "      <script src=\"/nbextensions/google.colab/files.js\"></script> "
            ],
            "text/plain": [
              "<IPython.core.display.HTML object>"
            ]
          },
          "metadata": {
            "tags": []
          }
        },
        {
          "output_type": "stream",
          "text": [
            "Saving API_PAK_DS2_en_csv_v2_49967.csv to API_PAK_DS2_en_csv_v2_49967.csv\n",
            "Saving listings.xlsx to listings (1).xlsx\n"
          ],
          "name": "stdout"
        }
      ]
    },
    {
      "cell_type": "code",
      "metadata": {
        "id": "tpsOCIZ3ZE6q",
        "outputId": "f742fc68-a657-48b0-a81d-db957c072373",
        "colab": {
          "base_uri": "https://localhost:8080/",
          "height": 1000
        }
      },
      "source": [
        "listings=pd.read_excel('listings.xlsx')\n",
        "\n",
        "# Set Stock Symbol as the index\n",
        "\n",
        "listings_ss = listings.set_index('Symbol')\n",
        "\n",
        "# Get ticker of 3 largest finance companies\n",
        "top_3_companies = listings_ss.loc[listings_ss.Sector == 'Finance', 'IPOyear'].nlargest(n=3)\n",
        "\n",
        "# Convert index to list\n",
        "top_3_tickers = top_3_companies.index.tolist()\n",
        "\n",
        "# Set start date\n",
        "start = date(2015, 1, 1)\n",
        "\n",
        "# Import stock data\n",
        "result = DataReader(top_3_tickers, 'yahoo', start)\n",
        "data = pd.DataFrame()\n",
        "for ticker in result.columns.levels[1]:\n",
        "    index = pd.MultiIndex.from_arrays([\n",
        "            [ticker] * len(result),\n",
        "            result.index.values\n",
        "            ], names=['ticker', 'date'])\n",
        "    ticker_df = pd.DataFrame(index=index)\n",
        "    for col in result.columns.levels[0]:\n",
        "        ticker_df[col] = result[col][ticker].values\n",
        "    data = pd.concat([data, ticker_df])\n",
        "\n",
        "# Unstack and inspect result\n",
        "data['Close'].unstack().info()"
      ],
      "execution_count": null,
      "outputs": [
        {
          "output_type": "stream",
          "text": [
            "<class 'pandas.core.frame.DataFrame'>\n",
            "Index: 3 entries, AFGB to MGR\n",
            "Data columns (total 86 columns):\n",
            "2019-03-25 00:00:00    1 non-null float64\n",
            "2019-03-26 00:00:00    1 non-null float64\n",
            "2019-03-27 00:00:00    1 non-null float64\n",
            "2019-03-28 00:00:00    1 non-null float64\n",
            "2019-03-29 00:00:00    1 non-null float64\n",
            "2019-04-01 00:00:00    1 non-null float64\n",
            "2019-04-02 00:00:00    1 non-null float64\n",
            "2019-04-03 00:00:00    1 non-null float64\n",
            "2019-04-04 00:00:00    1 non-null float64\n",
            "2019-04-05 00:00:00    1 non-null float64\n",
            "2019-04-08 00:00:00    1 non-null float64\n",
            "2019-04-09 00:00:00    1 non-null float64\n",
            "2019-04-10 00:00:00    1 non-null float64\n",
            "2019-04-11 00:00:00    1 non-null float64\n",
            "2019-04-12 00:00:00    1 non-null float64\n",
            "2019-04-15 00:00:00    1 non-null float64\n",
            "2019-04-16 00:00:00    1 non-null float64\n",
            "2019-04-17 00:00:00    1 non-null float64\n",
            "2019-04-18 00:00:00    1 non-null float64\n",
            "2019-04-22 00:00:00    1 non-null float64\n",
            "2019-04-23 00:00:00    1 non-null float64\n",
            "2019-04-24 00:00:00    1 non-null float64\n",
            "2019-04-25 00:00:00    2 non-null float64\n",
            "2019-04-26 00:00:00    2 non-null float64\n",
            "2019-04-29 00:00:00    2 non-null float64\n",
            "2019-04-30 00:00:00    2 non-null float64\n",
            "2019-05-01 00:00:00    2 non-null float64\n",
            "2019-05-02 00:00:00    2 non-null float64\n",
            "2019-05-03 00:00:00    2 non-null float64\n",
            "2019-05-06 00:00:00    2 non-null float64\n",
            "2019-05-07 00:00:00    2 non-null float64\n",
            "2019-05-08 00:00:00    2 non-null float64\n",
            "2019-05-09 00:00:00    2 non-null float64\n",
            "2019-05-10 00:00:00    2 non-null float64\n",
            "2019-05-13 00:00:00    2 non-null float64\n",
            "2019-05-14 00:00:00    2 non-null float64\n",
            "2019-05-15 00:00:00    2 non-null float64\n",
            "2019-05-16 00:00:00    2 non-null float64\n",
            "2019-05-17 00:00:00    2 non-null float64\n",
            "2019-05-20 00:00:00    2 non-null float64\n",
            "2019-05-21 00:00:00    2 non-null float64\n",
            "2019-05-22 00:00:00    2 non-null float64\n",
            "2019-05-23 00:00:00    2 non-null float64\n",
            "2019-05-24 00:00:00    2 non-null float64\n",
            "2019-05-28 00:00:00    2 non-null float64\n",
            "2019-05-29 00:00:00    2 non-null float64\n",
            "2019-05-30 00:00:00    2 non-null float64\n",
            "2019-05-31 00:00:00    2 non-null float64\n",
            "2019-06-03 00:00:00    2 non-null float64\n",
            "2019-06-04 00:00:00    2 non-null float64\n",
            "2019-06-05 00:00:00    2 non-null float64\n",
            "2019-06-06 00:00:00    2 non-null float64\n",
            "2019-06-07 00:00:00    2 non-null float64\n",
            "2019-06-10 00:00:00    2 non-null float64\n",
            "2019-06-11 00:00:00    2 non-null float64\n",
            "2019-06-12 00:00:00    2 non-null float64\n",
            "2019-06-13 00:00:00    2 non-null float64\n",
            "2019-06-14 00:00:00    2 non-null float64\n",
            "2019-06-17 00:00:00    2 non-null float64\n",
            "2019-06-18 00:00:00    2 non-null float64\n",
            "2019-06-19 00:00:00    2 non-null float64\n",
            "2019-06-20 00:00:00    2 non-null float64\n",
            "2019-06-21 00:00:00    2 non-null float64\n",
            "2019-06-24 00:00:00    2 non-null float64\n",
            "2019-06-25 00:00:00    2 non-null float64\n",
            "2019-06-26 00:00:00    2 non-null float64\n",
            "2019-06-27 00:00:00    2 non-null float64\n",
            "2019-06-28 00:00:00    2 non-null float64\n",
            "2019-07-01 00:00:00    2 non-null float64\n",
            "2019-07-02 00:00:00    2 non-null float64\n",
            "2019-07-03 00:00:00    2 non-null float64\n",
            "2019-07-05 00:00:00    2 non-null float64\n",
            "2019-07-08 00:00:00    2 non-null float64\n",
            "2019-07-09 00:00:00    2 non-null float64\n",
            "2019-07-10 00:00:00    2 non-null float64\n",
            "2019-07-11 00:00:00    2 non-null float64\n",
            "2019-07-12 00:00:00    2 non-null float64\n",
            "2019-07-15 00:00:00    2 non-null float64\n",
            "2019-07-16 00:00:00    2 non-null float64\n",
            "2019-07-17 00:00:00    2 non-null float64\n",
            "2019-07-18 00:00:00    2 non-null float64\n",
            "2019-07-19 00:00:00    2 non-null float64\n",
            "2019-07-22 00:00:00    2 non-null float64\n",
            "2019-07-23 00:00:00    2 non-null float64\n",
            "2019-07-24 00:00:00    2 non-null float64\n",
            "2019-07-25 00:00:00    2 non-null float64\n",
            "dtypes: float64(86)\n",
            "memory usage: 2.0+ KB\n"
          ],
          "name": "stdout"
        }
      ]
    },
    {
      "cell_type": "code",
      "metadata": {
        "id": "slrgYWoYZSal"
      },
      "source": [
        "mx = pd.read_excel('listings.xlsx',sheet_name='amex',na_values=('n/a','$M'))"
      ],
      "execution_count": null,
      "outputs": []
    },
    {
      "cell_type": "code",
      "metadata": {
        "id": "MzPYuChU2x0Y",
        "outputId": "d4f9dd14-77d2-4689-e38e-46ca889c3c53",
        "colab": {
          "base_uri": "https://localhost:8080/",
          "height": 1000
        }
      },
      "source": [
        "mx"
      ],
      "execution_count": null,
      "outputs": [
        {
          "output_type": "execute_result",
          "data": {
            "text/html": [
              "<div>\n",
              "<style scoped>\n",
              "    .dataframe tbody tr th:only-of-type {\n",
              "        vertical-align: middle;\n",
              "    }\n",
              "\n",
              "    .dataframe tbody tr th {\n",
              "        vertical-align: top;\n",
              "    }\n",
              "\n",
              "    .dataframe thead th {\n",
              "        text-align: right;\n",
              "    }\n",
              "</style>\n",
              "<table border=\"1\" class=\"dataframe\">\n",
              "  <thead>\n",
              "    <tr style=\"text-align: right;\">\n",
              "      <th></th>\n",
              "      <th>Symbol</th>\n",
              "      <th>Name</th>\n",
              "      <th>LastSale</th>\n",
              "      <th>MarketCap</th>\n",
              "      <th>ADR TSO</th>\n",
              "      <th>IPOyear</th>\n",
              "      <th>Sector</th>\n",
              "      <th>Industry</th>\n",
              "      <th>Summary Quote</th>\n",
              "    </tr>\n",
              "  </thead>\n",
              "  <tbody>\n",
              "    <tr>\n",
              "      <th>0</th>\n",
              "      <td>XXII</td>\n",
              "      <td>22nd Century Group, Inc</td>\n",
              "      <td>1.9600</td>\n",
              "      <td>2.443336e+08</td>\n",
              "      <td>NaN</td>\n",
              "      <td>NaN</td>\n",
              "      <td>Consumer Non-Durables</td>\n",
              "      <td>Farming/Seeds/Milling</td>\n",
              "      <td>https://www.nasdaq.com/symbol/xxii</td>\n",
              "    </tr>\n",
              "    <tr>\n",
              "      <th>1</th>\n",
              "      <td>FAX</td>\n",
              "      <td>Aberdeen Asia-Pacific Income Fund Inc</td>\n",
              "      <td>4.2600</td>\n",
              "      <td>1.060018e+09</td>\n",
              "      <td>NaN</td>\n",
              "      <td>1986.0</td>\n",
              "      <td>NaN</td>\n",
              "      <td>NaN</td>\n",
              "      <td>https://www.nasdaq.com/symbol/fax</td>\n",
              "    </tr>\n",
              "    <tr>\n",
              "      <th>2</th>\n",
              "      <td>IAF</td>\n",
              "      <td>Aberdeen Australia Equity Fund Inc</td>\n",
              "      <td>5.4500</td>\n",
              "      <td>1.239457e+08</td>\n",
              "      <td>NaN</td>\n",
              "      <td>NaN</td>\n",
              "      <td>NaN</td>\n",
              "      <td>NaN</td>\n",
              "      <td>https://www.nasdaq.com/symbol/iaf</td>\n",
              "    </tr>\n",
              "    <tr>\n",
              "      <th>3</th>\n",
              "      <td>AEF</td>\n",
              "      <td>Aberdeen Emerging Markets Equity Income Fund, ...</td>\n",
              "      <td>7.4600</td>\n",
              "      <td>3.786083e+08</td>\n",
              "      <td>NaN</td>\n",
              "      <td>NaN</td>\n",
              "      <td>NaN</td>\n",
              "      <td>NaN</td>\n",
              "      <td>https://www.nasdaq.com/symbol/aef</td>\n",
              "    </tr>\n",
              "    <tr>\n",
              "      <th>4</th>\n",
              "      <td>FCO</td>\n",
              "      <td>Aberdeen Global Income Fund, Inc.</td>\n",
              "      <td>8.4400</td>\n",
              "      <td>7.363722e+07</td>\n",
              "      <td>NaN</td>\n",
              "      <td>1992.0</td>\n",
              "      <td>NaN</td>\n",
              "      <td>NaN</td>\n",
              "      <td>https://www.nasdaq.com/symbol/fco</td>\n",
              "    </tr>\n",
              "    <tr>\n",
              "      <th>5</th>\n",
              "      <td>ACU</td>\n",
              "      <td>Acme United Corporation.</td>\n",
              "      <td>20.7100</td>\n",
              "      <td>6.942261e+07</td>\n",
              "      <td>NaN</td>\n",
              "      <td>1988.0</td>\n",
              "      <td>Capital Goods</td>\n",
              "      <td>Industrial Machinery/Components</td>\n",
              "      <td>https://www.nasdaq.com/symbol/acu</td>\n",
              "    </tr>\n",
              "    <tr>\n",
              "      <th>6</th>\n",
              "      <td>ATNM</td>\n",
              "      <td>Actinium Pharmaceuticals, Inc.</td>\n",
              "      <td>0.2400</td>\n",
              "      <td>3.888805e+07</td>\n",
              "      <td>NaN</td>\n",
              "      <td>NaN</td>\n",
              "      <td>Health Care</td>\n",
              "      <td>Major Pharmaceuticals</td>\n",
              "      <td>https://www.nasdaq.com/symbol/atnm</td>\n",
              "    </tr>\n",
              "    <tr>\n",
              "      <th>7</th>\n",
              "      <td>AE</td>\n",
              "      <td>Adams Resources &amp; Energy, Inc.</td>\n",
              "      <td>31.8100</td>\n",
              "      <td>1.341737e+08</td>\n",
              "      <td>NaN</td>\n",
              "      <td>NaN</td>\n",
              "      <td>Energy</td>\n",
              "      <td>Oil Refining/Marketing</td>\n",
              "      <td>https://www.nasdaq.com/symbol/ae</td>\n",
              "    </tr>\n",
              "    <tr>\n",
              "      <th>8</th>\n",
              "      <td>ACY</td>\n",
              "      <td>AeroCentury Corp.</td>\n",
              "      <td>8.7000</td>\n",
              "      <td>1.344919e+07</td>\n",
              "      <td>NaN</td>\n",
              "      <td>NaN</td>\n",
              "      <td>Technology</td>\n",
              "      <td>Diversified Commercial Services</td>\n",
              "      <td>https://www.nasdaq.com/symbol/acy</td>\n",
              "    </tr>\n",
              "    <tr>\n",
              "      <th>9</th>\n",
              "      <td>UAVS</td>\n",
              "      <td>AgEagle Aerial Systems, Inc.</td>\n",
              "      <td>0.3081</td>\n",
              "      <td>4.605908e+06</td>\n",
              "      <td>NaN</td>\n",
              "      <td>NaN</td>\n",
              "      <td>Capital Goods</td>\n",
              "      <td>Aerospace</td>\n",
              "      <td>https://www.nasdaq.com/symbol/uavs</td>\n",
              "    </tr>\n",
              "    <tr>\n",
              "      <th>10</th>\n",
              "      <td>AGE</td>\n",
              "      <td>AgeX Therapeutics, Inc.</td>\n",
              "      <td>3.0000</td>\n",
              "      <td>1.128900e+08</td>\n",
              "      <td>NaN</td>\n",
              "      <td>2018.0</td>\n",
              "      <td>Health Care</td>\n",
              "      <td>Major Pharmaceuticals</td>\n",
              "      <td>https://www.nasdaq.com/symbol/age</td>\n",
              "    </tr>\n",
              "    <tr>\n",
              "      <th>11</th>\n",
              "      <td>AIRI</td>\n",
              "      <td>Air Industries Group</td>\n",
              "      <td>1.0600</td>\n",
              "      <td>3.043364e+07</td>\n",
              "      <td>NaN</td>\n",
              "      <td>NaN</td>\n",
              "      <td>Capital Goods</td>\n",
              "      <td>Military/Government/Technical</td>\n",
              "      <td>https://www.nasdaq.com/symbol/airi</td>\n",
              "    </tr>\n",
              "    <tr>\n",
              "      <th>12</th>\n",
              "      <td>AXU</td>\n",
              "      <td>Alexco Resource Corp</td>\n",
              "      <td>1.1800</td>\n",
              "      <td>1.380536e+08</td>\n",
              "      <td>NaN</td>\n",
              "      <td>NaN</td>\n",
              "      <td>Basic Industries</td>\n",
              "      <td>Precious Metals</td>\n",
              "      <td>https://www.nasdaq.com/symbol/axu</td>\n",
              "    </tr>\n",
              "    <tr>\n",
              "      <th>13</th>\n",
              "      <td>ALO</td>\n",
              "      <td>Alio Gold Inc.</td>\n",
              "      <td>0.7510</td>\n",
              "      <td>6.361506e+07</td>\n",
              "      <td>NaN</td>\n",
              "      <td>2011.0</td>\n",
              "      <td>Basic Industries</td>\n",
              "      <td>Precious Metals</td>\n",
              "      <td>https://www.nasdaq.com/symbol/alo</td>\n",
              "    </tr>\n",
              "    <tr>\n",
              "      <th>14</th>\n",
              "      <td>AAU</td>\n",
              "      <td>Almaden Minerals, Ltd.</td>\n",
              "      <td>0.6415</td>\n",
              "      <td>7.167269e+07</td>\n",
              "      <td>NaN</td>\n",
              "      <td>2015.0</td>\n",
              "      <td>Basic Industries</td>\n",
              "      <td>Precious Metals</td>\n",
              "      <td>https://www.nasdaq.com/symbol/aau</td>\n",
              "    </tr>\n",
              "    <tr>\n",
              "      <th>15</th>\n",
              "      <td>APT</td>\n",
              "      <td>Alpha Pro Tech, Ltd.</td>\n",
              "      <td>3.4800</td>\n",
              "      <td>4.621794e+07</td>\n",
              "      <td>NaN</td>\n",
              "      <td>NaN</td>\n",
              "      <td>Health Care</td>\n",
              "      <td>Industrial Specialties</td>\n",
              "      <td>https://www.nasdaq.com/symbol/apt</td>\n",
              "    </tr>\n",
              "    <tr>\n",
              "      <th>16</th>\n",
              "      <td>AAMC</td>\n",
              "      <td>Altisource Asset Management Corp</td>\n",
              "      <td>11.8688</td>\n",
              "      <td>1.886333e+07</td>\n",
              "      <td>NaN</td>\n",
              "      <td>NaN</td>\n",
              "      <td>Finance</td>\n",
              "      <td>Real Estate</td>\n",
              "      <td>https://www.nasdaq.com/symbol/aamc</td>\n",
              "    </tr>\n",
              "    <tr>\n",
              "      <th>17</th>\n",
              "      <td>AMBO</td>\n",
              "      <td>Ambow Education Holding Ltd.</td>\n",
              "      <td>3.1300</td>\n",
              "      <td>6.775060e+07</td>\n",
              "      <td>NaN</td>\n",
              "      <td>NaN</td>\n",
              "      <td>Consumer Services</td>\n",
              "      <td>Other Consumer Services</td>\n",
              "      <td>https://www.nasdaq.com/symbol/ambo</td>\n",
              "    </tr>\n",
              "    <tr>\n",
              "      <th>18</th>\n",
              "      <td>DIT</td>\n",
              "      <td>AMCON Distributing Company</td>\n",
              "      <td>96.4400</td>\n",
              "      <td>5.716655e+07</td>\n",
              "      <td>NaN</td>\n",
              "      <td>NaN</td>\n",
              "      <td>Consumer Non-Durables</td>\n",
              "      <td>Food Distributors</td>\n",
              "      <td>https://www.nasdaq.com/symbol/dit</td>\n",
              "    </tr>\n",
              "    <tr>\n",
              "      <th>19</th>\n",
              "      <td>AMS</td>\n",
              "      <td>American Shared Hospital Services</td>\n",
              "      <td>2.9500</td>\n",
              "      <td>1.685630e+07</td>\n",
              "      <td>NaN</td>\n",
              "      <td>NaN</td>\n",
              "      <td>Health Care</td>\n",
              "      <td>Medical Specialities</td>\n",
              "      <td>https://www.nasdaq.com/symbol/ams</td>\n",
              "    </tr>\n",
              "    <tr>\n",
              "      <th>20</th>\n",
              "      <td>USAS</td>\n",
              "      <td>Americas Silver Corporation</td>\n",
              "      <td>2.4300</td>\n",
              "      <td>1.904860e+08</td>\n",
              "      <td>NaN</td>\n",
              "      <td>2017.0</td>\n",
              "      <td>Basic Industries</td>\n",
              "      <td>Precious Metals</td>\n",
              "      <td>https://www.nasdaq.com/symbol/usas</td>\n",
              "    </tr>\n",
              "    <tr>\n",
              "      <th>21</th>\n",
              "      <td>AMPE</td>\n",
              "      <td>Ampio Pharmaceuticals, Inc.</td>\n",
              "      <td>0.4056</td>\n",
              "      <td>5.747671e+07</td>\n",
              "      <td>NaN</td>\n",
              "      <td>NaN</td>\n",
              "      <td>Health Care</td>\n",
              "      <td>Major Pharmaceuticals</td>\n",
              "      <td>https://www.nasdaq.com/symbol/ampe</td>\n",
              "    </tr>\n",
              "    <tr>\n",
              "      <th>22</th>\n",
              "      <td>ARNC^</td>\n",
              "      <td>Arconic Inc.</td>\n",
              "      <td>87.8500</td>\n",
              "      <td>0.000000e+00</td>\n",
              "      <td>NaN</td>\n",
              "      <td>NaN</td>\n",
              "      <td>NaN</td>\n",
              "      <td>NaN</td>\n",
              "      <td>https://www.nasdaq.com/symbol/arnc^</td>\n",
              "    </tr>\n",
              "    <tr>\n",
              "      <th>23</th>\n",
              "      <td>ARMP</td>\n",
              "      <td>Armata Pharmaceuticals, Inc.</td>\n",
              "      <td>3.4300</td>\n",
              "      <td>3.416306e+07</td>\n",
              "      <td>NaN</td>\n",
              "      <td>NaN</td>\n",
              "      <td>Health Care</td>\n",
              "      <td>Biotechnology: Biological Products (No Diagnos...</td>\n",
              "      <td>https://www.nasdaq.com/symbol/armp</td>\n",
              "    </tr>\n",
              "    <tr>\n",
              "      <th>24</th>\n",
              "      <td>AKG</td>\n",
              "      <td>Asanko Gold Inc.</td>\n",
              "      <td>0.7519</td>\n",
              "      <td>1.697825e+08</td>\n",
              "      <td>NaN</td>\n",
              "      <td>NaN</td>\n",
              "      <td>Basic Industries</td>\n",
              "      <td>Mining &amp; Quarrying of Nonmetallic Minerals (No...</td>\n",
              "      <td>https://www.nasdaq.com/symbol/akg</td>\n",
              "    </tr>\n",
              "    <tr>\n",
              "      <th>25</th>\n",
              "      <td>AINC</td>\n",
              "      <td>Ashford Inc.</td>\n",
              "      <td>30.5200</td>\n",
              "      <td>7.539334e+07</td>\n",
              "      <td>NaN</td>\n",
              "      <td>2014.0</td>\n",
              "      <td>Consumer Services</td>\n",
              "      <td>Professional Services</td>\n",
              "      <td>https://www.nasdaq.com/symbol/ainc</td>\n",
              "    </tr>\n",
              "    <tr>\n",
              "      <th>26</th>\n",
              "      <td>AUG</td>\n",
              "      <td>Auryn Resources Inc.</td>\n",
              "      <td>1.6000</td>\n",
              "      <td>1.512115e+08</td>\n",
              "      <td>NaN</td>\n",
              "      <td>NaN</td>\n",
              "      <td>Basic Industries</td>\n",
              "      <td>Precious Metals</td>\n",
              "      <td>https://www.nasdaq.com/symbol/aug</td>\n",
              "    </tr>\n",
              "    <tr>\n",
              "      <th>27</th>\n",
              "      <td>AWX</td>\n",
              "      <td>Avalon Holdings Corporation</td>\n",
              "      <td>2.5210</td>\n",
              "      <td>9.769962e+06</td>\n",
              "      <td>NaN</td>\n",
              "      <td>NaN</td>\n",
              "      <td>Public Utilities</td>\n",
              "      <td>Environmental Services</td>\n",
              "      <td>https://www.nasdaq.com/symbol/awx</td>\n",
              "    </tr>\n",
              "    <tr>\n",
              "      <th>28</th>\n",
              "      <td>ASM</td>\n",
              "      <td>Avino Silver</td>\n",
              "      <td>0.5339</td>\n",
              "      <td>3.471196e+07</td>\n",
              "      <td>NaN</td>\n",
              "      <td>NaN</td>\n",
              "      <td>Basic Industries</td>\n",
              "      <td>Precious Metals</td>\n",
              "      <td>https://www.nasdaq.com/symbol/asm</td>\n",
              "    </tr>\n",
              "    <tr>\n",
              "      <th>29</th>\n",
              "      <td>BTG</td>\n",
              "      <td>B2Gold Corp</td>\n",
              "      <td>3.1300</td>\n",
              "      <td>3.157371e+09</td>\n",
              "      <td>NaN</td>\n",
              "      <td>NaN</td>\n",
              "      <td>Basic Industries</td>\n",
              "      <td>Precious Metals</td>\n",
              "      <td>https://www.nasdaq.com/symbol/btg</td>\n",
              "    </tr>\n",
              "    <tr>\n",
              "      <th>...</th>\n",
              "      <td>...</td>\n",
              "      <td>...</td>\n",
              "      <td>...</td>\n",
              "      <td>...</td>\n",
              "      <td>...</td>\n",
              "      <td>...</td>\n",
              "      <td>...</td>\n",
              "      <td>...</td>\n",
              "      <td>...</td>\n",
              "    </tr>\n",
              "    <tr>\n",
              "      <th>280</th>\n",
              "      <td>GLU^B</td>\n",
              "      <td>The Gabelli Global Utility and Income Trust</td>\n",
              "      <td>51.6000</td>\n",
              "      <td>0.000000e+00</td>\n",
              "      <td>NaN</td>\n",
              "      <td>NaN</td>\n",
              "      <td>NaN</td>\n",
              "      <td>NaN</td>\n",
              "      <td>https://www.nasdaq.com/symbol/glu^b</td>\n",
              "    </tr>\n",
              "    <tr>\n",
              "      <th>281</th>\n",
              "      <td>GGO</td>\n",
              "      <td>The Gabelli Go Anywhere Trust</td>\n",
              "      <td>15.6800</td>\n",
              "      <td>2.528638e+07</td>\n",
              "      <td>NaN</td>\n",
              "      <td>2016.0</td>\n",
              "      <td>NaN</td>\n",
              "      <td>NaN</td>\n",
              "      <td>https://www.nasdaq.com/symbol/ggo</td>\n",
              "    </tr>\n",
              "    <tr>\n",
              "      <th>282</th>\n",
              "      <td>GGO^A</td>\n",
              "      <td>The Gabelli Go Anywhere Trust</td>\n",
              "      <td>41.2000</td>\n",
              "      <td>0.000000e+00</td>\n",
              "      <td>NaN</td>\n",
              "      <td>NaN</td>\n",
              "      <td>NaN</td>\n",
              "      <td>NaN</td>\n",
              "      <td>https://www.nasdaq.com/symbol/ggo^a</td>\n",
              "    </tr>\n",
              "    <tr>\n",
              "      <th>283</th>\n",
              "      <td>TDW.WS</td>\n",
              "      <td>Tidewater Inc.</td>\n",
              "      <td>NaN</td>\n",
              "      <td>0.000000e+00</td>\n",
              "      <td>NaN</td>\n",
              "      <td>NaN</td>\n",
              "      <td>NaN</td>\n",
              "      <td>NaN</td>\n",
              "      <td>https://www.nasdaq.com/symbol/tdw.ws</td>\n",
              "    </tr>\n",
              "    <tr>\n",
              "      <th>284</th>\n",
              "      <td>TMP</td>\n",
              "      <td>Tompkins Financial Corporation</td>\n",
              "      <td>79.8300</td>\n",
              "      <td>1.222521e+09</td>\n",
              "      <td>NaN</td>\n",
              "      <td>NaN</td>\n",
              "      <td>Finance</td>\n",
              "      <td>Major Banks</td>\n",
              "      <td>https://www.nasdaq.com/symbol/tmp</td>\n",
              "    </tr>\n",
              "    <tr>\n",
              "      <th>285</th>\n",
              "      <td>TAT</td>\n",
              "      <td>Transatlantic Petroleum Ltd</td>\n",
              "      <td>0.7375</td>\n",
              "      <td>3.871629e+07</td>\n",
              "      <td>NaN</td>\n",
              "      <td>NaN</td>\n",
              "      <td>Energy</td>\n",
              "      <td>Oil &amp; Gas Production</td>\n",
              "      <td>https://www.nasdaq.com/symbol/tat</td>\n",
              "    </tr>\n",
              "    <tr>\n",
              "      <th>286</th>\n",
              "      <td>TRXC</td>\n",
              "      <td>TransEnterix, Inc.</td>\n",
              "      <td>1.4000</td>\n",
              "      <td>3.042745e+08</td>\n",
              "      <td>NaN</td>\n",
              "      <td>NaN</td>\n",
              "      <td>Health Care</td>\n",
              "      <td>Medical/Dental Instruments</td>\n",
              "      <td>https://www.nasdaq.com/symbol/trxc</td>\n",
              "    </tr>\n",
              "    <tr>\n",
              "      <th>287</th>\n",
              "      <td>TMQ</td>\n",
              "      <td>Trilogy Metals Inc.</td>\n",
              "      <td>2.7800</td>\n",
              "      <td>3.673587e+08</td>\n",
              "      <td>NaN</td>\n",
              "      <td>NaN</td>\n",
              "      <td>Basic Industries</td>\n",
              "      <td>Precious Metals</td>\n",
              "      <td>https://www.nasdaq.com/symbol/tmq</td>\n",
              "    </tr>\n",
              "    <tr>\n",
              "      <th>288</th>\n",
              "      <td>TPHS</td>\n",
              "      <td>Trinity Place Holdings Inc.</td>\n",
              "      <td>3.9000</td>\n",
              "      <td>1.244100e+08</td>\n",
              "      <td>NaN</td>\n",
              "      <td>NaN</td>\n",
              "      <td>Consumer Services</td>\n",
              "      <td>Building operators</td>\n",
              "      <td>https://www.nasdaq.com/symbol/tphs</td>\n",
              "    </tr>\n",
              "    <tr>\n",
              "      <th>289</th>\n",
              "      <td>TRT</td>\n",
              "      <td>Trio-Tech International</td>\n",
              "      <td>2.9200</td>\n",
              "      <td>1.072532e+07</td>\n",
              "      <td>NaN</td>\n",
              "      <td>NaN</td>\n",
              "      <td>Technology</td>\n",
              "      <td>Industrial Machinery/Components</td>\n",
              "      <td>https://www.nasdaq.com/symbol/trt</td>\n",
              "    </tr>\n",
              "    <tr>\n",
              "      <th>290</th>\n",
              "      <td>UFAB</td>\n",
              "      <td>Unique Fabricating, Inc.</td>\n",
              "      <td>2.9246</td>\n",
              "      <td>2.860009e+07</td>\n",
              "      <td>NaN</td>\n",
              "      <td>2015.0</td>\n",
              "      <td>Capital Goods</td>\n",
              "      <td>Auto Parts:O.E.M.</td>\n",
              "      <td>https://www.nasdaq.com/symbol/ufab</td>\n",
              "    </tr>\n",
              "    <tr>\n",
              "      <th>291</th>\n",
              "      <td>UAMY</td>\n",
              "      <td>United States Antimony Corporation</td>\n",
              "      <td>0.6400</td>\n",
              "      <td>4.379339e+07</td>\n",
              "      <td>NaN</td>\n",
              "      <td>NaN</td>\n",
              "      <td>Capital Goods</td>\n",
              "      <td>Metal Fabrications</td>\n",
              "      <td>https://www.nasdaq.com/symbol/uamy</td>\n",
              "    </tr>\n",
              "    <tr>\n",
              "      <th>292</th>\n",
              "      <td>UUU</td>\n",
              "      <td>Universal Security Instruments, Inc.</td>\n",
              "      <td>1.2000</td>\n",
              "      <td>2.775464e+06</td>\n",
              "      <td>NaN</td>\n",
              "      <td>NaN</td>\n",
              "      <td>Technology</td>\n",
              "      <td>Electronic Components</td>\n",
              "      <td>https://www.nasdaq.com/symbol/uuu</td>\n",
              "    </tr>\n",
              "    <tr>\n",
              "      <th>293</th>\n",
              "      <td>UQM</td>\n",
              "      <td>UQM Technologies Inc.</td>\n",
              "      <td>1.6600</td>\n",
              "      <td>9.390053e+07</td>\n",
              "      <td>NaN</td>\n",
              "      <td>NaN</td>\n",
              "      <td>Capital Goods</td>\n",
              "      <td>Industrial Machinery/Components</td>\n",
              "      <td>https://www.nasdaq.com/symbol/uqm</td>\n",
              "    </tr>\n",
              "    <tr>\n",
              "      <th>294</th>\n",
              "      <td>URG</td>\n",
              "      <td>Ur Energy Inc</td>\n",
              "      <td>0.6271</td>\n",
              "      <td>1.002484e+08</td>\n",
              "      <td>NaN</td>\n",
              "      <td>NaN</td>\n",
              "      <td>Basic Industries</td>\n",
              "      <td>Precious Metals</td>\n",
              "      <td>https://www.nasdaq.com/symbol/urg</td>\n",
              "    </tr>\n",
              "    <tr>\n",
              "      <th>295</th>\n",
              "      <td>UEC</td>\n",
              "      <td>Uranium Energy Corp.</td>\n",
              "      <td>1.1400</td>\n",
              "      <td>2.059804e+08</td>\n",
              "      <td>NaN</td>\n",
              "      <td>NaN</td>\n",
              "      <td>Basic Industries</td>\n",
              "      <td>Precious Metals</td>\n",
              "      <td>https://www.nasdaq.com/symbol/uec</td>\n",
              "    </tr>\n",
              "    <tr>\n",
              "      <th>296</th>\n",
              "      <td>VHC</td>\n",
              "      <td>VirnetX Holding Corp</td>\n",
              "      <td>7.5300</td>\n",
              "      <td>5.128231e+08</td>\n",
              "      <td>NaN</td>\n",
              "      <td>NaN</td>\n",
              "      <td>Miscellaneous</td>\n",
              "      <td>Multi-Sector Companies</td>\n",
              "      <td>https://www.nasdaq.com/symbol/vhc</td>\n",
              "    </tr>\n",
              "    <tr>\n",
              "      <th>297</th>\n",
              "      <td>VGZ</td>\n",
              "      <td>Vista Gold Corporation</td>\n",
              "      <td>0.7476</td>\n",
              "      <td>7.516187e+07</td>\n",
              "      <td>NaN</td>\n",
              "      <td>NaN</td>\n",
              "      <td>Basic Industries</td>\n",
              "      <td>Precious Metals</td>\n",
              "      <td>https://www.nasdaq.com/symbol/vgz</td>\n",
              "    </tr>\n",
              "    <tr>\n",
              "      <th>298</th>\n",
              "      <td>VNRX</td>\n",
              "      <td>VolitionRX Limited</td>\n",
              "      <td>3.3600</td>\n",
              "      <td>1.326550e+08</td>\n",
              "      <td>NaN</td>\n",
              "      <td>2015.0</td>\n",
              "      <td>Health Care</td>\n",
              "      <td>Biotechnology: In Vitro &amp; In Vivo Diagnostic S...</td>\n",
              "      <td>https://www.nasdaq.com/symbol/vnrx</td>\n",
              "    </tr>\n",
              "    <tr>\n",
              "      <th>299</th>\n",
              "      <td>VISI</td>\n",
              "      <td>Volt Information Sciences, Inc.</td>\n",
              "      <td>4.5400</td>\n",
              "      <td>9.630170e+07</td>\n",
              "      <td>NaN</td>\n",
              "      <td>NaN</td>\n",
              "      <td>Technology</td>\n",
              "      <td>Professional Services</td>\n",
              "      <td>https://www.nasdaq.com/symbol/visi</td>\n",
              "    </tr>\n",
              "    <tr>\n",
              "      <th>300</th>\n",
              "      <td>EAD</td>\n",
              "      <td>Wells Fargo Income Opportunities Fund</td>\n",
              "      <td>8.2800</td>\n",
              "      <td>5.222688e+08</td>\n",
              "      <td>NaN</td>\n",
              "      <td>2003.0</td>\n",
              "      <td>NaN</td>\n",
              "      <td>NaN</td>\n",
              "      <td>https://www.nasdaq.com/symbol/ead</td>\n",
              "    </tr>\n",
              "    <tr>\n",
              "      <th>301</th>\n",
              "      <td>ERC</td>\n",
              "      <td>Wells Fargo Multi-Sector Income Fund</td>\n",
              "      <td>12.6800</td>\n",
              "      <td>3.894795e+08</td>\n",
              "      <td>NaN</td>\n",
              "      <td>2003.0</td>\n",
              "      <td>NaN</td>\n",
              "      <td>NaN</td>\n",
              "      <td>https://www.nasdaq.com/symbol/erc</td>\n",
              "    </tr>\n",
              "    <tr>\n",
              "      <th>302</th>\n",
              "      <td>ERH</td>\n",
              "      <td>Wells Fargo Utilities and High Income Fund</td>\n",
              "      <td>13.0200</td>\n",
              "      <td>1.205246e+08</td>\n",
              "      <td>NaN</td>\n",
              "      <td>2004.0</td>\n",
              "      <td>NaN</td>\n",
              "      <td>NaN</td>\n",
              "      <td>https://www.nasdaq.com/symbol/erh</td>\n",
              "    </tr>\n",
              "    <tr>\n",
              "      <th>303</th>\n",
              "      <td>WRN</td>\n",
              "      <td>Western Copper and Gold Corporation</td>\n",
              "      <td>0.6871</td>\n",
              "      <td>7.184386e+07</td>\n",
              "      <td>NaN</td>\n",
              "      <td>2011.0</td>\n",
              "      <td>Basic Industries</td>\n",
              "      <td>Precious Metals</td>\n",
              "      <td>https://www.nasdaq.com/symbol/wrn</td>\n",
              "    </tr>\n",
              "    <tr>\n",
              "      <th>304</th>\n",
              "      <td>WYY</td>\n",
              "      <td>WidePoint Corporation</td>\n",
              "      <td>0.4450</td>\n",
              "      <td>3.753620e+07</td>\n",
              "      <td>NaN</td>\n",
              "      <td>NaN</td>\n",
              "      <td>Technology</td>\n",
              "      <td>EDP Services</td>\n",
              "      <td>https://www.nasdaq.com/symbol/wyy</td>\n",
              "    </tr>\n",
              "    <tr>\n",
              "      <th>305</th>\n",
              "      <td>WTT</td>\n",
              "      <td>Wireless Telecom Group,  Inc.</td>\n",
              "      <td>1.5500</td>\n",
              "      <td>3.301539e+07</td>\n",
              "      <td>NaN</td>\n",
              "      <td>NaN</td>\n",
              "      <td>Capital Goods</td>\n",
              "      <td>Electrical Products</td>\n",
              "      <td>https://www.nasdaq.com/symbol/wtt</td>\n",
              "    </tr>\n",
              "    <tr>\n",
              "      <th>306</th>\n",
              "      <td>XTNT</td>\n",
              "      <td>Xtant Medical Holdings, Inc.</td>\n",
              "      <td>2.8500</td>\n",
              "      <td>3.751102e+07</td>\n",
              "      <td>NaN</td>\n",
              "      <td>NaN</td>\n",
              "      <td>Health Care</td>\n",
              "      <td>Biotechnology: Biological Products (No Diagnos...</td>\n",
              "      <td>https://www.nasdaq.com/symbol/xtnt</td>\n",
              "    </tr>\n",
              "    <tr>\n",
              "      <th>307</th>\n",
              "      <td>YUMA</td>\n",
              "      <td>Yuma Energy, Inc.</td>\n",
              "      <td>2.9400</td>\n",
              "      <td>4.547222e+06</td>\n",
              "      <td>NaN</td>\n",
              "      <td>NaN</td>\n",
              "      <td>Energy</td>\n",
              "      <td>Oil &amp; Gas Production</td>\n",
              "      <td>https://www.nasdaq.com/symbol/yuma</td>\n",
              "    </tr>\n",
              "    <tr>\n",
              "      <th>308</th>\n",
              "      <td>ZDGE</td>\n",
              "      <td>Zedge, Inc.</td>\n",
              "      <td>1.6100</td>\n",
              "      <td>1.667435e+07</td>\n",
              "      <td>NaN</td>\n",
              "      <td>2016.0</td>\n",
              "      <td>Technology</td>\n",
              "      <td>Computer Software: Prepackaged Software</td>\n",
              "      <td>https://www.nasdaq.com/symbol/zdge</td>\n",
              "    </tr>\n",
              "    <tr>\n",
              "      <th>309</th>\n",
              "      <td>ZOM</td>\n",
              "      <td>Zomedica Pharmaceuticals Corp.</td>\n",
              "      <td>0.2500</td>\n",
              "      <td>2.700960e+07</td>\n",
              "      <td>NaN</td>\n",
              "      <td>2017.0</td>\n",
              "      <td>Health Care</td>\n",
              "      <td>Major Pharmaceuticals</td>\n",
              "      <td>https://www.nasdaq.com/symbol/zom</td>\n",
              "    </tr>\n",
              "  </tbody>\n",
              "</table>\n",
              "<p>310 rows × 9 columns</p>\n",
              "</div>"
            ],
            "text/plain": [
              "     Symbol  ...                         Summary Quote\n",
              "0      XXII  ...    https://www.nasdaq.com/symbol/xxii\n",
              "1       FAX  ...     https://www.nasdaq.com/symbol/fax\n",
              "2       IAF  ...     https://www.nasdaq.com/symbol/iaf\n",
              "3       AEF  ...     https://www.nasdaq.com/symbol/aef\n",
              "4       FCO  ...     https://www.nasdaq.com/symbol/fco\n",
              "5       ACU  ...     https://www.nasdaq.com/symbol/acu\n",
              "6      ATNM  ...    https://www.nasdaq.com/symbol/atnm\n",
              "7        AE  ...      https://www.nasdaq.com/symbol/ae\n",
              "8       ACY  ...     https://www.nasdaq.com/symbol/acy\n",
              "9      UAVS  ...    https://www.nasdaq.com/symbol/uavs\n",
              "10      AGE  ...     https://www.nasdaq.com/symbol/age\n",
              "11     AIRI  ...    https://www.nasdaq.com/symbol/airi\n",
              "12      AXU  ...     https://www.nasdaq.com/symbol/axu\n",
              "13      ALO  ...     https://www.nasdaq.com/symbol/alo\n",
              "14      AAU  ...     https://www.nasdaq.com/symbol/aau\n",
              "15      APT  ...     https://www.nasdaq.com/symbol/apt\n",
              "16     AAMC  ...    https://www.nasdaq.com/symbol/aamc\n",
              "17     AMBO  ...    https://www.nasdaq.com/symbol/ambo\n",
              "18      DIT  ...     https://www.nasdaq.com/symbol/dit\n",
              "19      AMS  ...     https://www.nasdaq.com/symbol/ams\n",
              "20     USAS  ...    https://www.nasdaq.com/symbol/usas\n",
              "21     AMPE  ...    https://www.nasdaq.com/symbol/ampe\n",
              "22    ARNC^  ...   https://www.nasdaq.com/symbol/arnc^\n",
              "23     ARMP  ...    https://www.nasdaq.com/symbol/armp\n",
              "24      AKG  ...     https://www.nasdaq.com/symbol/akg\n",
              "25     AINC  ...    https://www.nasdaq.com/symbol/ainc\n",
              "26      AUG  ...     https://www.nasdaq.com/symbol/aug\n",
              "27      AWX  ...     https://www.nasdaq.com/symbol/awx\n",
              "28      ASM  ...     https://www.nasdaq.com/symbol/asm\n",
              "29      BTG  ...     https://www.nasdaq.com/symbol/btg\n",
              "..      ...  ...                                   ...\n",
              "280   GLU^B  ...   https://www.nasdaq.com/symbol/glu^b\n",
              "281     GGO  ...     https://www.nasdaq.com/symbol/ggo\n",
              "282   GGO^A  ...   https://www.nasdaq.com/symbol/ggo^a\n",
              "283  TDW.WS  ...  https://www.nasdaq.com/symbol/tdw.ws\n",
              "284     TMP  ...     https://www.nasdaq.com/symbol/tmp\n",
              "285     TAT  ...     https://www.nasdaq.com/symbol/tat\n",
              "286    TRXC  ...    https://www.nasdaq.com/symbol/trxc\n",
              "287     TMQ  ...     https://www.nasdaq.com/symbol/tmq\n",
              "288    TPHS  ...    https://www.nasdaq.com/symbol/tphs\n",
              "289     TRT  ...     https://www.nasdaq.com/symbol/trt\n",
              "290    UFAB  ...    https://www.nasdaq.com/symbol/ufab\n",
              "291    UAMY  ...    https://www.nasdaq.com/symbol/uamy\n",
              "292     UUU  ...     https://www.nasdaq.com/symbol/uuu\n",
              "293     UQM  ...     https://www.nasdaq.com/symbol/uqm\n",
              "294     URG  ...     https://www.nasdaq.com/symbol/urg\n",
              "295     UEC  ...     https://www.nasdaq.com/symbol/uec\n",
              "296     VHC  ...     https://www.nasdaq.com/symbol/vhc\n",
              "297     VGZ  ...     https://www.nasdaq.com/symbol/vgz\n",
              "298    VNRX  ...    https://www.nasdaq.com/symbol/vnrx\n",
              "299    VISI  ...    https://www.nasdaq.com/symbol/visi\n",
              "300     EAD  ...     https://www.nasdaq.com/symbol/ead\n",
              "301     ERC  ...     https://www.nasdaq.com/symbol/erc\n",
              "302     ERH  ...     https://www.nasdaq.com/symbol/erh\n",
              "303     WRN  ...     https://www.nasdaq.com/symbol/wrn\n",
              "304     WYY  ...     https://www.nasdaq.com/symbol/wyy\n",
              "305     WTT  ...     https://www.nasdaq.com/symbol/wtt\n",
              "306    XTNT  ...    https://www.nasdaq.com/symbol/xtnt\n",
              "307    YUMA  ...    https://www.nasdaq.com/symbol/yuma\n",
              "308    ZDGE  ...    https://www.nasdaq.com/symbol/zdge\n",
              "309     ZOM  ...     https://www.nasdaq.com/symbol/zom\n",
              "\n",
              "[310 rows x 9 columns]"
            ]
          },
          "metadata": {
            "tags": []
          },
          "execution_count": 11
        }
      ]
    },
    {
      "cell_type": "code",
      "metadata": {
        "id": "MqsBjsf91888"
      },
      "source": [
        "mc=mx['MarketCap'].div(10**6)"
      ],
      "execution_count": null,
      "outputs": []
    },
    {
      "cell_type": "code",
      "metadata": {
        "id": "qBvoRNfz2XIt",
        "outputId": "dab23751-9682-4082-f73d-7b961fdcca35",
        "colab": {
          "base_uri": "https://localhost:8080/",
          "height": 34
        }
      },
      "source": [
        "mc.mean()"
      ],
      "execution_count": null,
      "outputs": [
        {
          "output_type": "execute_result",
          "data": {
            "text/plain": [
              "384.5659633638112"
            ]
          },
          "metadata": {
            "tags": []
          },
          "execution_count": 14
        }
      ]
    },
    {
      "cell_type": "code",
      "metadata": {
        "id": "vtjC5A3Q3-0U",
        "outputId": "65fa050b-da67-4746-85c4-9af2c11b0a3a",
        "colab": {
          "base_uri": "https://localhost:8080/",
          "height": 34
        }
      },
      "source": [
        "mc.median()"
      ],
      "execution_count": null,
      "outputs": [
        {
          "output_type": "execute_result",
          "data": {
            "text/plain": [
              "57.3216273736"
            ]
          },
          "metadata": {
            "tags": []
          },
          "execution_count": 15
        }
      ]
    },
    {
      "cell_type": "code",
      "metadata": {
        "id": "agaIvMqp4EhU",
        "outputId": "cad32e7e-9097-40b1-cdf2-023f9e55661d",
        "colab": {
          "base_uri": "https://localhost:8080/",
          "height": 52
        }
      },
      "source": [
        "mc.mode()"
      ],
      "execution_count": null,
      "outputs": [
        {
          "output_type": "execute_result",
          "data": {
            "text/plain": [
              "0    0.0\n",
              "dtype: float64"
            ]
          },
          "metadata": {
            "tags": []
          },
          "execution_count": 16
        }
      ]
    },
    {
      "cell_type": "code",
      "metadata": {
        "id": "l7UtJM4f4GbD",
        "outputId": "959f4860-121b-4353-988c-2b7f8dae2a7a",
        "colab": {
          "base_uri": "https://localhost:8080/",
          "height": 34
        }
      },
      "source": [
        "variance=mc.var()\n",
        "variance"
      ],
      "execution_count": null,
      "outputs": [
        {
          "output_type": "execute_result",
          "data": {
            "text/plain": [
              "4063107.0805442533"
            ]
          },
          "metadata": {
            "tags": []
          },
          "execution_count": 26
        }
      ]
    },
    {
      "cell_type": "code",
      "metadata": {
        "id": "1BvRU8BE4gsV",
        "outputId": "1b2504be-c6f2-4e4d-8dda-ae6967212cdd",
        "colab": {
          "base_uri": "https://localhost:8080/",
          "height": 34
        }
      },
      "source": [
        "mc.std()"
      ],
      "execution_count": null,
      "outputs": [
        {
          "output_type": "execute_result",
          "data": {
            "text/plain": [
              "2015.7150295972526"
            ]
          },
          "metadata": {
            "tags": []
          },
          "execution_count": 24
        }
      ]
    },
    {
      "cell_type": "code",
      "metadata": {
        "id": "aPrM7qv_4jC1",
        "outputId": "fd74932f-88c9-4336-8eea-abffb0a6536d",
        "colab": {
          "base_uri": "https://localhost:8080/",
          "height": 34
        }
      },
      "source": [
        "np.sqrt(variance)"
      ],
      "execution_count": null,
      "outputs": [
        {
          "output_type": "execute_result",
          "data": {
            "text/plain": [
              "2015.7150295972526"
            ]
          },
          "metadata": {
            "tags": []
          },
          "execution_count": 25
        }
      ]
    },
    {
      "cell_type": "code",
      "metadata": {
        "id": "S4Rs5nMY8IUK",
        "outputId": "e7e8ba76-44ce-4737-c302-5cc450807e14",
        "colab": {
          "resources": {
            "http://localhost:8080/nbextensions/google.colab/files.js": {
              "data": "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",
              "ok": true,
              "headers": [
                [
                  "content-type",
                  "application/javascript"
                ]
              ],
              "status": 200,
              "status_text": "OK"
            }
          },
          "base_uri": "https://localhost:8080/",
          "height": 83
        }
      },
      "source": [
        "from google.colab import files\n",
        "uploaded = files.upload()"
      ],
      "execution_count": null,
      "outputs": [
        {
          "output_type": "display_data",
          "data": {
            "text/html": [
              "\n",
              "     <input type=\"file\" id=\"files-294634a3-e57d-4f40-8a57-30da4c4013d8\" name=\"files[]\" multiple disabled />\n",
              "     <output id=\"result-294634a3-e57d-4f40-8a57-30da4c4013d8\">\n",
              "      Upload widget is only available when the cell has been executed in the\n",
              "      current browser session. Please rerun this cell to enable.\n",
              "      </output>\n",
              "      <script src=\"/nbextensions/google.colab/files.js\"></script> "
            ],
            "text/plain": [
              "<IPython.core.display.HTML object>"
            ]
          },
          "metadata": {
            "tags": []
          }
        },
        {
          "output_type": "stream",
          "text": [
            "Saving API_PAK_DS2_en_excel_v2_45086.xls to API_PAK_DS2_en_excel_v2_45086.xls\n"
          ],
          "name": "stdout"
        }
      ]
    },
    {
      "cell_type": "code",
      "metadata": {
        "id": "g4h6b6rP4ofW",
        "outputId": "9eb396e1-6d98-44a3-fa2c-535fb3bd342a",
        "colab": {
          "base_uri": "https://localhost:8080/",
          "height": 377
        }
      },
      "source": [
        "# Import the data\n",
        "#income =pd.read_csv( 'API_PAK_DS2_en_csv_v2_49967.csv')\n",
        "income=pd.read_excel('API_PAK_DS2_en_excel_v2_45086.xls')\n",
        "#df=pd.DataFrame('API_PAK_DS2_en_excel_v2_45086.xls')\n",
        "#income.set_index('')\n",
        "\n",
        "income=pd.read_csv('Income_per_Capita')\n",
        "\n",
        "# Inspect the result\n",
        "income.info()\n",
        "\n",
        "# Sort the data by income\n",
        "income = income.sort_values('Income per Capita', ascending=False)\n",
        "\n",
        "# Display the first and last five rows\n",
        "print(income.head(5))\n",
        "print(income.tail(5))"
      ],
      "execution_count": null,
      "outputs": [
        {
          "output_type": "error",
          "ename": "ValueError",
          "evalue": "ignored",
          "traceback": [
            "\u001b[0;31m---------------------------------------------------------------------------\u001b[0m",
            "\u001b[0;31mValueError\u001b[0m                                Traceback (most recent call last)",
            "\u001b[0;32m<ipython-input-35-bcda6c4c81db>\u001b[0m in \u001b[0;36m<module>\u001b[0;34m()\u001b[0m\n\u001b[1;32m      1\u001b[0m \u001b[0mincome\u001b[0m\u001b[0;34m=\u001b[0m\u001b[0mpd\u001b[0m\u001b[0;34m.\u001b[0m\u001b[0mread_excel\u001b[0m\u001b[0;34m(\u001b[0m\u001b[0;34m'API_PAK_DS2_en_excel_v2_45086.xls'\u001b[0m\u001b[0;34m)\u001b[0m\u001b[0;34m\u001b[0m\u001b[0;34m\u001b[0m\u001b[0m\n\u001b[0;32m----> 2\u001b[0;31m \u001b[0mdf\u001b[0m\u001b[0;34m=\u001b[0m\u001b[0mpd\u001b[0m\u001b[0;34m.\u001b[0m\u001b[0mDataFrame\u001b[0m\u001b[0;34m(\u001b[0m\u001b[0;34m'API_PAK_DS2_en_excel_v2_45086.xls'\u001b[0m\u001b[0;34m)\u001b[0m\u001b[0;34m\u001b[0m\u001b[0;34m\u001b[0m\u001b[0m\n\u001b[0m\u001b[1;32m      3\u001b[0m \u001b[0;34m\u001b[0m\u001b[0m\n\u001b[1;32m      4\u001b[0m \u001b[0;31m# Inspect the result\u001b[0m\u001b[0;34m\u001b[0m\u001b[0;34m\u001b[0m\u001b[0;34m\u001b[0m\u001b[0m\n\u001b[1;32m      5\u001b[0m \u001b[0mincome\u001b[0m\u001b[0;34m.\u001b[0m\u001b[0minfo\u001b[0m\u001b[0;34m(\u001b[0m\u001b[0;34m)\u001b[0m\u001b[0;34m\u001b[0m\u001b[0;34m\u001b[0m\u001b[0m\n",
            "\u001b[0;32m/usr/local/lib/python3.6/dist-packages/pandas/core/frame.py\u001b[0m in \u001b[0;36m__init__\u001b[0;34m(self, data, index, columns, dtype, copy)\u001b[0m\n\u001b[1;32m    466\u001b[0m                                    dtype=values.dtype, copy=False)\n\u001b[1;32m    467\u001b[0m             \u001b[0;32melse\u001b[0m\u001b[0;34m:\u001b[0m\u001b[0;34m\u001b[0m\u001b[0;34m\u001b[0m\u001b[0m\n\u001b[0;32m--> 468\u001b[0;31m                 \u001b[0;32mraise\u001b[0m \u001b[0mValueError\u001b[0m\u001b[0;34m(\u001b[0m\u001b[0;34m'DataFrame constructor not properly called!'\u001b[0m\u001b[0;34m)\u001b[0m\u001b[0;34m\u001b[0m\u001b[0;34m\u001b[0m\u001b[0m\n\u001b[0m\u001b[1;32m    469\u001b[0m \u001b[0;34m\u001b[0m\u001b[0m\n\u001b[1;32m    470\u001b[0m         \u001b[0mNDFrame\u001b[0m\u001b[0;34m.\u001b[0m\u001b[0m__init__\u001b[0m\u001b[0;34m(\u001b[0m\u001b[0mself\u001b[0m\u001b[0;34m,\u001b[0m \u001b[0mmgr\u001b[0m\u001b[0;34m,\u001b[0m \u001b[0mfastpath\u001b[0m\u001b[0;34m=\u001b[0m\u001b[0;32mTrue\u001b[0m\u001b[0;34m)\u001b[0m\u001b[0;34m\u001b[0m\u001b[0;34m\u001b[0m\u001b[0m\n",
            "\u001b[0;31mValueError\u001b[0m: DataFrame constructor not properly called!"
          ]
        }
      ]
    },
    {
      "cell_type": "code",
      "metadata": {
        "id": "vCCMdPfR6YlC"
      },
      "source": [
        "output:\n",
        "    <class 'pandas.core.frame.DataFrame'>\n",
        "    RangeIndex: 184 entries, 0 to 183\n",
        "    Data columns (total 2 columns):\n",
        "    Country              184 non-null object\n",
        "    Income per Capita    184 non-null float64\n",
        "    dtypes: float64(1), object(1)\n",
        "    memory usage: 3.0+ KB\n",
        "                   Country  Income per Capita\n",
        "    133              Qatar       141542.66280\n",
        "    97    Macao SAR, China       111496.62940\n",
        "    96          Luxembourg       102051.68030\n",
        "    144          Singapore        85382.30227\n",
        "    23   Brunei Darussalam        78369.29102\n",
        "                          Country  Income per Capita\n",
        "    121                     Niger         955.483324\n",
        "    94                    Liberia         835.366935\n",
        "    37           Congo, Dem. Rep.         784.365232\n",
        "    26                    Burundi         727.150789\n",
        "    31   Central African Republic         618.752859\n"
      ],
      "execution_count": null,
      "outputs": []
    },
    {
      "cell_type": "markdown",
      "metadata": {
        "id": "LVPUCHDl-za9"
      },
      "source": [
        "output:\n",
        "    <class 'pandas.core.frame.DataFrame'>\n",
        "    RangeIndex: 184 entries, 0 to 183\n",
        "    Data columns (total 2 columns):\n",
        "    Country              184 non-null object\n",
        "    Income per Capita    184 non-null float64\n",
        "    dtypes: float64(1), object(1)\n",
        "    memory usage: 3.0+ KB\n",
        "                   Country  Income per Capita\n",
        "    133              Qatar       141542.66280\n",
        "    97    Macao SAR, China       111496.62940\n",
        "    96          Luxembourg       102051.68030\n",
        "    144          Singapore        85382.30227\n",
        "    23   Brunei Darussalam        78369.29102\n",
        "                          Country  Income per Capita\n",
        "    121                     Niger         955.483324\n",
        "    94                    Liberia         835.366935\n",
        "    37           Congo, Dem. Rep.         784.365232\n",
        "    26                    Burundi         727.150789\n",
        "    31   Central African Republic         618.752859\n"
      ]
    },
    {
      "cell_type": "code",
      "metadata": {
        "id": "yuH_b2Wd73Ku"
      },
      "source": [
        "# Calculate the mean\n",
        "print(income['Income per Capita'].mean())\n",
        "\n",
        "# Calculate the median\n",
        "print(income['Income per Capita'].median())\n",
        "\n",
        "# Create the new column\n",
        "income['Income per Capita (,000)'] = income['Income per Capita']//1000\n",
        "\n",
        "# Calculate the mode of the new column\n",
        "income['Income per Capita (,000)'].mode()"
      ],
      "execution_count": null,
      "outputs": []
    },
    {
      "cell_type": "code",
      "metadata": {
        "id": "HgBiqSNh-NEJ"
      },
      "source": [
        "output:\n",
        "19469.41956573696\n",
        "11620.932519999998"
      ],
      "execution_count": null,
      "outputs": []
    },
    {
      "cell_type": "code",
      "metadata": {
        "id": "hQeD2uGu-V1z"
      },
      "source": [
        "mx=pd.read_excel('listings.xlsx',sheet_name='amex',na_values='n/a')"
      ],
      "execution_count": null,
      "outputs": []
    },
    {
      "cell_type": "code",
      "metadata": {
        "id": "zkx8tvNfEgAA"
      },
      "source": [
        "mc=mx['MarketCap'].div(10**6)"
      ],
      "execution_count": null,
      "outputs": []
    },
    {
      "cell_type": "code",
      "metadata": {
        "id": "eL41eaREEnra"
      },
      "source": [
        "med=mc.quantile(.5)"
      ],
      "execution_count": null,
      "outputs": []
    },
    {
      "cell_type": "code",
      "metadata": {
        "id": "iTNxQvPKEwPd",
        "outputId": "21344ec1-cff1-47aa-cda8-9b1ebe100ea0",
        "colab": {
          "base_uri": "https://localhost:8080/",
          "height": 34
        }
      },
      "source": [
        "med==mc.median()"
      ],
      "execution_count": null,
      "outputs": [
        {
          "output_type": "execute_result",
          "data": {
            "text/plain": [
              "True"
            ]
          },
          "metadata": {
            "tags": []
          },
          "execution_count": 41
        }
      ]
    },
    {
      "cell_type": "code",
      "metadata": {
        "id": "mKHg-qjkEz-7",
        "outputId": "dcf5ffb9-3fb6-4bb2-921c-3acb776f51cd",
        "colab": {
          "base_uri": "https://localhost:8080/",
          "height": 34
        }
      },
      "source": [
        "quantiles=mc.quantile([.25,.75])\n",
        "quantiles[.25]"
      ],
      "execution_count": null,
      "outputs": [
        {
          "output_type": "execute_result",
          "data": {
            "text/plain": [
              "12.470698644150001"
            ]
          },
          "metadata": {
            "tags": []
          },
          "execution_count": 46
        }
      ]
    },
    {
      "cell_type": "code",
      "metadata": {
        "id": "xRZFRilGE_l-",
        "outputId": "6b7e4218-ac35-4f82-cdee-e8db23bba2d1",
        "colab": {
          "base_uri": "https://localhost:8080/",
          "height": 34
        }
      },
      "source": [
        "quantiles[.75]"
      ],
      "execution_count": null,
      "outputs": [
        {
          "output_type": "execute_result",
          "data": {
            "text/plain": [
              "196.277100975"
            ]
          },
          "metadata": {
            "tags": []
          },
          "execution_count": 47
        }
      ]
    },
    {
      "cell_type": "code",
      "metadata": {
        "id": "0XMtQKUpFCjf",
        "outputId": "7e85ac75-2cf5-4ff0-c520-0b80df6c3e71",
        "colab": {
          "base_uri": "https://localhost:8080/",
          "height": 34
        }
      },
      "source": [
        "quantiles[.75]-quantiles[.25]"
      ],
      "execution_count": null,
      "outputs": [
        {
          "output_type": "execute_result",
          "data": {
            "text/plain": [
              "183.80640233085"
            ]
          },
          "metadata": {
            "tags": []
          },
          "execution_count": 45
        }
      ]
    },
    {
      "cell_type": "code",
      "metadata": {
        "id": "m9ZO_olmFMmA"
      },
      "source": [
        "dec=np.arange(start=.1,stop=.91,step=.1)"
      ],
      "execution_count": null,
      "outputs": []
    },
    {
      "cell_type": "code",
      "metadata": {
        "id": "AiS1a7y0FqSG",
        "outputId": "f1297a5c-1176-4ad8-a89c-30aed2545283",
        "colab": {
          "base_uri": "https://localhost:8080/",
          "height": 34
        }
      },
      "source": [
        "dec"
      ],
      "execution_count": null,
      "outputs": [
        {
          "output_type": "execute_result",
          "data": {
            "text/plain": [
              "array([0.1, 0.2, 0.3, 0.4, 0.5, 0.6, 0.7, 0.8, 0.9])"
            ]
          },
          "metadata": {
            "tags": []
          },
          "execution_count": 49
        }
      ]
    },
    {
      "cell_type": "code",
      "metadata": {
        "id": "FvcI03LmFrLK",
        "outputId": "25617c88-4d9d-457f-a95d-6f29e829b55f",
        "colab": {
          "base_uri": "https://localhost:8080/",
          "height": 191
        }
      },
      "source": [
        "mc.quantile(dec)"
      ],
      "execution_count": null,
      "outputs": [
        {
          "output_type": "execute_result",
          "data": {
            "text/plain": [
              "0.1      0.000000\n",
              "0.2      8.569657\n",
              "0.3     17.787227\n",
              "0.4     34.492401\n",
              "0.5     57.321627\n",
              "0.6     94.860905\n",
              "0.7    149.736585\n",
              "0.8    242.271626\n",
              "0.9    496.352003\n",
              "Name: MarketCap, dtype: float64"
            ]
          },
          "metadata": {
            "tags": []
          },
          "execution_count": 50
        }
      ]
    },
    {
      "cell_type": "code",
      "metadata": {
        "id": "tqthLHzUFu-n",
        "outputId": "86f1008b-345c-4a6d-d014-896afd8acd95",
        "colab": {
          "base_uri": "https://localhost:8080/",
          "height": 387
        }
      },
      "source": [
        "title=\"AMEX Market Capitalization (Million Usd)\"\n",
        "mc.quantile(dec).plot(kind='bar',title=title)\n",
        "plt.tight_layout\n",
        "plt.show()"
      ],
      "execution_count": null,
      "outputs": [
        {
          "output_type": "display_data",
          "data": {
            "image/png": "[encoded data removed]",
            "text/plain": [
              "<Figure size 432x288 with 1 Axes>"
            ]
          },
          "metadata": {
            "tags": []
          }
        }
      ]
    },
    {
      "cell_type": "code",
      "metadata": {
        "id": "7ZZ3eeJsGOzd",
        "outputId": "017e74bf-f6ec-4586-eab4-135ab169240f",
        "colab": {
          "base_uri": "https://localhost:8080/",
          "height": 173
        }
      },
      "source": [
        "mc.describe()"
      ],
      "execution_count": null,
      "outputs": [
        {
          "output_type": "execute_result",
          "data": {
            "text/plain": [
              "count      310.000000\n",
              "mean       384.565963\n",
              "std       2015.715030\n",
              "min          0.000000\n",
              "25%         12.470699\n",
              "50%         57.321627\n",
              "75%        196.277101\n",
              "max      21859.874046\n",
              "Name: MarketCap, dtype: float64"
            ]
          },
          "metadata": {
            "tags": []
          },
          "execution_count": 52
        }
      ]
    },
    {
      "cell_type": "code",
      "metadata": {
        "id": "_mPu-7XlGWq3",
        "outputId": "2e732366-9dd5-4f24-f8cb-7586c6550d55",
        "colab": {
          "base_uri": "https://localhost:8080/",
          "height": 278
        }
      },
      "source": [
        "mc.describe(percentiles=np.arange(.1,.91,.1))"
      ],
      "execution_count": null,
      "outputs": [
        {
          "output_type": "execute_result",
          "data": {
            "text/plain": [
              "count      310.000000\n",
              "mean       384.565963\n",
              "std       2015.715030\n",
              "min          0.000000\n",
              "10%          0.000000\n",
              "20%          8.569657\n",
              "30.0%       17.787227\n",
              "40%         34.492401\n",
              "50%         57.321627\n",
              "60%         94.860905\n",
              "70%        149.736585\n",
              "80%        242.271626\n",
              "90%        496.352003\n",
              "max      21859.874046\n",
              "Name: MarketCap, dtype: float64"
            ]
          },
          "metadata": {
            "tags": []
          },
          "execution_count": 55
        }
      ]
    },
    {
      "cell_type": "code",
      "metadata": {
        "id": "YoUxtssAGkV5"
      },
      "source": [],
      "execution_count": null,
      "outputs": []
    },
    {
      "cell_type": "markdown",
      "metadata": {
        "id": "ifS8cyTZHArO"
      },
      "source": [
        "A quantile is a measure of dispersion created by dividing a frequency distribution of a DataFrame into even groups."
      ]
    },
    {
      "cell_type": "code",
      "metadata": {
        "id": "2RuPhTLtHDqS"
      },
      "source": [
        "# Calculate mean\n",
        "mean = income['Income per Capita'].mean()\n",
        "\n",
        "# Calculate standard deviation\n",
        "std = income['Income per Capita'].std()\n",
        "\n",
        "# Calculate and print lower and upper bounds\n",
        "bounds = [mean-std, std+mean]\n",
        "print(bounds)\n",
        "\n",
        "# Calculate and print first and third quartiles\n",
        "quantiles = income['Income per Capita'].quantile([0.25, 0.75])\n",
        "print(quantiles)\n",
        "\n",
        "# Calculate and print IQR\n",
        "#iqr = 0.75 - 0.25\n",
        "#print(iqr)\n",
        "# Calculate and print IQR\n",
        "iqr = quantiles[0.75] - quantiles[0.25]\n",
        "print(iqr)"
      ],
      "execution_count": null,
      "outputs": []
    },
    {
      "cell_type": "code",
      "metadata": {
        "id": "eoPCyJ9WKUbJ"
      },
      "source": [],
      "execution_count": null,
      "outputs": []
    },
    {
      "cell_type": "code",
      "metadata": {
        "id": "ENMG21k3I02n"
      },
      "source": [
        "[-2497.4416414691186, 41436.280772943035]\n",
        "0.25     3922.35894\n",
        "0.75    26558.75467\n",
        "Name: Income per Capita, dtype: float64\n",
        "0.5\n"
      ],
      "execution_count": null,
      "outputs": []
    },
    {
      "cell_type": "code",
      "metadata": {
        "id": "hQyAGhXWKW09"
      },
      "source": [
        " [-2497.4416414691186, 41436.280772943035]\n",
        "    0.25     3922.35894\n",
        "    0.75    26558.75467\n",
        "    Name: Income per Capita, dtype: float64\n",
        "    22636.39573\n"
      ],
      "execution_count": null,
      "outputs": []
    },
    {
      "cell_type": "markdown",
      "metadata": {
        "id": "BisDLAvhKnmB"
      },
      "source": [
        "A decile is a special kind of quantile obtained by dividing the distribution of a particular dataset by ten. Deciles (as well as any other kind of quantile) can be created by supplying the following numpy function to .quantile(), where start is the beginning of the interval (inclusive), stop is the end of the interval (exclusive), and step is the spacing between any two adjacent values:"
      ]
    },
    {
      "cell_type": "code",
      "metadata": {
        "id": "QOpzU2-LKpfT"
      },
      "source": [
        "# Generate range of deciles\n",
        "quantiles = np.arange(.1, .91, .1)\n",
        "\n",
        "# Print them\n",
        "print(quantiles)\n",
        "\n",
        "# Calculate deciles for 'Income per Capita'\n",
        "deciles = income['Income per Capita'].quantile(quantiles)\n",
        "\n",
        "# Print them\n",
        "print(deciles)\n",
        "\n",
        "# Plot deciles as a bar chart\n",
        "deciles.plot(kind='bar', title='Global Income per Capita - Deciles')\n",
        "\n",
        "# Make sure to use the tight layout!\n",
        "plt.tight_layout()\n",
        "\n",
        "# Show the plot\n",
        "plt.show()"
      ],
      "execution_count": null,
      "outputs": []
    },
    {
      "cell_type": "code",
      "metadata": {
        "id": "zqcKwqJMNty4"
      },
      "source": [
        "<script.py> output:\n",
        "    [0.1 0.2 0.3 0.4 0.5 0.6 0.7 0.8 0.9]\n",
        "    0.1     1805.906426\n",
        "    0.2     3177.255688\n",
        "    0.3     5506.323195\n",
        "    0.4     8510.729683\n",
        "    0.5    11620.932520\n",
        "    0.6    15790.369076\n",
        "    0.7    22563.075646\n",
        "    0.8    32517.693902\n",
        "    0.9    47377.886804\n",
        "    Name: Income per Capita, dtype: float64\n"
      ],
      "execution_count": null,
      "outputs": []
    },
    {
      "cell_type": "code",
      "metadata": {
        "id": "E8rNT7wpPKgn"
      },
      "source": [
        "image.svg"
      ],
      "execution_count": null,
      "outputs": []
    },
    {
      "cell_type": "markdown",
      "metadata": {
        "id": "YY2z-mtgN8Kl"
      },
      "source": [
        "You can retrieve all major central tendency, dispersion, and shape statistics of a distribution at once with the pandas .describe() method. The default value of its optional percentiles argument corresponds with quartiles, but you can supply your own list of percentiles"
      ]
    },
    {
      "cell_type": "code",
      "metadata": {
        "id": "p4BdzRv6N_im"
      },
      "source": [
        "1]: income['Income per Capita'].describe()\n",
        "Out[1]:\n",
        "count       184.000000\n",
        "mean      19469.419566\n",
        "std       21966.861207\n",
        "min         618.752859\n",
        "25%        3922.358940\n",
        "50%       11620.932520\n",
        "75%       26558.754670\n",
        "max      141542.662800\n",
        "Name: Income per Capita, dtype: float64\n"
      ],
      "execution_count": null,
      "outputs": []
    },
    {
      "cell_type": "code",
      "metadata": {
        "id": "c71UTkAiQskv"
      },
      "source": [
        "In [10]: income['Income per Capita'].describe(percentiles=np.arange(.1,.91,.1))\n",
        "Out[10]:\n",
        "count       184.000000\n",
        "mean      19469.419566\n",
        "std       21966.861207\n",
        "min         618.752859\n",
        "10%        1805.906426\n",
        "20%        3177.255688\n",
        "30.0%      5506.323195\n",
        "40%        8510.729683\n",
        "50%       11620.932520\n",
        "60%       15790.369076\n",
        "70%       22563.075646\n",
        "80%       32517.693902\n",
        "90%       47377.886804\n",
        "max      141542.662800\n",
        "Name: Income per Capita, dtype: float64\n"
      ],
      "execution_count": null,
      "outputs": []
    },
    {
      "cell_type": "code",
      "metadata": {
        "id": "UfpuuqHPQzlF"
      },
      "source": [],
      "execution_count": null,
      "outputs": []
    }
  ]
}