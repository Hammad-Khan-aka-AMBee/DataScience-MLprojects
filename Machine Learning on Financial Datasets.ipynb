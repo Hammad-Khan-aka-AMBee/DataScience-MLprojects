{
  "nbformat": 4,
  "nbformat_minor": 0,
  "metadata": {
    "colab": {
      "provenance": [],
      "include_colab_link": true
    },
    "kernelspec": {
      "name": "python3",
      "display_name": "Python 3"
    }
  },
  "cells": [
    {
      "cell_type": "markdown",
      "metadata": {
        "id": "view-in-github",
        "colab_type": "text"
      },
      "source": [
        "<a href=\"https://colab.research.google.com/github/Hammad-Khan-aka-Ansar-Malik/DataScience-MLprojects/blob/main/learning_datascience_financially.ipynb\" target=\"_parent\"><img src=\"https://colab.research.google.com/assets/colab-badge.svg\" alt=\"Open In Colab\"/></a>"
      ]
    },
    {
      "cell_type": "code",
      "metadata": {
        "id": "PM9RlURJEwDt",
        "outputId": "256800c7-dbe3-4bdc-9b6b-1ed1246b222c",
        "colab": {
          "base_uri": "https://localhost:8080/",
          "height": 131
        }
      },
      "source": [
        "((import\"Symbol\",\"Name\",\"LastSale\",\"MarketCap\",\"ADR TSO\",\"IPOyear\",\"Sector\",\"Industry\",\"Summary Quote\",\n",
        "\"XXII\",\"22nd Century Group, Inc\",\"1.96\",\"244333600\",\"n/a\",\"n/a\",\"Consumer Non-Durables\",\"Farming/Seeds/Milling\",\"https://www.nasdaq.com/symbol/xxii\",\n",
        "\"FAX\",\"Aberdeen Asia-Pacific Income Fund Inc\",\"4.26\",\"1060018407.12\",\"n/a\",\"1986\",\"n/a\",\"n/a\",\"https://www.nasdaq.com/symbol/fax\",\n",
        "\"IAF\",\"Aberdeen Australia Equity Fund Inc\",\"5.45\",\"123945676.7\",\"n/a\",\"n/a\",\"n/a\",\"n/a\",\"https://www.nasdaq.com/symbol/iaf\",\n",
        "\"AEF\",\"Aberdeen Emerging Markets Equity Income Fund, Inc.\",\"7.46\",\"378608263.88\",\"n/a\",\"n/a\",\"n/a\",\"n/a\",\"https://www.nasdaq.com/symbol/aef\",\n",
        "\"FCO\",\"Aberdeen Global Income Fund, Inc.\",\"8.44\",\"73637219.16\",\"n/a\",\"1992\",\"n/a\",\"n/a\",\"https://www.nasdaq.com/symbol/fco\",\n",
        "\"ACU\",\"Acme United Corporation.\",\"20.71\",\"69422612.3\",\"n/a\",\"1988\",\"Capital Goods\",\"Industrial Machinery/Components\",\"https://www.nasdaq.com/symbol/acu\",\n",
        "\"ATNM\",\"Actinium Pharmaceuticals, Inc.\",\"0.24\",\"38888045.04\",\"n/a\",\"n/a\",\"Health Care\",\"Major Pharmaceuticals\",\"https://www.nasdaq.com/symbol/atnm\",\n",
        "\"AE\",\"Adams Resources & Energy, Inc.\",\"31.81\",\"134173657.51\",\"n/a\",\"n/a\",\"Energy\",\"Oil Refining/Marketing\",\"https://www.nasdaq.com/symbol/ae\",\n",
        "\"ACY\",\"AeroCentury Corp.\",\"8.7\",\"13449190.8\",\"n/a\",\"n/a\",\"Technology\",\"Diversified Commercial Services\",\"https://www.nasdaq.com/symbol/acy\",\n",
        "\"UAVS\",\"AgEagle Aerial Systems, Inc.\",\"0.3081\",\"4605908.2914\",\"n/a\",\"n/a\",\"Capital Goods\",\"Aerospace\",\"https://www.nasdaq.com/symbol/uavs\",\n",
        "\"AGE\",\"AgeX Therapeutics, Inc.\",\"3\",\"112890000\",\"n/a\",\"2018\",\"Health Care\",\"Major Pharmaceuticals\",\"https://www.nasdaq.com/symbol/age\",\n",
        "\"AIRI\",\"Air Industries Group\",\"1.06\",\"30433641.98\",\"n/a\",\"n/a\",\"Capital Goods\",\"Military/Government/Technical\",\"https://www.nasdaq.com/symbol/airi\",\n",
        "\"AXU\",\"Alexco Resource Corp\",\"1.18\",\"138053592.6\",\"n/a\",\"n/a\",\"Basic Industries\",\"Precious Metals\",\"https://www.nasdaq.com/symbol/axu\",\n",
        "\"ALO\",\"Alio Gold Inc.\",\"0.751\",\"63615064.393\",\"n/a\",\"2011\",\"Basic Industries\",\"Precious Metals\",\"https://www.nasdaq.com/symbol/alo\",\n",
        "\"AAU\",\"Almaden Minerals, Ltd.\",\"0.6415\",\"71672690.2385\",\"n/a\",\"2015\",\"Basic Industries\",\"Precious Metals\",\"https://www.nasdaq.com/symbol/aau\",\n",
        "\"APT\",\"Alpha Pro Tech, Ltd.\",\"3.48\",\"46217935.68\",\"n/a\",\"n/a\",\"Health Care\",\"Industrial Specialties\",\"https://www.nasdaq.com/symbol/apt\",\n",
        "\"AAMC\",\"Altisource Asset Management Corp\",\"11.8688\",\"18863333.0848\",\"n/a\",\"n/a\",\"Finance\",\"Real Estate\",\"https://www.nasdaq.com/symbol/aamc\",\n",
        "\"AMBO\",\"Ambow Education Holding Ltd.\",\"3.13\",\"67750596.54\",\"n/a\",\"n/a\",\"Consumer Services\",\"Other Consumer Services\",\"https://www.nasdaq.com/symbol/ambo\",\n",
        "\"DIT\",\"AMCON Distributing Company\",\"96.44\",\"57166545.92\",\"n/a\",\"n/a\",\"Consumer Non-Durables\",\"Food Distributors\",\"https://www.nasdaq.com/symbol/dit\",\n",
        "\"AMS\",\"American Shared Hospital Services\",\"2.95\",\"16856300\",\"n/a\",\"n/a\",\"Health Care\",\"Medical Specialities\",\"https://www.nasdaq.com/symbol/ams\",\n",
        "\"USAS\",\"Americas Silver Corporation\",\"2.43\",\"190485981.99\",\"n/a\",\"2017\",\"Basic Industries\",\"Precious Metals\",\"https://www.nasdaq.com/symbol/usas\",\n",
        "\"AMPE\",\"Ampio Pharmaceuticals, Inc.\",\"0.4056\",\"57476708.8272\",\"n/a\",\"n/a\",\"Health Care\",\"Major Pharmaceuticals\",\"https://www.nasdaq.com/symbol/ampe\",\n",
        "\"ARNC^\",\"Arconic Inc.\",\"87.85\",\"0\",\"n/a\",\"n/a\",\"n/a\",\"n/a\",\"https://www.nasdaq.com/symbol/arnc^\",\n",
        "\"ARMP\",\"Armata Pharmaceuticals, Inc.\",\"3.43\",\"34163064.11\",\"n/a\",\"n/a\",\"Health Care\",\"Biotechnology: Biological Products (No Diagnostic Substances)\",\"https://www.nasdaq.com/symbol/armp\",\n",
        "\"AKG\",\"Asanko Gold Inc.\",\"0.7519\",\"169782489.2666\",\"n/a\",\"n/a\",\"Basic Industries\",\"Mining & Quarrying of Nonmetallic Minerals (No Fuels)\",\"https://www.nasdaq.com/symbol/akg\",\n",
        "\"AINC\",\"Ashford Inc.\",\"30.52\",\"75393342.36\",\"n/a\",\"2014\",\"Consumer Services\",\"Professional Services\",\"https://www.nasdaq.com/symbol/ainc\",\n",
        "\"AUG\",\"Auryn Resources Inc.\",\"1.6\",\"151211505.6\",\"n/a\",\"n/a\",\"Basic Industries\",\"Precious Metals\",\"https://www.nasdaq.com/symbol/aug\",\n",
        "\"AWX\",\"Avalon Holdings Corporation\",\"2.521\",\"9769961.551\",\"n/a\",\"n/a\",\"Public Utilities\",\"Environmental Services\",\"https://www.nasdaq.com/symbol/awx\",\n",
        "\"ASM\",\"Avino Silver\",\"0.5339\",\"34711959.6455\",\"n/a\",\"n/a\",\"Basic Industries\",\"Precious Metals\",\"https://www.nasdaq.com/symbol/asm\",\n",
        "\"BTG\",\"B2Gold Corp\",\"3.13\",\"3157370914.13\",\"n/a\",\"n/a\",\"Basic Industries\",\"Precious Metals\",\"https://www.nasdaq.com/symbol/btg\",\n",
        "\"BTN\",\"Ballantyne Strong, Inc\",\"2.62\",\"38039140.72\",\"n/a\",\"n/a\",\"Miscellaneous\",\"Industrial Machinery/Components\",\"https://www.nasdaq.com/symbol/btn\",\n",
        "\"BKJ\",\"Bancorp of New Jersey, Inc\",\"13.71\",\"99992047.86\",\"n/a\",\"n/a\",\"Finance\",\"Major Banks\",\"https://www.nasdaq.com/symbol/bkj\",\n",
        "\"BCV\",\"Bancroft Fund Limited\",\"22.9911\",\"120824093.2305\",\"n/a\",\"n/a\",\"n/a\",\"n/a\",\"https://www.nasdaq.com/symbol/bcv\",\n",
        "\"BCV^A\",\"Bancroft Fund Limited\",\"26.07\",\"0\",\"n/a\",\"n/a\",\"n/a\",\"n/a\",\"https://www.nasdaq.com/symbol/bcv^a\",\n",
        "\"BHB\",\"Bar Harbor Bankshares, Inc.\",\"25.66\",\"398366727.24\",\"n/a\",\"n/a\",\"Finance\",\"Major Banks\",\"https://www.nasdaq.com/symbol/bhb\",\n",
        "\"BRN\",\"Barnwell Industries, Inc.\",\"1.05\",\"8691018\",\"n/a\",\"n/a\",\"Energy\",\"Oil & Gas Production\",\"https://www.nasdaq.com/symbol/brn\",\n",
        "\"BGSF\",\"BG Staffing Inc\",\"19.1\",\"195391338.3\",\"n/a\",\"n/a\",\"Technology\",\"Professional Services\",\"https://www.nasdaq.com/symbol/bgsf\",\n",
        "\"BIOX\",\"Bioceres Crop Solutions Corp.\",\"5.9\",\"213111050.3\",\"n/a\",\"2018\",\"Basic Industries\",\"Agricultural Chemicals\",\"https://www.nasdaq.com/symbol/biox\",\n",
        "\"BIOX.WS\",\"Bioceres Crop Solutions Corp.\",\"n/a\",\"0\",\"n/a\",\"n/a\",\"n/a\",\"n/a\",\"https://www.nasdaq.com/symbol/biox.ws\",\n",
        "\"BPMX\",\"BioPharmX Corporation\",\"0.4606\",\"4920666.7202\",\"n/a\",\"2015\",\"Health Care\",\"Major Pharmaceuticals\",\"https://www.nasdaq.com/symbol/bpmx\",\n",
        "\"BTX\",\"BioTime, Inc.\",\"1.2\",\"179571433.2\",\"n/a\",\"n/a\",\"Health Care\",\"Biotechnology: Biological Products (No Diagnostic Substances)\",\"https://www.nasdaq.com/symbol/btx\",\n",
        "\"BGI\",\"Birks Group Inc.\",\"1.03\",\"18499707.43\",\"n/a\",\"n/a\",\"Consumer Services\",\"Consumer Specialties\",\"https://www.nasdaq.com/symbol/bgi\",\n",
        "\"BKTI\",\"BK Technologies Corporation\",\"4.1\",\"52077990.9\",\"n/a\",\"n/a\",\"Technology\",\"Radio And Television Broadcasting And Communications Equipment\",\"https://www.nasdaq.com/symbol/bkti\",\n",
        "\"BDR\",\"Blonder Tongue Laboratories, Inc.\",\"0.93\",\"8923549.95\",\"n/a\",\"n/a\",\"Technology\",\"Radio And Television Broadcasting And Communications Equipment\",\"https://www.nasdaq.com/symbol/bdr\",\n",
        "\"BRG\",\"Bluerock Residential Growth REIT, Inc.\",\"11.75\",\"264787143\",\"n/a\",\"2014\",\"Consumer Services\",\"Real Estate Investment Trusts\",\"https://www.nasdaq.com/symbol/brg\",\n",
        "\"BRG^A\",\"Bluerock Residential Growth REIT, Inc.\",\"26.2\",\"0\",\"n/a\",\"n/a\",\"n/a\",\"n/a\",\"https://www.nasdaq.com/symbol/brg^a\",\n",
        "\"BRG^C\",\"Bluerock Residential Growth REIT, Inc.\",\"25.96\",\"0\",\"n/a\",\"n/a\",\"n/a\",\"n/a\",\"https://www.nasdaq.com/symbol/brg^c\",\n",
        "\"BRG^D\",\"Bluerock Residential Growth REIT, Inc.\",\"25.3825\",\"0\",\"n/a\",\"n/a\",\"n/a\",\"n/a\",\"https://www.nasdaq.com/symbol/brg^d\",\n",
        "\"DMF\",\"BNY Mellon Municipal Income Inc.\",\"8.58\",\"178003090.98\",\"n/a\",\"1988\",\"n/a\",\"n/a\",\"https://www.nasdaq.com/symbol/dmf\",\n",
        "\"BWL.A\",\"Bowl America, Inc.\",\"n/a\",\"0\",\"n/a\",\"n/a\",\"n/a\",\"n/a\",\"https://www.nasdaq.com/symbol/bwl.a\",\n",
        "\"CMCL\",\"Caledonia Mining Corporation Plc\",\"6\",\"64499424\",\"n/a\",\"n/a\",\"Basic Industries\",\"Precious Metals\",\"https://www.nasdaq.com/symbol/cmcl\",\n",
        "\"CEI\",\"Camber Energy, Inc.\",\"3.81\",\"8210542.38\",\"n/a\",\"n/a\",\"Energy\",\"Oil & Gas Production\",\"https://www.nasdaq.com/symbol/cei\",\n",
        "\"CANF\",\"Can-Fite Biopharma Ltd\",\"3.04\",\"10105124.16\",\"n/a\",\"n/a\",\"Health Care\",\"Major Pharmaceuticals\",\"https://www.nasdaq.com/symbol/canf\",\n",
        "\"ROX\",\"Castle Brands, Inc.\",\"0.5693\",\"96301463.2389\",\"n/a\",\"2006\",\"Consumer Non-Durables\",\"Beverages (Production/Distribution)\",\"https://www.nasdaq.com/symbol/rox\",\n",
        "\"YCBD\",\"cbdMD, Inc.\",\"4.46\",\"123632787.76\",\"n/a\",\"2017\",\"Consumer Non-Durables\",\"Package Goods/Cosmetics\",\"https://www.nasdaq.com/symbol/ycbd\",\n",
        "\"CVM\",\"Cel-Sci Corporation\",\"6.84\",\"230527507.68\",\"n/a\",\"n/a\",\"Health Care\",\"Biotechnology: Biological Products (No Diagnostic Substances)\",\"https://www.nasdaq.com/symbol/cvm\",\n",
        "\"CET\",\"Central Securities Corporation\",\"30.86\",\"786395072.76\",\"n/a\",\"n/a\",\"n/a\",\"n/a\",\"https://www.nasdaq.com/symbol/cet\",\n",
        "\"LEU\",\"Centrus Energy Corp.\",\"3.26\",\"30831088.14\",\"n/a\",\"2014\",\"Basic Industries\",\"Mining & Quarrying of Nonmetallic Minerals (No Fuels)\",\"https://www.nasdaq.com/symbol/leu\",\n",
        "\"CHAC\",\"Chardan Healthcare Acquisition Corp.\",\"9.8\",\"85750000\",\"n/a\",\"2019\",\"Finance\",\"Business Services\",\"https://www.nasdaq.com/symbol/chac\",\n",
        "\"CHAC.U\",\"Chardan Healthcare Acquisition Corp.\",\"n/a\",\"0\",\"n/a\",\"2018\",\"n/a\",\"n/a\",\"https://www.nasdaq.com/symbol/chac.u\",\n",
        "\"CHAC.WS\",\"Chardan Healthcare Acquisition Corp.\",\"n/a\",\"0\",\"n/a\",\"n/a\",\"n/a\",\"n/a\",\"https://www.nasdaq.com/symbol/chac.ws\",\n",
        "\"CCF\",\"Chase Corporation\",\"101.27\",\"953185950.21\",\"n/a\",\"n/a\",\"Consumer Durables\",\"Building Products\",\"https://www.nasdaq.com/symbol/ccf\",\n",
        "\"CQP\",\"Cheniere Energy Partners, LP\",\"43.65\",\"21126998218.95\",\"n/a\",\"2007\",\"Public Utilities\",\"Oil/Gas Transmission\",\"https://www.nasdaq.com/symbol/cqp\",\n",
        "\"LNG\",\"Cheniere Energy, Inc.\",\"68.48\",\"17627712363.52\",\"n/a\",\"n/a\",\"Public Utilities\",\"Oil/Gas Transmission\",\"https://www.nasdaq.com/symbol/lng\",\n",
        "\"CVR\",\"Chicago Rivet & Machine Co.\",\"26.9\",\"25988950.8\",\"n/a\",\"n/a\",\"Technology\",\"Industrial Machinery/Components\",\"https://www.nasdaq.com/symbol/cvr\",\n",
        "\"CPHI\",\"China Pharma Holdings, Inc.\",\"0.296\",\"12899548.872\",\"n/a\",\"n/a\",\"Health Care\",\"Major Pharmaceuticals\",\"https://www.nasdaq.com/symbol/cphi\",\n",
        "\"CKX\",\"CKX Lands, Inc.\",\"9.65\",\"18745076.75\",\"n/a\",\"n/a\",\"Energy\",\"Oil & Gas Production\",\"https://www.nasdaq.com/symbol/ckx\",\n",
        "\"CCC.WS\",\"Clarivate Analytics Plc\",\"n/a\",\"0\",\"n/a\",\"n/a\",\"n/a\",\"n/a\",\"https://www.nasdaq.com/symbol/ccc.ws\",\n",
        "\"GLV\",\"Clough Global Dividend and Income Fund\",\"11.06\",\"77491193.22\",\"n/a\",\"2004\",\"n/a\",\"n/a\",\"https://www.nasdaq.com/symbol/glv\",\n",
        "\"GLQ\",\"Clough Global Equity Fund\",\"12.76\",\"140687817.16\",\"n/a\",\"2005\",\"n/a\",\"n/a\",\"https://www.nasdaq.com/symbol/glq\",\n",
        "\"GLO\",\"Clough Global Opportunities Fund\",\"9.45\",\"304520693.4\",\"n/a\",\"2006\",\"n/a\",\"n/a\",\"https://www.nasdaq.com/symbol/glo\",\n",
        "\"COHN\",\"Cohen & Company Inc.\",\"4.9\",\"5966357.6\",\"n/a\",\"n/a\",\"Finance\",\"Investment Bankers/Brokers/Service\",\"https://www.nasdaq.com/symbol/cohn\",\n",
        "\"CIX\",\"CompX International Inc.\",\"15.25\",\"189642244.25\",\"n/a\",\"1998\",\"Capital Goods\",\"Industrial Machinery/Components\",\"https://www.nasdaq.com/symbol/cix\",\n",
        "\"LODE\",\"Comstock Mining, Inc.\",\"0.1787\",\"15278850\",\"n/a\",\"n/a\",\"Basic Industries\",\"Precious Metals\",\"https://www.nasdaq.com/symbol/lode\",\n",
        "\"CDOR\",\"Condor Hospitality Trust, Inc.\",\"8.611\",\"102649793.525\",\"n/a\",\"n/a\",\"Consumer Services\",\"Real Estate Investment Trusts\",\"https://www.nasdaq.com/symbol/cdor\",\n",
        "\"CTO\",\"Consolidated-Tomoka Land Co.\",\"60.39\",\"298964620.35\",\"n/a\",\"n/a\",\"Finance\",\"Real Estate\",\"https://www.nasdaq.com/symbol/cto\",\n",
        "\"MCF\",\"Contango Oil & Gas Company\",\"1.52\",\"60597735.12\",\"n/a\",\"n/a\",\"Energy\",\"Oil & Gas Production\",\"https://www.nasdaq.com/symbol/mcf\",\n",
        "\"CUO\",\"Continental Materials Corporation\",\"15.6\",\"26761597.2\",\"n/a\",\"n/a\",\"Capital Goods\",\"Building Materials\",\"https://www.nasdaq.com/symbol/cuo\",\n",
        "\"CMT\",\"Core Molding Technologies Inc\",\"7\",\"57017562\",\"n/a\",\"n/a\",\"Consumer Non-Durables\",\"Plastic Products\",\"https://www.nasdaq.com/symbol/cmt\",\n",
        "\"CVRS\",\"Corindus Vascular Robotics, Inc.\",\"2.81\",\"580827472.08\",\"n/a\",\"2015\",\"Health Care\",\"Medical/Dental Instruments\",\"https://www.nasdaq.com/symbol/cvrs\",\n",
        "\"CRMD\",\"CorMedix Inc.\",\"8.58\",\"204326342.22\",\"n/a\",\"n/a\",\"Health Care\",\"Major Pharmaceuticals\",\"https://www.nasdaq.com/symbol/crmd\",\n",
        "\"CRF\",\"Cornerstone Strategic Return Fund, Inc. (The)\",\"11.51\",\"441566889.11\",\"n/a\",\"n/a\",\"n/a\",\"n/a\",\"https://www.nasdaq.com/symbol/crf\",\n",
        "\"CLM\",\"Cornerstone Strategic Value Fund, Inc.\",\"11.78\",\"855033429.74\",\"n/a\",\"1987\",\"n/a\",\"n/a\",\"https://www.nasdaq.com/symbol/clm\",\n",
        "\"CVU\",\"CPI Aerostructures, Inc.\",\"7.9\",\"93373899.9\",\"n/a\",\"n/a\",\"Capital Goods\",\"Military/Government/Technical\",\"https://www.nasdaq.com/symbol/cvu\",\n",
        "\"CIK\",\"Credit Suisse Asset Management Income Fund, Inc.\",\"3.16\",\"165283575.64\",\"n/a\",\"n/a\",\"n/a\",\"n/a\",\"https://www.nasdaq.com/symbol/cik\",\n",
        "\"DHY\",\"Credit Suisse High Yield Bond Fund\",\"2.54\",\"262833538.34\",\"n/a\",\"1998\",\"n/a\",\"n/a\",\"https://www.nasdaq.com/symbol/dhy\",\n",
        "\"CRHM\",\"CRH Medical Corporation\",\"2.79\",\"201101687.82\",\"n/a\",\"2015\",\"Health Care\",\"Medical/Nursing Services\",\"https://www.nasdaq.com/symbol/crhm\",\n",
        "\"CTEK\",\"CynergisTek, Inc.\",\"4.86\",\"47499312.06\",\"n/a\",\"2017\",\"Miscellaneous\",\"Business Services\",\"https://www.nasdaq.com/symbol/ctek\",\n",
        "\"DXR\",\"Daxor Corporation\",\"7.87\",\"29487772.46\",\"n/a\",\"n/a\",\"Health Care\",\"Medical/Dental Instruments\",\"https://www.nasdaq.com/symbol/dxr\",\n",
        "\"VCF\",\"Delaware Investments Colorado Municipal Income Fund, Inc\",\"14.76\",\"71395596\",\"n/a\",\"1993\",\"n/a\",\"n/a\",\"https://www.nasdaq.com/symbol/vcf\",\n",
        "\"VFL\",\"Delaware Investments Florida Insured Municipal Income Fund\",\"13.36\",\"60499998.48\",\"n/a\",\"1993\",\"n/a\",\"n/a\",\"https://www.nasdaq.com/symbol/vfl\",\n",
        "\"VMM\",\"Delaware Investments Minnesota Municipal Income Fund II, Inc.\",\"12.96\",\"149104476\",\"n/a\",\"1993\",\"n/a\",\"n/a\",\"https://www.nasdaq.com/symbol/vmm\",\n",
        "\"DLA\",\"Delta Apparel, Inc.\",\"20.86\",\"144672798.62\",\"n/a\",\"n/a\",\"Consumer Non-Durables\",\"Apparel\",\"https://www.nasdaq.com/symbol/dla\",\n",
        "\"DNN\",\"Denison Mine Corp\",\"0.534\",\"314821430.694\",\"n/a\",\"n/a\",\"Basic Industries\",\"Precious Metals\",\"https://www.nasdaq.com/symbol/dnn\",\n",
        "\"DGSE\",\"DGSE Companies, Inc.\",\"1.1182\",\"30106842.8342\",\"n/a\",\"n/a\",\"Consumer Services\",\"Consumer Specialties\",\"https://www.nasdaq.com/symbol/dgse\",\n",
        "\"DSS\",\"Document Security Systems, Inc.\",\"0.49\",\"14309333.29\",\"n/a\",\"n/a\",\"Consumer Durables\",\"Containers/Packaging\",\"https://www.nasdaq.com/symbol/dss\",\n",
        "\"DPW\",\"DPW Holdings, Inc.\",\"0.2184\",\"8241349.116\",\"n/a\",\"n/a\",\"Capital Goods\",\"Industrial Machinery/Components\",\"https://www.nasdaq.com/symbol/dpw\",\n",
        "\"DXF\",\"Dunxin Financial Holdings Limited\",\"1.96\",\"40868536.24\",\"n/a\",\"n/a\",\"Finance\",\"Finance: Consumer Services\",\"https://www.nasdaq.com/symbol/dxf\",\n",
        "\"GRF\",\"Eagle Capital Growth Fund, Inc.\",\"7.9549\",\"30966094.9143\",\"n/a\",\"n/a\",\"n/a\",\"n/a\",\"https://www.nasdaq.com/symbol/grf\",\n",
        "\"EVM\",\"Eaton Vance California Municipal Bond Fund\",\"11.3\",\"241756132.4\",\"n/a\",\"2002\",\"n/a\",\"n/a\",\"https://www.nasdaq.com/symbol/evm\",\n",
        "\"CEV\",\"Eaton Vance California Municipal Income Trust\",\"12.46\",\"88884344.5\",\"n/a\",\"1999\",\"n/a\",\"n/a\",\"https://www.nasdaq.com/symbol/cev\",\n",
        "\"EVV\",\"Eaton Vance Limited Duration Income Fund\",\"12.66\",\"1470421247.88\",\"n/a\",\"2003\",\"n/a\",\"n/a\",\"https://www.nasdaq.com/symbol/evv\",\n",
        "\"EIM\",\"Eaton Vance Municipal Bond Fund\",\"12.56\",\"1013925091.2\",\"n/a\",\"2002\",\"n/a\",\"n/a\",\"https://www.nasdaq.com/symbol/eim\",\n",
        "\"ENX\",\"Eaton Vance New York Municipal Bond Fund\",\"12.2\",\"221043186.8\",\"n/a\",\"2002\",\"n/a\",\"n/a\",\"https://www.nasdaq.com/symbol/enx\",\n",
        "\"EVY\",\"Eaton Vance New York Municipal Income Trust\",\"12.9801\",\"71075795.5551\",\"n/a\",\"1999\",\"n/a\",\"n/a\",\"https://www.nasdaq.com/symbol/evy\",\n",
        "\"ELMD\",\"Electromed, Inc.\",\"5.28\",\"44396093.28\",\"n/a\",\"2011\",\"Health Care\",\"Biotechnology: Electromedical & Electrotherapeutic Apparatus\",\"https://www.nasdaq.com/symbol/elmd\",\n",
        "\"ELLO\",\"Ellomay Capital Ltd.\",\"12.87\",\"137439939.78\",\"n/a\",\"n/a\",\"Public Utilities\",\"Electric Utilities: Central\",\"https://www.nasdaq.com/symbol/ello\",\n",
        "\"ECF\",\"Ellsworth Growth and Income Fund Ltd.\",\"10.51\",\"136873485.17\",\"n/a\",\"1986\",\"n/a\",\"n/a\",\"https://www.nasdaq.com/symbol/ecf\",\n",
        "\"ECF^A\",\"Ellsworth Growth and Income Fund Ltd.\",\"25.35\",\"0\",\"n/a\",\"n/a\",\"n/a\",\"n/a\",\"https://www.nasdaq.com/symbol/ecf^a\",\n",
        "\"EMAN\",\"eMagin Corporation\",\"0.47\",\"23105798.31\",\"n/a\",\"n/a\",\"Technology\",\"Semiconductors\",\"https://www.nasdaq.com/symbol/eman\",\n",
        "\"MSN\",\"Emerson Radio Corporation\",\"1.06\",\"22305211.12\",\"n/a\",\"n/a\",\"Consumer Non-Durables\",\"Consumer Electronics/Appliances\",\"https://www.nasdaq.com/symbol/msn\",\n",
        "\"EMX\",\"EMX Royalty Corporation\",\"1.2902\",\"105977621.492\",\"n/a\",\"n/a\",\"Basic Industries\",\"Precious Metals\",\"https://www.nasdaq.com/symbol/emx\",\n",
        "\"UUUU\",\"Energy Fuels Inc\",\"1.92\",\"180066495.36\",\"n/a\",\"n/a\",\"Basic Industries\",\"Mining & Quarrying of Nonmetallic Minerals (No Fuels)\",\"https://www.nasdaq.com/symbol/uuuu\",\n",
        "\"UUUU.WS\",\"Energy Fuels Inc\",\"n/a\",\"0\",\"n/a\",\"n/a\",\"n/a\",\"n/a\",\"https://www.nasdaq.com/symbol/uuuu.ws\",\n",
        "\"ENSV\",\"ENSERVCO Corporation\",\"0.4599\",\"24977090.3571\",\"n/a\",\"n/a\",\"Energy\",\"Oilfield Services/Equipment\",\"https://www.nasdaq.com/symbol/ensv\",\n",
        "\"EGI\",\"Entree Resources Ltd.\",\"0.2939\",\"51394718.8611\",\"n/a\",\"2017\",\"Basic Industries\",\"Precious Metals\",\"https://www.nasdaq.com/symbol/egi\",\n",
        "\"ESP\",\"Espey Mfg. & Electronics Corp.\",\"24.7099\",\"59321378.1587\",\"n/a\",\"n/a\",\"Capital Goods\",\"Industrial Machinery/Components\",\"https://www.nasdaq.com/symbol/esp\",\n",
        "\"EVBN\",\"Evans Bancorp, Inc.\",\"35.78\",\"174730449.26\",\"n/a\",\"n/a\",\"Finance\",\"Major Banks\",\"https://www.nasdaq.com/symbol/evbn\",\n",
        "\"EVI\",\"EVI Industries, Inc.\",\"36.79\",\"431777299.72\",\"n/a\",\"n/a\",\"Consumer Services\",\"Other Consumer Services\",\"https://www.nasdaq.com/symbol/evi\",\n",
        "\"EPM\",\"Evolution Petroleum Corporation, Inc.\",\"6.56\",\"217704522.4\",\"n/a\",\"n/a\",\"Energy\",\"Oil & Gas Production\",\"https://www.nasdaq.com/symbol/epm\",\n",
        "\"FEN\",\"First Trust Energy Income and Growth Fund\",\"23.14\",\"462438460.64\",\"n/a\",\"2004\",\"n/a\",\"n/a\",\"https://www.nasdaq.com/symbol/fen\",\n",
        "\"BDL\",\"Flanigan&#39;s Enterprises, Inc.\",\"22.52\",\"41856730.44\",\"n/a\",\"n/a\",\"Consumer Services\",\"Restaurants\",\"https://www.nasdaq.com/symbol/bdl\",\n",
        "\"FSI\",\"Flexible Solutions International Inc.\",\"4.13\",\"48471930.85\",\"n/a\",\"n/a\",\"Basic Industries\",\"Major Chemicals\",\"https://www.nasdaq.com/symbol/fsi\",\n",
        "\"FTF\",\"Franklin Limited Duration Income Trust\",\"9.67\",\"291442534.45\",\"n/a\",\"2003\",\"n/a\",\"n/a\",\"https://www.nasdaq.com/symbol/ftf\",\n",
        "\"FSP\",\"Franklin Street Properties Corp.\",\"7.61\",\"816029089.55\",\"n/a\",\"n/a\",\"Consumer Services\",\"Real Estate Investment Trusts\",\"https://www.nasdaq.com/symbol/fsp\",\n",
        "\"FRD\",\"Friedman Industries Inc.\",\"6.21\",\"43466547.24\",\"n/a\",\"n/a\",\"Capital Goods\",\"Steel/Iron Ore\",\"https://www.nasdaq.com/symbol/frd\",\n",
        "\"FTNW\",\"FTE Networks, Inc.\",\"1.1\",\"28688203.5\",\"n/a\",\"n/a\",\"Public Utilities\",\"Telecommunications Equipment\",\"https://www.nasdaq.com/symbol/ftnw\",\n",
        "\"GGN\",\"GAMCO Global Gold, Natural Reources & Income Trust \",\"4.69\",\"639375332.47\",\"n/a\",\"2005\",\"n/a\",\"n/a\",\"https://www.nasdaq.com/symbol/ggn\",\n",
        "\"GGN^B\",\"GAMCO Global Gold, Natural Reources & Income Trust \",\"24.54\",\"0\",\"n/a\",\"n/a\",\"n/a\",\"n/a\",\"https://www.nasdaq.com/symbol/ggn^b\",\n",
        "\"JOB\",\"GEE Group Inc.\",\"0.69\",\"8651503.59\",\"n/a\",\"n/a\",\"Technology\",\"Diversified Commercial Services\",\"https://www.nasdaq.com/symbol/job\",\n",
        "\"GMO\",\"General Moly, Inc\",\"0.365\",\"43916390.105\",\"n/a\",\"n/a\",\"Basic Industries\",\"Precious Metals\",\"https://www.nasdaq.com/symbol/gmo\",\n",
        "\"GSB\",\"GlobalSCAPE, Inc.\",\"9.49\",\"163406877.01\",\"n/a\",\"n/a\",\"Technology\",\"Computer Software: Prepackaged Software\",\"https://www.nasdaq.com/symbol/gsb\",\n",
        "\"GSAT\",\"Globalstar, Inc.\",\"0.4418\",\"640660869.2938\",\"n/a\",\"2006\",\"Consumer Services\",\"Telecommunications Equipment\",\"https://www.nasdaq.com/symbol/gsat\",\n",
        "\"GLOW\",\"Glowpoint, Inc.\",\"1.07\",\"5448440\",\"n/a\",\"n/a\",\"Public Utilities\",\"Telecommunications Equipment\",\"https://www.nasdaq.com/symbol/glow\",\n",
        "\"GORO\",\"Gold Resource Corporation\",\"3.29\",\"205330614.09\",\"n/a\",\"n/a\",\"Basic Industries\",\"Precious Metals\",\"https://www.nasdaq.com/symbol/goro\",\n",
        "\"GSV\",\"Gold Standard Ventures Corporation\",\"0.9599\",\"249615166.2714\",\"n/a\",\"n/a\",\"Basic Industries\",\"Mining & Quarrying of Nonmetallic Minerals (No Fuels)\",\"https://www.nasdaq.com/symbol/gsv\",\n",
        "\"AUMN\",\"Golden Minerals Company\",\"0.308\",\"29950977.364\",\"n/a\",\"n/a\",\"Basic Industries\",\"Precious Metals\",\"https://www.nasdaq.com/symbol/aumn\",\n",
        "\"GSS\",\"Golden Star Resources, Ltd\",\"4.76\",\"518206972.36\",\"n/a\",\"n/a\",\"Basic Industries\",\"Precious Metals\",\"https://www.nasdaq.com/symbol/gss\",\n",
        "\"GV\",\"Goldfield Corporation (The)\",\"2.3765\",\"58277802.051\",\"n/a\",\"n/a\",\"Basic Industries\",\"Water Supply\",\"https://www.nasdaq.com/symbol/gv\",\n",
        "\"GDP\",\"Goodrich Petroleum Corporation\",\"11.61\",\"142829911.98\",\"n/a\",\"2017\",\"Energy\",\"Oil & Gas Production\",\"https://www.nasdaq.com/symbol/gdp\",\n",
        "\"GTE\",\"Gran Tierra Energy Inc.\",\"1.62\",\"617179025.34\",\"n/a\",\"n/a\",\"Energy\",\"Oil & Gas Production\",\"https://www.nasdaq.com/symbol/gte\",\n",
        "\"GPL\",\"Great Panther Mining Limited\",\"0.7182\",\"200093529.258\",\"n/a\",\"n/a\",\"Basic Industries\",\"Precious Metals\",\"https://www.nasdaq.com/symbol/gpl\",\n",
        "\"SIM\",\"Grupo Simec, S.A. de C.V.\",\"8.49\",\"1397757330.72\",\"n/a\",\"1993\",\"Basic Industries\",\"Steel/Iron Ore\",\"https://www.nasdaq.com/symbol/sim\",\n",
        "\"HEB\",\"Hemispherx BioPharma, Inc.\",\"4.13\",\"9088544.08\",\"n/a\",\"n/a\",\"Health Care\",\"Biotechnology: Biological Products (No Diagnostic Substances)\",\"https://www.nasdaq.com/symbol/heb\",\n",
        "\"HLM^\",\"Hillman Group Capital Trust\",\"34.7366\",\"0\",\"n/a\",\"n/a\",\"n/a\",\"n/a\",\"https://www.nasdaq.com/symbol/hlm^\",\n",
        "\"HMG\",\"HMG/Courtland Properties, Inc.\",\"13.17\",\"13345055.64\",\"n/a\",\"n/a\",\"Consumer Services\",\"Real Estate Investment Trusts\",\"https://www.nasdaq.com/symbol/hmg\",\n",
        "\"HUSA\",\"Houston American Energy Corporation\",\"0.2214\",\"13843065.996\",\"n/a\",\"n/a\",\"Energy\",\"Oil & Gas Production\",\"https://www.nasdaq.com/symbol/husa\",\n",
        "\"IBIO\",\"iBio, Inc.\",\"0.68\",\"13397671.44\",\"n/a\",\"n/a\",\"Health Care\",\"Major Pharmaceuticals\",\"https://www.nasdaq.com/symbol/ibio\",\n",
        "\"IBO\",\"IBO (Listing Market - NYSE Amex Network B F)\",\"24.84\",\"0\",\"n/a\",\"n/a\",\"n/a\",\"n/a\",\"https://www.nasdaq.com/symbol/ibo\",\n",
        "\"IEC\",\"IEC Electronics Corp.\",\"5.61\",\"57855099.72\",\"n/a\",\"n/a\",\"Technology\",\"Electrical Products\",\"https://www.nasdaq.com/symbol/iec\",\n",
        "\"IMH\",\"Impac Mortgage Holdings, Inc.\",\"3.12\",\"66085833.84\",\"n/a\",\"1997\",\"Consumer Services\",\"Real Estate Investment Trusts\",\"https://www.nasdaq.com/symbol/imh\",\n",
        "\"IMO\",\"Imperial Oil Limited\",\"28.55\",\"21859874046.2\",\"n/a\",\"n/a\",\"Energy\",\"Integrated oil Companies\",\"https://www.nasdaq.com/symbol/imo\",\n",
        "\"IOR\",\"Income Opportunity Realty Investors, Inc.\",\"12\",\"50018568\",\"n/a\",\"n/a\",\"Consumer Services\",\"Real Estate Investment Trusts\",\"https://www.nasdaq.com/symbol/ior\",\n",
        "\"IGC\",\"India Globalization Capital Inc.\",\"1.53\",\"60452452.71\",\"n/a\",\"n/a\",\"Technology\",\"Electronic Components\",\"https://www.nasdaq.com/symbol/igc\",\n",
        "\"INFU\",\"InfuSystems Holdings, Inc.\",\"4.565\",\"89943313.955\",\"n/a\",\"n/a\",\"Health Care\",\"Medical/Dental Instruments\",\"https://www.nasdaq.com/symbol/infu\",\n",
        "\"IHT\",\"InnSuites Hospitality Trust\",\"1.45\",\"13519565.1\",\"n/a\",\"n/a\",\"Consumer Services\",\"Real Estate Investment Trusts\",\"https://www.nasdaq.com/symbol/iht\",\n",
        "\"NSPR\",\"InspireMD Inc.\",\"3.339\",\"4666770.045\",\"n/a\",\"n/a\",\"Health Care\",\"Medical/Dental Instruments\",\"https://www.nasdaq.com/symbol/nspr\",\n",
        "\"NSPR.WS\",\"InspireMD Inc.\",\"n/a\",\"0\",\"n/a\",\"n/a\",\"n/a\",\"n/a\",\"https://www.nasdaq.com/symbol/nspr.ws\",\n",
        "\"NSPR.WS.B\",\"InspireMD Inc.\",\"n/a\",\"0\",\"n/a\",\"n/a\",\"n/a\",\"n/a\",\"https://www.nasdaq.com/symbol/nspr.ws.b\",\n",
        "\"IDN\",\"Intellicheck, Inc.\",\"5.51\",\"86745390.15\",\"n/a\",\"1999\",\"Technology\",\"Computer Software: Prepackaged Software\",\"https://www.nasdaq.com/symbol/idn\",\n",
        "\"INS\",\"Intelligent Systems Corporation\",\"38.15\",\"337665192.2\",\"n/a\",\"1992\",\"Technology\",\"Computer Software: Prepackaged Software\",\"https://www.nasdaq.com/symbol/ins\",\n",
        "\"THM\",\"International Tower Hill Mines Ltd\",\"0.5454\",\"102050806.8078\",\"n/a\",\"n/a\",\"Basic Industries\",\"Precious Metals\",\"https://www.nasdaq.com/symbol/thm\",\n",
        "\"INTT\",\"inTest Corporation\",\"4.67\",\"49341739.61\",\"n/a\",\"1997\",\"Capital Goods\",\"Electrical Products\",\"https://www.nasdaq.com/symbol/intt\",\n",
        "\"INUV\",\"Inuvo, Inc\",\"0.2865\",\"9349686.5535\",\"n/a\",\"n/a\",\"Consumer Services\",\"Advertising\",\"https://www.nasdaq.com/symbol/inuv\",\n",
        "\"VKI\",\"Invesco Advantage Municipal Income Trust II\",\"11.14\",\"494521878.14\",\"n/a\",\"n/a\",\"n/a\",\"n/a\",\"https://www.nasdaq.com/symbol/vki\",\n",
        "\"ISR\",\"IsoRay, Inc.\",\"0.41\",\"27608599.27\",\"n/a\",\"n/a\",\"Health Care\",\"Medical/Dental Instruments\",\"https://www.nasdaq.com/symbol/isr\",\n",
        "\"ISDR\",\"Issuer Direct Corporation\",\"10.4\",\"40087507.2\",\"n/a\",\"n/a\",\"Miscellaneous\",\"Publishing\",\"https://www.nasdaq.com/symbol/isdr\",\n",
        "\"ITP\",\"IT Tech Packaging, Inc.\",\"0.68\",\"14975174.88\",\"n/a\",\"n/a\",\"Consumer Durables\",\"Containers/Packaging\",\"https://www.nasdaq.com/symbol/itp\",\n",
        "\"KIQ\",\"Kelso Technologies Inc\",\"1.45\",\"68396624.7\",\"n/a\",\"n/a\",\"Capital Goods\",\"Railroads\",\"https://www.nasdaq.com/symbol/kiq\",\n",
        "\"LTS\",\"Ladenburg Thalmann Financial Services Inc\",\"3\",\"446095839\",\"n/a\",\"n/a\",\"Finance\",\"Investment Bankers/Brokers/Service\",\"https://www.nasdaq.com/symbol/lts\",\n",
        "\"LTS^A\",\"Ladenburg Thalmann Financial Services Inc\",\"24.99\",\"0\",\"n/a\",\"n/a\",\"n/a\",\"n/a\",\"https://www.nasdaq.com/symbol/lts^a\",\n",
        "\"LTSH\",\"Ladenburg Thalmann Financial Services Inc\",\"25.49\",\"0\",\"n/a\",\"2019\",\"n/a\",\"n/a\",\"https://www.nasdaq.com/symbol/ltsh\",\n",
        "\"LTSK\",\"Ladenburg Thalmann Financial Services Inc\",\"25\",\"0\",\"n/a\",\"2018\",\"Finance\",\"Investment Bankers/Brokers/Service\",\"https://www.nasdaq.com/symbol/ltsk\",\n",
        "\"LTSL\",\"Ladenburg Thalmann Financial Services Inc\",\"23.95\",\"0\",\"n/a\",\"2017\",\"Finance\",\"Investment Bankers/Brokers/Service\",\"https://www.nasdaq.com/symbol/ltsl\",\n",
        "\"LTSF\",\"Ladenburg Thalmann Financial Services Inc.\",\"24.71\",\"0\",\"n/a\",\"2018\",\"Finance\",\"Investment Bankers/Brokers/Service\",\"https://www.nasdaq.com/symbol/ltsf\",\n",
        "\"LGL\",\"LGL Group, Inc. (The)\",\"8.44\",\"41127512.32\",\"n/a\",\"n/a\",\"Capital Goods\",\"Industrial Machinery/Components\",\"https://www.nasdaq.com/symbol/lgl\",\n",
        "\"LBY\",\"Libbey, Inc.\",\"1.62\",\"36089809.2\",\"n/a\",\"1993\",\"Capital Goods\",\"Industrial Machinery/Components\",\"https://www.nasdaq.com/symbol/lby\",\n",
        "\"LLEX\",\"Lilis Energy, Inc.\",\"0.5599\",\"51342782.9684\",\"n/a\",\"n/a\",\"Energy\",\"Oil & Gas Production\",\"https://www.nasdaq.com/symbol/llex\",\n",
        "\"MAG\",\"MAG Silver Corporation\",\"10.25\",\"882976697\",\"n/a\",\"n/a\",\"Basic Industries\",\"Precious Metals\",\"https://www.nasdaq.com/symbol/mag\",\n",
        "\"MHH\",\"Mastech Digital, Inc\",\"5.27\",\"57974985.42\",\"n/a\",\"n/a\",\"Consumer Services\",\"Professional Services\",\"https://www.nasdaq.com/symbol/mhh\",\n",
        "\"MTNB\",\"Matinas Biopharma Holdings, Inc.\",\"0.8554\",\"122314879.4868\",\"n/a\",\"2017\",\"Health Care\",\"Major Pharmaceuticals\",\"https://www.nasdaq.com/symbol/mtnb\",\n",
        "\"MMX\",\"Maverix Metals Inc.\",\"4.2682\",\"460745113.3244\",\"n/a\",\"n/a\",\"Basic Industries\",\"Precious Metals\",\"https://www.nasdaq.com/symbol/mmx\",\n",
        "\"MNI\",\"McClatchy Company (The)\",\"2.35\",\"18624062.55\",\"n/a\",\"1988\",\"Consumer Services\",\"Newspapers/Magazines\",\"https://www.nasdaq.com/symbol/mni\",\n",
        "\"IPB\",\"Merrill Lynch & Co., Inc. 6.0518% Index Plus Trust Certificate\",\"27.5731\",\"0\",\"n/a\",\"n/a\",\"Finance\",\"Finance: Consumer Services\",\"https://www.nasdaq.com/symbol/ipb\",\n",
        "\"MXC\",\"Mexco Energy Corporation\",\"4.04\",\"8242270.64\",\"n/a\",\"n/a\",\"Energy\",\"Oil & Gas Production\",\"https://www.nasdaq.com/symbol/mxc\",\n",
        "\"CCA\",\"MFS California Insured Municipal Trust\",\"11.85\",\"33017358.75\",\"n/a\",\"1999\",\"n/a\",\"n/a\",\"https://www.nasdaq.com/symbol/cca\",\n",
        "\"MICR\",\"Micron Solutions, Inc.\",\"2.505\",\"7194881.04\",\"n/a\",\"n/a\",\"Health Care\",\"Biotechnology: Electromedical & Electrotherapeutic Apparatus\",\"https://www.nasdaq.com/symbol/micr\",\n",
        "\"MLSS\",\"Milestone Scientific, Inc.\",\"0.4025\",\"16431010.7675\",\"n/a\",\"2015\",\"Health Care\",\"Industrial Specialties\",\"https://www.nasdaq.com/symbol/mlss\",\n",
        "\"MRIC\",\"MRI Interventions, Inc.\",\"3.8\",\"42055386.6\",\"n/a\",\"n/a\",\"Health Care\",\"Medical/Dental Instruments\",\"https://www.nasdaq.com/symbol/mric\",\n",
        "\"MYO\",\"Myomo Inc.\",\"0.76\",\"12994064.28\",\"n/a\",\"2017\",\"Health Care\",\"Industrial Specialties\",\"https://www.nasdaq.com/symbol/myo\",\n",
        "\"NNVC\",\"NanoViricides, Inc.\",\"0.237\",\"18186195\",\"n/a\",\"n/a\",\"Health Care\",\"Biotechnology: Commercial Physical & Biological Resarch\",\"https://www.nasdaq.com/symbol/nnvc\",\n",
        "\"ATEST\",\"NASDAQ TEST STOCK\",\"25\",\"0\",\"n/a\",\"n/a\",\"n/a\",\"n/a\",\"https://www.nasdaq.com/symbol/atest\",\n",
        "\"ATEST.A\",\"NASDAQ TEST STOCK\",\"n/a\",\"0\",\"n/a\",\"n/a\",\"n/a\",\"n/a\",\"https://www.nasdaq.com/symbol/atest.a\",\n",
        "\"ATEST.B\",\"NASDAQ TEST STOCK\",\"n/a\",\"0\",\"n/a\",\"n/a\",\"n/a\",\"n/a\",\"https://www.nasdaq.com/symbol/atest.b\",\n",
        "\"ATEST.C\",\"NASDAQ TEST STOCK\",\"n/a\",\"0\",\"n/a\",\"n/a\",\"n/a\",\"n/a\",\"https://www.nasdaq.com/symbol/atest.c\",\n",
        "\"NHC\",\"National HealthCare Corporation\",\"82.57\",\"1263840365.3\",\"n/a\",\"n/a\",\"Health Care\",\"Hospital/Nursing Management\",\"https://www.nasdaq.com/symbol/nhc\",\n",
        "\"NAVB\",\"Navidea Biopharmaceuticals, Inc.\",\"0.6819\",\"12314708.9514\",\"n/a\",\"n/a\",\"Health Care\",\"Biotechnology: In Vitro & In Vivo Diagnostic Substances\",\"https://www.nasdaq.com/symbol/navb\",\n",
        "\"NTIP\",\"Network-1 Technologies, Inc.\",\"2.3482\",\"56097554.0236\",\"n/a\",\"n/a\",\"Miscellaneous\",\"Multi-Sector Companies\",\"https://www.nasdaq.com/symbol/ntip\",\n",
        "\"NBW\",\"Neuberger Berman California Municipal Fund Inc\",\"13.9625\",\"77505837.5\",\"n/a\",\"2002\",\"n/a\",\"n/a\",\"https://www.nasdaq.com/symbol/nbw\",\n",
        "\"NHS\",\"Neuberger Berman High Yield Strategies Fund\",\"11.71\",\"228820250.35\",\"n/a\",\"n/a\",\"n/a\",\"n/a\",\"https://www.nasdaq.com/symbol/nhs\",\n",
        "\"NML\",\"Neuberger Berman MLP and Energy Income Fund Inc.\",\"7.795\",\"441656343.76\",\"n/a\",\"2013\",\"n/a\",\"n/a\",\"https://www.nasdaq.com/symbol/nml\",\n",
        "\"NBH\",\"Neuberger Berman Municipal Fund Inc.\",\"14.88\",\"279803520\",\"n/a\",\"2002\",\"n/a\",\"n/a\",\"https://www.nasdaq.com/symbol/nbh\",\n",
        "\"NBO\",\"Neuberger Berman New York Municipal Fund Inc.\",\"12.47\",\"63310190\",\"n/a\",\"2002\",\"n/a\",\"n/a\",\"https://www.nasdaq.com/symbol/nbo\",\n",
        "\"NRO\",\"Neuberger Berman Real Estate Securities Income Fund, Inc.\",\"5.19\",\"246108087.3\",\"n/a\",\"2003\",\"n/a\",\"n/a\",\"https://www.nasdaq.com/symbol/nro\",\n",
        "\"GBR\",\"New Concept Energy, Inc\",\"1.8\",\"9237481.2\",\"n/a\",\"n/a\",\"Energy\",\"Oil & Gas Production\",\"https://www.nasdaq.com/symbol/gbr\",\n",
        "\"NEN\",\"New England Realty Associates Limited Partnership\",\"60\",\"220663620\",\"n/a\",\"n/a\",\"Consumer Services\",\"Building operators\",\"https://www.nasdaq.com/symbol/nen\",\n",
        "\"NGD\",\"New Gold Inc.\",\"1.28\",\"741267572.48\",\"n/a\",\"n/a\",\"Basic Industries\",\"Precious Metals\",\"https://www.nasdaq.com/symbol/ngd\",\n",
        "\"NXE\",\"Nexgen Energy Ltd.\",\"1.63\",\"579891569.37\",\"n/a\",\"n/a\",\"Basic Industries\",\"Precious Metals\",\"https://www.nasdaq.com/symbol/nxe\",\n",
        "\"HLTH\",\"Nobilis Health Corp.\",\"0.1614\",\"12629625.6966\",\"n/a\",\"2015\",\"Health Care\",\"Hospital/Nursing Management\",\"https://www.nasdaq.com/symbol/hlth\",\n",
        "\"NAK\",\"Northern Dynasty Minerals, Ltd.\",\"0.4784\",\"172938099.5472\",\"n/a\",\"n/a\",\"Basic Industries\",\"Precious Metals\",\"https://www.nasdaq.com/symbol/nak\",\n",
        "\"NOG\",\"Northern Oil and Gas, Inc.\",\"1.84\",\"720088147.36\",\"n/a\",\"n/a\",\"Energy\",\"Oil & Gas Production\",\"https://www.nasdaq.com/symbol/nog\",\n",
        "\"NBY\",\"NovaBay Pharmaceuticals, Inc.\",\"1.4\",\"28759427.2\",\"n/a\",\"2007\",\"Health Care\",\"Major Pharmaceuticals\",\"https://www.nasdaq.com/symbol/nby\",\n",
        "\"NG\",\"Novagold Resources Inc.\",\"6.06\",\"1971131885.28\",\"n/a\",\"n/a\",\"Basic Industries\",\"Precious Metals\",\"https://www.nasdaq.com/symbol/ng\",\n",
        "\"NRCG\",\"NRC Group Holdings Corp.\",\"11.68\",\"444428496.8\",\"n/a\",\"2017\",\"Basic Industries\",\"Environmental Services\",\"https://www.nasdaq.com/symbol/nrcg\",\n",
        "\"NRCG.WS\",\"NRC Group Holdings Corp.\",\"n/a\",\"0\",\"n/a\",\"n/a\",\"n/a\",\"n/a\",\"https://www.nasdaq.com/symbol/nrcg.ws\",\n",
        "\"NTN\",\"NTN Buzztime, Inc.\",\"3.32\",\"9558213.6\",\"n/a\",\"n/a\",\"Consumer Services\",\"Broadcasting\",\"https://www.nasdaq.com/symbol/ntn\",\n",
        "\"NES\",\"Nuverra Environmental Solutions, Inc.\",\"6.77\",\"106349239.46\",\"n/a\",\"2017\",\"Energy\",\"Oilfield Services/Equipment\",\"https://www.nasdaq.com/symbol/nes\",\n",
        "\"OCX\",\"OncoCyte Corporation\",\"2.19\",\"113820497.7\",\"n/a\",\"2015\",\"Health Care\",\"Biotechnology: In Vitro & In Vivo Diagnostic Substances\",\"https://www.nasdaq.com/symbol/ocx\",\n",
        "\"OGEN\",\"Oragenics Inc.\",\"0.4772\",\"22010755.9916\",\"n/a\",\"n/a\",\"Health Care\",\"Major Pharmaceuticals\",\"https://www.nasdaq.com/symbol/ogen\",\n",
        "\"PCG^A\",\"Pacific Gas & Electric Co.\",\"26.95\",\"0\",\"n/a\",\"n/a\",\"n/a\",\"n/a\",\"https://www.nasdaq.com/symbol/pcg^a\",\n",
        "\"PCG^B\",\"Pacific Gas & Electric Co.\",\"25.0001\",\"0\",\"n/a\",\"n/a\",\"n/a\",\"n/a\",\"https://www.nasdaq.com/symbol/pcg^b\",\n",
        "\"PCG^C\",\"Pacific Gas & Electric Co.\",\"22.5\",\"0\",\"n/a\",\"n/a\",\"n/a\",\"n/a\",\"https://www.nasdaq.com/symbol/pcg^c\",\n",
        "\"PCG^D\",\"Pacific Gas & Electric Co.\",\"22.5\",\"0\",\"n/a\",\"n/a\",\"n/a\",\"n/a\",\"https://www.nasdaq.com/symbol/pcg^d\",\n",
        "\"PCG^E\",\"Pacific Gas & Electric Co.\",\"22.6125\",\"0\",\"n/a\",\"n/a\",\"n/a\",\"n/a\",\"https://www.nasdaq.com/symbol/pcg^e\",\n",
        "\"PCG^G\",\"Pacific Gas & Electric Co.\",\"21.5\",\"0\",\"n/a\",\"n/a\",\"n/a\",\"n/a\",\"https://www.nasdaq.com/symbol/pcg^g\",\n",
        "\"PCG^H\",\"Pacific Gas & Electric Co.\",\"20.99\",\"0\",\"n/a\",\"n/a\",\"n/a\",\"n/a\",\"https://www.nasdaq.com/symbol/pcg^h\",\n",
        "\"PCG^I\",\"Pacific Gas & Electric Co.\",\"19.25\",\"0\",\"n/a\",\"n/a\",\"n/a\",\"n/a\",\"https://www.nasdaq.com/symbol/pcg^i\",\n",
        "\"PTN\",\"Palatin Technologies, Inc.\",\"1.05\",\"226334033.1\",\"n/a\",\"n/a\",\"Health Care\",\"Major Pharmaceuticals\",\"https://www.nasdaq.com/symbol/ptn\",\n",
        "\"PZG\",\"Paramount Gold Nevada Corp.\",\"0.878\",\"23284519.612\",\"n/a\",\"2015\",\"Basic Industries\",\"Precious Metals\",\"https://www.nasdaq.com/symbol/pzg\",\n",
        "\"PRK\",\"Park National Corporation\",\"97.21\",\"1618252439.75\",\"n/a\",\"n/a\",\"Finance\",\"Major Banks\",\"https://www.nasdaq.com/symbol/prk\",\n",
        "\"PED\",\"Pedevco Corp.\",\"1.88\",\"101194882.2\",\"n/a\",\"n/a\",\"Energy\",\"Oil & Gas Production\",\"https://www.nasdaq.com/symbol/ped\",\n",
        "\"PFNX\",\"Pfenex Inc.\",\"6.24\",\"196572355.2\",\"n/a\",\"2014\",\"Health Care\",\"Major Pharmaceuticals\",\"https://www.nasdaq.com/symbol/pfnx\",\n",
        "\"HNW\",\"Pioneer Diversified High Income Trust\",\"14.37\",\"119742192.3\",\"n/a\",\"2007\",\"n/a\",\"n/a\",\"https://www.nasdaq.com/symbol/hnw\",\n",
        "\"PLAG\",\"Planet Green Holdings Corp\",\"4.63\",\"36474051.95\",\"n/a\",\"n/a\",\"Consumer Non-Durables\",\"Packaged Foods\",\"https://www.nasdaq.com/symbol/plag\",\n",
        "\"PLG\",\"Platinum Group Metals Ltd.\",\"1.44\",\"50188423.68\",\"n/a\",\"n/a\",\"Basic Industries\",\"Precious Metals\",\"https://www.nasdaq.com/symbol/plg\",\n",
        "\"PLYM\",\"Plymouth Industrial REIT, Inc.\",\"18.55\",\"161410728.85\",\"n/a\",\"2017\",\"Consumer Services\",\"Real Estate Investment Trusts\",\"https://www.nasdaq.com/symbol/plym\",\n",
        "\"PLYM^A\",\"Plymouth Industrial REIT, Inc.\",\"25.5371\",\"0\",\"n/a\",\"n/a\",\"n/a\",\"n/a\",\"https://www.nasdaq.com/symbol/plym^a\",\n",
        "\"PLM\",\"Polymet Mining Corp.\",\"0.405\",\"407040123.51\",\"n/a\",\"n/a\",\"Basic Industries\",\"Precious Metals\",\"https://www.nasdaq.com/symbol/plm\",\n",
        "\"PW\",\"Power REIT\",\"6.64\",\"12417722.96\",\"n/a\",\"n/a\",\"Consumer Services\",\"Real Estate Investment Trusts\",\"https://www.nasdaq.com/symbol/pw\",\n",
        "\"PW^A\",\"Power REIT\",\"26.2\",\"0\",\"n/a\",\"n/a\",\"n/a\",\"n/a\",\"https://www.nasdaq.com/symbol/pw^a\",\n",
        "\"PLX\",\"Protalix BioTherapeutics, Inc.\",\"0.4091\",\"60703198.5209\",\"n/a\",\"n/a\",\"Health Care\",\"Biotechnology: Biological Products (No Diagnostic Substances)\",\"https://www.nasdaq.com/symbol/plx\",\n",
        "\"RLGT\",\"Radiant Logistics, Inc.\",\"5.3\",\"262736348.8\",\"n/a\",\"n/a\",\"Transportation\",\"Oil Refining/Marketing\",\"https://www.nasdaq.com/symbol/rlgt\",\n",
        "\"RFL\",\"Rafael Holdings, Inc.\",\"21.47\",\"299069907.55\",\"n/a\",\"2018\",\"Finance\",\"Real Estate\",\"https://www.nasdaq.com/symbol/rfl\",\n",
        "\"UTG\",\"Reaves Utility Income Fund\",\"36.31\",\"1767632454.38\",\"n/a\",\"2004\",\"n/a\",\"n/a\",\"https://www.nasdaq.com/symbol/utg\",\n",
        "\"RHE\",\"Regional Health Properties, Inc.\",\"1.66\",\"2802443.54\",\"n/a\",\"2017\",\"Health Care\",\"Hospital/Nursing Management\",\"https://www.nasdaq.com/symbol/rhe\",\n",
        "\"RHE^A\",\"Regional Health Properties, Inc.\",\"3.22\",\"0\",\"n/a\",\"n/a\",\"n/a\",\"n/a\",\"https://www.nasdaq.com/symbol/rhe^a\",\n",
        "\"RCG\",\"RENN Fund, Inc.\",\"1.64\",\"9761207.84\",\"n/a\",\"n/a\",\"n/a\",\"n/a\",\"https://www.nasdaq.com/symbol/rcg\",\n",
        "\"RVP\",\"Retractable Technologies, Inc.\",\"0.67\",\"21892219.18\",\"n/a\",\"n/a\",\"Health Care\",\"Medical/Dental Instruments\",\"https://www.nasdaq.com/symbol/rvp\",\n",
        "\"REI\",\"Ring Energy, Inc.\",\"3.28\",\"222419132.08\",\"n/a\",\"n/a\",\"Energy\",\"Oil & Gas Production\",\"https://www.nasdaq.com/symbol/rei\",\n",
        "\"RIF\",\"RMR Real Estate Income Fund\",\"18.88\",\"192613929.92\",\"n/a\",\"n/a\",\"n/a\",\"n/a\",\"https://www.nasdaq.com/symbol/rif\",\n",
        "\"SACH\",\"Sachem Capital Corp.\",\"5.4\",\"102090164.4\",\"n/a\",\"2017\",\"Consumer Services\",\"Real Estate Investment Trusts\",\"https://www.nasdaq.com/symbol/sach\",\n",
        "\"SCCB\",\"Sachem Capital Corp.\",\"26\",\"0\",\"n/a\",\"2019\",\"Consumer Services\",\"Real Estate Investment Trusts\",\"https://www.nasdaq.com/symbol/sccb\",\n",
        "\"SNMP\",\"Sanchez Midstream Partners LP\",\"2.2\",\"40261797.4\",\"n/a\",\"n/a\",\"Energy\",\"Oil & Gas Production\",\"https://www.nasdaq.com/symbol/snmp\",\n",
        "\"SAND          \",\"Sandstorm Gold Ltd\",\"5.68\",\"1015571100.72\",\"n/a\",\"n/a\",\"Basic Industries\",\"Precious Metals\",\"https://www.nasdaq.com/symbol/sand\",\n",
        "\"SEB\",\"Seaboard Corporation\",\"4022\",\"4688932062\",\"n/a\",\"1996\",\"Finance\",\"Investment Bankers/Brokers/Service\",\"https://www.nasdaq.com/symbol/seb\",\n",
        "\"SENS\",\"Senseonics Holdings, Inc.\",\"1.75\",\"309764635.25\",\"n/a\",\"n/a\",\"Capital Goods\",\"Industrial Machinery/Components\",\"https://www.nasdaq.com/symbol/sens\",\n",
        "\"SVT\",\"Servotronics, Inc.\",\"9.86\",\"25447476.8\",\"n/a\",\"n/a\",\"Capital Goods\",\"Industrial Machinery/Components\",\"https://www.nasdaq.com/symbol/svt\",\n",
        "\"SMTS\",\"Sierra Metals Inc.\",\"1.21\",\"197526736.77\",\"n/a\",\"n/a\",\"Basic Industries\",\"Precious Metals\",\"https://www.nasdaq.com/symbol/smts\",\n",
        "\"SIF\",\"SIFCO Industries, Inc.\",\"2.8\",\"16165290.4\",\"n/a\",\"n/a\",\"Capital Goods\",\"Aerospace\",\"https://www.nasdaq.com/symbol/sif\",\n",
        "\"SVM\",\"Silvercorp Metals Inc.\",\"2.64\",\"448801457.28\",\"n/a\",\"n/a\",\"Basic Industries\",\"Precious Metals\",\"https://www.nasdaq.com/symbol/svm\",\n",
        "\"SILV\",\"SilverCrest Metals Inc.\",\"3.98\",\"341477293.7\",\"n/a\",\"2018\",\"Basic Industries\",\"Precious Metals\",\"https://www.nasdaq.com/symbol/silv\",\n",
        "\"XPL\",\"Solitario Zinc Corp.\",\"0.3239\",\"18849802.9474\",\"n/a\",\"n/a\",\"Basic Industries\",\"Precious Metals\",\"https://www.nasdaq.com/symbol/xpl\",\n",
        "\"SCE^B\",\"Southern California Edison Company\",\"20.5\",\"0\",\"n/a\",\"n/a\",\"n/a\",\"n/a\",\"https://www.nasdaq.com/symbol/sce^b\",\n",
        "\"SCE^C\",\"Southern California Edison Company\",\"20.82\",\"0\",\"n/a\",\"n/a\",\"n/a\",\"n/a\",\"https://www.nasdaq.com/symbol/sce^c\",\n",
        "\"SCE^D\",\"Southern California Edison Company\",\"21.505\",\"0\",\"n/a\",\"n/a\",\"n/a\",\"n/a\",\"https://www.nasdaq.com/symbol/sce^d\",\n",
        "\"SCE^E\",\"Southern California Edison Company\",\"22.7\",\"0\",\"n/a\",\"n/a\",\"n/a\",\"n/a\",\"https://www.nasdaq.com/symbol/sce^e\",\n",
        "\"SGB\",\"Southwest Georgia Financial Corporation\",\"20.31\",\"51704710.56\",\"n/a\",\"n/a\",\"Finance\",\"Major Banks\",\"https://www.nasdaq.com/symbol/sgb\",\n",
        "\"LOV\",\"Spark Networks, Inc.\",\"11.72\",\"152219008.4\",\"n/a\",\"2017\",\"Consumer Services\",\"Other Consumer Services\",\"https://www.nasdaq.com/symbol/lov\",\n",
        "\"SRCI\",\"SRC Energy Inc.\",\"4.14\",\"1007643604.5\",\"n/a\",\"n/a\",\"Energy\",\"Oil & Gas Production\",\"https://www.nasdaq.com/symbol/srci\",\n",
        "\"SDI\",\"Standard Diversified Inc.\",\"20.5\",\"344701268\",\"n/a\",\"n/a\",\"Consumer Non-Durables\",\"Tobacco\",\"https://www.nasdaq.com/symbol/sdi\",\n",
        "\"SSY\",\"SunLink Health Systems, Inc.\",\"1.4854\",\"10378274.417\",\"n/a\",\"n/a\",\"Health Care\",\"Hospital/Nursing Management\",\"https://www.nasdaq.com/symbol/ssy\",\n",
        "\"SDPI\",\"Superior Drilling Products, Inc.\",\"0.9678\",\"24228643.6314\",\"n/a\",\"2014\",\"Energy\",\"Metal Fabrications\",\"https://www.nasdaq.com/symbol/sdpi\",\n",
        "\"SYN\",\"Synthetic Biologics, Inc\",\"0.55\",\"9066101.55\",\"n/a\",\"n/a\",\"Health Care\",\"Major Pharmaceuticals\",\"https://www.nasdaq.com/symbol/syn\",\n",
        "\"TKAT\",\"Takung Art Co., Ltd.\",\"0.65\",\"7315833.85\",\"n/a\",\"n/a\",\"Consumer Services\",\"Other Specialty Stores\",\"https://www.nasdaq.com/symbol/tkat\",\n",
        "\"TALO.WS\",\"Talos Energy, Inc.\",\"n/a\",\"0\",\"n/a\",\"n/a\",\"n/a\",\"n/a\",\"https://www.nasdaq.com/symbol/talo.ws\",\n",
        "\"TRX\",\"Tanzanian Gold Corporation\",\"1.04\",\"146983044\",\"n/a\",\"n/a\",\"Basic Industries\",\"Precious Metals\",\"https://www.nasdaq.com/symbol/trx\",\n",
        "\"TGB\",\"Taseko Mines Limited\",\"0.5006\",\"123244826.0314\",\"n/a\",\"n/a\",\"Basic Industries\",\"Precious Metals\",\"https://www.nasdaq.com/symbol/tgb\",\n",
        "\"TGC\",\"Tengasco, Inc.\",\"0.855\",\"9104606.865\",\"n/a\",\"n/a\",\"Energy\",\"Oil & Gas Production\",\"https://www.nasdaq.com/symbol/tgc\",\n",
        "\"GLU\",\"The Gabelli Global Utility and Income Trust\",\"18.79\",\"100889635.54\",\"n/a\",\"2004\",\"n/a\",\"n/a\",\"https://www.nasdaq.com/symbol/glu\",\n",
        "\"GLU^A\",\"The Gabelli Global Utility and Income Trust\",\"47.484\",\"0\",\"n/a\",\"n/a\",\"n/a\",\"n/a\",\"https://www.nasdaq.com/symbol/glu^a\",\n",
        "\"GLU^B\",\"The Gabelli Global Utility and Income Trust\",\"51.6\",\"0\",\"n/a\",\"n/a\",\"n/a\",\"n/a\",\"https://www.nasdaq.com/symbol/glu^b\",\n",
        "\"GGO\",\"The Gabelli Go Anywhere Trust\",\"15.68\",\"25286383.36\",\"n/a\",\"2016\",\"n/a\",\"n/a\",\"https://www.nasdaq.com/symbol/ggo\",\n",
        "\"GGO^A\",\"The Gabelli Go Anywhere Trust\",\"41.2\",\"0\",\"n/a\",\"n/a\",\"n/a\",\"n/a\",\"https://www.nasdaq.com/symbol/ggo^a\",\n",
        "\"TDW.WS\",\"Tidewater Inc.\",\"n/a\",\"0\",\"n/a\",\"n/a\",\"n/a\",\"n/a\",\"https://www.nasdaq.com/symbol/tdw.ws\",\n",
        "\"TMP\",\"Tompkins Financial Corporation\",\"79.83\",\"1222521090.48\",\"n/a\",\"n/a\",\"Finance\",\"Major Banks\",\"https://www.nasdaq.com/symbol/tmp\",\n",
        "\"TAT\",\"Transatlantic Petroleum Ltd\",\"0.7375\",\"38716291.175\",\"n/a\",\"n/a\",\"Energy\",\"Oil & Gas Production\",\"https://www.nasdaq.com/symbol/tat\",\n",
        "\"TRXC\",\"TransEnterix, Inc.\",\"1.4\",\"304274535.6\",\"n/a\",\"n/a\",\"Health Care\",\"Medical/Dental Instruments\",\"https://www.nasdaq.com/symbol/trxc\",\n",
        "\"TMQ\",\"Trilogy Metals Inc.\",\"2.78\",\"367358671.46\",\"n/a\",\"n/a\",\"Basic Industries\",\"Precious Metals\",\"https://www.nasdaq.com/symbol/tmq\",\n",
        "\"TPHS\",\"Trinity Place Holdings Inc.\",\"3.9\",\"124409988.3\",\"n/a\",\"n/a\",\"Consumer Services\",\"Building operators\",\"https://www.nasdaq.com/symbol/tphs\",\n",
        "\"TRT\",\"Trio-Tech International\",\"2.92\",\"10725320.6\",\"n/a\",\"n/a\",\"Technology\",\"Industrial Machinery/Components\",\"https://www.nasdaq.com/symbol/trt\",\n",
        "\"UFAB\",\"Unique Fabricating, Inc.\",\"2.9246\",\"28600093.3162\",\"n/a\",\"2015\",\"Capital Goods\",\"Auto Parts:O.E.M.\",\"https://www.nasdaq.com/symbol/ufab\",\n",
        "\"UAMY\",\"United States Antimony Corporation\",\"0.64\",\"43793389.44\",\"n/a\",\"n/a\",\"Capital Goods\",\"Metal Fabrications\",\"https://www.nasdaq.com/symbol/uamy\",\n",
        "\"UUU\",\"Universal Security Instruments, Inc.\",\"1.2\",\"2775464.4\",\"n/a\",\"n/a\",\"Technology\",\"Electronic Components\",\"https://www.nasdaq.com/symbol/uuu\",\n",
        "\"UQM\",\"UQM Technologies Inc.\",\"1.66\",\"93900532.76\",\"n/a\",\"n/a\",\"Capital Goods\",\"Industrial Machinery/Components\",\"https://www.nasdaq.com/symbol/uqm\",\n",
        "\"URG\",\"Ur Energy Inc\",\"0.6271\",\"100248396.0113\",\"n/a\",\"n/a\",\"Basic Industries\",\"Precious Metals\",\"https://www.nasdaq.com/symbol/urg\",\n",
        "\"UEC\",\"Uranium Energy Corp.\",\"1.14\",\"205980359.64\",\"n/a\",\"n/a\",\"Basic Industries\",\"Precious Metals\",\"https://www.nasdaq.com/symbol/uec\",\n",
        "\"VHC\",\"VirnetX Holding Corp\",\"7.53\",\"512823127.53\",\"n/a\",\"n/a\",\"Miscellaneous\",\"Multi-Sector Companies\",\"https://www.nasdaq.com/symbol/vhc\",\n",
        "\"VGZ\",\"Vista Gold Corporation\",\"0.7476\",\"75161865.6516\",\"n/a\",\"n/a\",\"Basic Industries\",\"Precious Metals\",\"https://www.nasdaq.com/symbol/vgz\",\n",
        "\"VNRX\",\"VolitionRX Limited\",\"3.36\",\"132655010.88\",\"n/a\",\"2015\",\"Health Care\",\"Biotechnology: In Vitro & In Vivo Diagnostic Substances\",\"https://www.nasdaq.com/symbol/vnrx\",\n",
        "\"VISI\",\"Volt Information Sciences, Inc.\",\"4.54\",\"96301699.12\",\"n/a\",\"n/a\",\"Technology\",\"Professional Services\",\"https://www.nasdaq.com/symbol/visi\",\n",
        "\"EAD\",\"Wells Fargo Income Opportunities Fund\",\"8.28\",\"522268841.16\",\"n/a\",\"2003\",\"n/a\",\"n/a\",\"https://www.nasdaq.com/symbol/ead\",\n",
        "\"ERC\",\"Wells Fargo Multi-Sector Income Fund\",\"12.68\",\"389479463.28\",\"n/a\",\"2003\",\"n/a\",\"n/a\",\"https://www.nasdaq.com/symbol/erc\",\n",
        "\"ERH\",\"Wells Fargo Utilities and High Income Fund\",\"13.02\",\"120524551.56\",\"n/a\",\"2004\",\"n/a\",\"n/a\",\"https://www.nasdaq.com/symbol/erh\",\n",
        "\"WRN\",\"Western Copper and Gold Corporation\",\"0.6871\",\"71843863.7871\",\"n/a\",\"2011\",\"Basic Industries\",\"Precious Metals\",\"https://www.nasdaq.com/symbol/wrn\",\n",
        "\"WYY\",\"WidePoint Corporation\",\"0.445\",\"37536203.01\",\"n/a\",\"n/a\",\"Technology\",\"EDP Services\",\"https://www.nasdaq.com/symbol/wyy\",\n",
        "\"WTT\",\"Wireless Telecom Group,  Inc.\",\"1.55\",\"33015390.6\",\"n/a\",\"n/a\",\"Capital Goods\",\"Electrical Products\",\"https://www.nasdaq.com/symbol/wtt\",\n",
        "\"XTNT\",\"Xtant Medical Holdings, Inc.\",\"2.85\",\"37511021.7\",\"n/a\",\"n/a\",\"Health Care\",\"Biotechnology: Biological Products (No Diagnostic Substances)\",\"https://www.nasdaq.com/symbol/xtnt\",\n",
        "\"YUMA\",\"Yuma Energy, Inc.\",\"2.94\",\"4547221.56\",\"n/a\",\"n/a\",\"Energy\",\"Oil & Gas Production\",\"https://www.nasdaq.com/symbol/yuma\",\n",
        "\"ZDGE\",\"Zedge, Inc.\",\"1.61\",\"16674348.18\",\"n/a\",\"2016\",\"Technology\",\"Computer Software: Prepackaged Software\",\"https://www.nasdaq.com/symbol/zdge\",\n",
        "\"ZOM\",\"Zomedica Pharmaceuticals Corp.\",\"0.25\",\"27009599.5\",\"n/a\",\"2017\",\"Health Care\",\"Major Pharmaceuticals\",\"https://www.nasdaq.com/symbol/zom\",\n",
        "))"
      ],
      "execution_count": null,
      "outputs": [
       
      ]
    },
    {
      "cell_type": "code",
      "metadata": {
        "id": "NqL4qMNDAfpU"
      },
      "source": [
        "import pandas as pd"
      ],
      "execution_count": null,
      "outputs": []
    },
    {
      "cell_type": "code",
      "metadata": {
        "id": "G5C-xVcYEMah"
      },
      "source": [
        "import numpy as np\n",
        "import pandas as pd\n",
        "import requests\n",
        "import matplotlib.pyplot as plt\n",
        "#getURL= requests.get('https://www.nasdaq.com/screening/companies-by-industry.aspx?exchange=AMEX').json()\n",
        "#print(getURL)"
      ],
      "execution_count": null,
      "outputs": []
    },
    {
      "cell_type": "code",
      "metadata": {
        "id": "nazl-fKKI4Ht"
      },
      "source": [
        "#import companylist.csv"
      ],
      "execution_count": null,
      "outputs": []
    },
    {
      "cell_type": "code",
      "metadata": {
        "id": "zCwQ_j8qGw46"
      },
      "source": [
        "url='https://www.nasdaq.com/screening/companies-by-industry.aspx?exchange=AMEX'\n",
        "#amex=pd.read_csv('companylist.csv')\n",
        "#df1=pd.read_csv(url)"
      ],
      "execution_count": null,
      "outputs": []
    },
    {
      "cell_type": "code",
      "metadata": {
        "id": "sOACovA-KYT_",
        "outputId": "9574c1ff-c524-49cc-99eb-9f5629a820fd",
        "colab": {
          "resources": {
            "http://localhost:8080/nbextensions/google.colab/files.js": {
              "data": "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",
              "ok": true,
              "headers": [
                [
                  "content-type",
                  "application/javascript"
                ]
              ],
              "status": 200,
              "status_text": "OK"
            }
          },
          "base_uri": "https://localhost:8080/",
          "height": 83
        }
      },
      "source": [
        "from google.colab import files\n",
        "uploaded = files.upload()"
      ],
      "execution_count": null,
      "outputs": [
        {
          "output_type": "display_data",
          "data": {
            "text/html": [
              "\n",
              "     <input type=\"file\" id=\"files-4e4da1cb-7ffc-4d46-86d1-a138acd5286b\" name=\"files[]\" multiple disabled />\n",
              "     <output id=\"result-4e4da1cb-7ffc-4d46-86d1-a138acd5286b\">\n",
              "      Upload widget is only available when the cell has been executed in the\n",
              "      current browser session. Please rerun this cell to enable.\n",
              "      </output>\n",
              "      <script src=\"/nbextensions/google.colab/files.js\"></script> "
            ],
            "text/plain": [
              "<IPython.core.display.HTML object>"
            ]
          },
          "metadata": {
            "tags": []
          }
        },
        {
          "output_type": "stream",
          "text": [
            "Saving companylist(3).csv to companylist(3).csv\n"
          ],
          "name": "stdout"
        }
      ]
    },
    {
      "cell_type": "code",
      "metadata": {
        "id": "edytnpNcHUGl"
      },
      "source": [
        "amex=pd.read_csv('companylist(3).csv')"
      ],
      "execution_count": null,
      "outputs": []
    },
    {
      "cell_type": "code",
      "metadata": {
        "id": "8ieIAvcEJm5H",
        "outputId": "7714a20c-2c8b-4355-e879-71b1741fccf0",
        "colab": {
          "base_uri": "https://localhost:8080/",
          "height": 278
        }
      },
      "source": [
        "amex.info()"
      ],
      "execution_count": null,
      "outputs": [
        {
          "output_type": "stream",
          "text": [
            "<class 'pandas.core.frame.DataFrame'>\n",
            "RangeIndex: 310 entries, 0 to 309\n",
            "Data columns (total 10 columns):\n",
            "Symbol           310 non-null object\n",
            "Name             310 non-null object\n",
            "LastSale         296 non-null float64\n",
            "MarketCap        310 non-null float64\n",
            "ADR TSO          0 non-null float64\n",
            "IPOyear          92 non-null float64\n",
            "Sector           221 non-null object\n",
            "Industry         221 non-null object\n",
            "Summary Quote    310 non-null object\n",
            "Unnamed: 9       0 non-null float64\n",
            "dtypes: float64(5), object(5)\n",
            "memory usage: 24.3+ KB\n"
          ],
          "name": "stdout"
        }
      ]
    },
    {
      "cell_type": "code",
      "metadata": {
        "id": "szXnS8hVK-He",
        "outputId": "e3768018-8003-4bdf-9f74-2aa2e43dbc8d",
        "colab": {
          "base_uri": "https://localhost:8080/",
          "height": 278
        }
      },
      "source": [
        "amex=pd.read_csv('companylist(3).csv',na_values='n/a',)#parse_dates=['Last Update']) not working\n",
        "amex.info()"
      ],
      "execution_count": null,
      "outputs": [
        {
          "output_type": "stream",
          "text": [
            "<class 'pandas.core.frame.DataFrame'>\n",
            "RangeIndex: 310 entries, 0 to 309\n",
            "Data columns (total 10 columns):\n",
            "Symbol           310 non-null object\n",
            "Name             310 non-null object\n",
            "LastSale         296 non-null float64\n",
            "MarketCap        310 non-null float64\n",
            "ADR TSO          0 non-null float64\n",
            "IPOyear          92 non-null float64\n",
            "Sector           221 non-null object\n",
            "Industry         221 non-null object\n",
            "Summary Quote    310 non-null object\n",
            "Unnamed: 9       0 non-null float64\n",
            "dtypes: float64(5), object(5)\n",
            "memory usage: 24.3+ KB\n"
          ],
          "name": "stdout"
        }
      ]
    },
    {
      "cell_type": "code",
      "metadata": {
        "id": "ncwzIA1RLXsX",
        "outputId": "ce160986-784e-468d-c022-600e579f5be1",
        "colab": {
          "base_uri": "https://localhost:8080/",
          "height": 556
        }
      },
      "source": [
        "amex.head() # shows 1st n rows def=5"
      ],
      "execution_count": null,
      "outputs": [
        {
          "output_type": "execute_result",
          "data": {
            "text/html": [
              "<div>\n",
              "<style scoped>\n",
              "    .dataframe tbody tr th:only-of-type {\n",
              "        vertical-align: middle;\n",
              "    }\n",
              "\n",
              "    .dataframe tbody tr th {\n",
              "        vertical-align: top;\n",
              "    }\n",
              "\n",
              "    .dataframe thead th {\n",
              "        text-align: right;\n",
              "    }\n",
              "</style>\n",
              "<table border=\"1\" class=\"dataframe\">\n",
              "  <thead>\n",
              "    <tr style=\"text-align: right;\">\n",
              "      <th></th>\n",
              "      <th>Symbol</th>\n",
              "      <th>Name</th>\n",
              "      <th>LastSale</th>\n",
              "      <th>MarketCap</th>\n",
              "      <th>ADR TSO</th>\n",
              "      <th>IPOyear</th>\n",
              "      <th>Sector</th>\n",
              "      <th>Industry</th>\n",
              "      <th>Summary Quote</th>\n",
              "      <th>Unnamed: 9</th>\n",
              "    </tr>\n",
              "  </thead>\n",
              "  <tbody>\n",
              "    <tr>\n",
              "      <th>0</th>\n",
              "      <td>XXII</td>\n",
              "      <td>22nd Century Group, Inc</td>\n",
              "      <td>1.96</td>\n",
              "      <td>2.443336e+08</td>\n",
              "      <td>NaN</td>\n",
              "      <td>NaN</td>\n",
              "      <td>Consumer Non-Durables</td>\n",
              "      <td>Farming/Seeds/Milling</td>\n",
              "      <td>https://www.nasdaq.com/symbol/xxii</td>\n",
              "      <td>NaN</td>\n",
              "    </tr>\n",
              "    <tr>\n",
              "      <th>1</th>\n",
              "      <td>FAX</td>\n",
              "      <td>Aberdeen Asia-Pacific Income Fund Inc</td>\n",
              "      <td>4.26</td>\n",
              "      <td>1.060018e+09</td>\n",
              "      <td>NaN</td>\n",
              "      <td>1986.0</td>\n",
              "      <td>NaN</td>\n",
              "      <td>NaN</td>\n",
              "      <td>https://www.nasdaq.com/symbol/fax</td>\n",
              "      <td>NaN</td>\n",
              "    </tr>\n",
              "    <tr>\n",
              "      <th>2</th>\n",
              "      <td>IAF</td>\n",
              "      <td>Aberdeen Australia Equity Fund Inc</td>\n",
              "      <td>5.45</td>\n",
              "      <td>1.239457e+08</td>\n",
              "      <td>NaN</td>\n",
              "      <td>NaN</td>\n",
              "      <td>NaN</td>\n",
              "      <td>NaN</td>\n",
              "      <td>https://www.nasdaq.com/symbol/iaf</td>\n",
              "      <td>NaN</td>\n",
              "    </tr>\n",
              "    <tr>\n",
              "      <th>3</th>\n",
              "      <td>AEF</td>\n",
              "      <td>Aberdeen Emerging Markets Equity Income Fund, ...</td>\n",
              "      <td>7.46</td>\n",
              "      <td>3.786083e+08</td>\n",
              "      <td>NaN</td>\n",
              "      <td>NaN</td>\n",
              "      <td>NaN</td>\n",
              "      <td>NaN</td>\n",
              "      <td>https://www.nasdaq.com/symbol/aef</td>\n",
              "      <td>NaN</td>\n",
              "    </tr>\n",
              "    <tr>\n",
              "      <th>4</th>\n",
              "      <td>FCO</td>\n",
              "      <td>Aberdeen Global Income Fund, Inc.</td>\n",
              "      <td>8.44</td>\n",
              "      <td>7.363722e+07</td>\n",
              "      <td>NaN</td>\n",
              "      <td>1992.0</td>\n",
              "      <td>NaN</td>\n",
              "      <td>NaN</td>\n",
              "      <td>https://www.nasdaq.com/symbol/fco</td>\n",
              "      <td>NaN</td>\n",
              "    </tr>\n",
              "  </tbody>\n",
              "</table>\n",
              "</div>"
            ],
            "text/plain": [
              "  Symbol  ... Unnamed: 9\n",
              "0   XXII  ...        NaN\n",
              "1    FAX  ...        NaN\n",
              "2    IAF  ...        NaN\n",
              "3    AEF  ...        NaN\n",
              "4    FCO  ...        NaN\n",
              "\n",
              "[5 rows x 10 columns]"
            ]
          },
          "metadata": {
            "tags": []
          },
          "execution_count": 10
        }
      ]
    },
    {
      "cell_type": "code",
      "metadata": {
        "id": "R5VDk2dRM1LL"
      },
      "source": [
        "#pd.read_excel('nasdaq',sheetname=0)"
      ],
      "execution_count": null,
      "outputs": []
    },
    {
      "cell_type": "code",
      "metadata": {
        "id": "emkiO9AvSkFi",
        "outputId": "faa1784e-f1dc-4d0e-9ae4-268ed544e901",
        "colab": {
          "resources": {
            "http://localhost:8080/nbextensions/google.colab/files.js": {
              "data": "Ly8gQ29weXJpZ2h0IDIwMTcgR29vZ2xlIExMQwovLwovLyBMaWNlbnNlZCB1bmRlciB0aGUgQXBhY2hlIExpY2Vuc2UsIFZlcnNpb24gMi4wICh0aGUgIkxpY2Vuc2UiKTsKLy8geW91IG1heSBub3QgdXNlIHRoaXMgZmlsZSBleGNlcHQgaW4gY29tcGxpYW5jZSB3aXRoIHRoZSBMaWNlbnNlLgovLyBZb3UgbWF5IG9idGFpbiBhIGNvcHkgb2YgdGhlIExpY2Vuc2UgYXQKLy8KLy8gICAgICBodHRwOi8vd3d3LmFwYWNoZS5vcmcvbGljZW5zZXMvTElDRU5TRS0yLjAKLy8KLy8gVW5sZXNzIHJlcXVpcmVkIGJ5IGFwcGxpY2FibGUgbGF3IG9yIGFncmVlZCB0byBpbiB3cml0aW5nLCBzb2Z0d2FyZQovLyBkaXN0cmlidXRlZCB1bmRlciB0aGUgTGljZW5zZSBpcyBkaXN0cmlidXRlZCBvbiBhbiAiQVMgSVMiIEJBU0lTLAovLyBXSVRIT1VUIFdBUlJBTlRJRVMgT1IgQ09ORElUSU9OUyBPRiBBTlkgS0lORCwgZWl0aGVyIGV4cHJlc3Mgb3IgaW1wbGllZC4KLy8gU2VlIHRoZSBMaWNlbnNlIGZvciB0aGUgc3BlY2lmaWMgbGFuZ3VhZ2UgZ292ZXJuaW5nIHBlcm1pc3Npb25zIGFuZAovLyBsaW1pdGF0aW9ucyB1bmRlciB0aGUgTGljZW5zZS4KCi8qKgogKiBAZmlsZW92ZXJ2aWV3IEhlbHBlcnMgZm9yIGdvb2dsZS5jb2xhYiBQeXRob24gbW9kdWxlLgogKi8KKGZ1bmN0aW9uKHNjb3BlKSB7CmZ1bmN0aW9uIHNwYW4odGV4dCwgc3R5bGVBdHRyaWJ1dGVzID0ge30pIHsKICBjb25zdCBlbGVtZW50ID0gZG9jdW1lbnQuY3JlYXRlRWxlbWVudCgnc3BhbicpOwogIGVsZW1lbnQudGV4dENvbnRlbnQgPSB0ZXh0OwogIGZvciAoY29uc3Qga2V5IG9mIE9iamVjdC5rZXlzKHN0eWxlQXR0cmlidXRlcykpIHsKICAgIGVsZW1lbnQuc3R5bGVba2V5XSA9IHN0eWxlQXR0cmlidXRlc1trZXldOwogIH0KICByZXR1cm4gZWxlbWVudDsKfQoKLy8gTWF4IG51bWJlciBvZiBieXRlcyB3aGljaCB3aWxsIGJlIHVwbG9hZGVkIGF0IGEgdGltZS4KY29uc3QgTUFYX1BBWUxPQURfU0laRSA9IDEwMCAqIDEwMjQ7Ci8vIE1heCBhbW91bnQgb2YgdGltZSB0byBibG9jayB3YWl0aW5nIGZvciB0aGUgdXNlci4KY29uc3QgRklMRV9DSEFOR0VfVElNRU9VVF9NUyA9IDMwICogMTAwMDsKCmZ1bmN0aW9uIF91cGxvYWRGaWxlcyhpbnB1dElkLCBvdXRwdXRJZCkgewogIGNvbnN0IHN0ZXBzID0gdXBsb2FkRmlsZXNTdGVwKGlucHV0SWQsIG91dHB1dElkKTsKICBjb25zdCBvdXRwdXRFbGVtZW50ID0gZG9jdW1lbnQuZ2V0RWxlbWVudEJ5SWQob3V0cHV0SWQpOwogIC8vIENhY2hlIHN0ZXBzIG9uIHRoZSBvdXRwdXRFbGVtZW50IHRvIG1ha2UgaXQgYXZhaWxhYmxlIGZvciB0aGUgbmV4dCBjYWxsCiAgLy8gdG8gdXBsb2FkRmlsZXNDb250aW51ZSBmcm9tIFB5dGhvbi4KICBvdXRwdXRFbGVtZW50LnN0ZXBzID0gc3RlcHM7CgogIHJldHVybiBfdXBsb2FkRmlsZXNDb250aW51ZShvdXRwdXRJZCk7Cn0KCi8vIFRoaXMgaXMgcm91Z2hseSBhbiBhc3luYyBnZW5lcmF0b3IgKG5vdCBzdXBwb3J0ZWQgaW4gdGhlIGJyb3dzZXIgeWV0KSwKLy8gd2hlcmUgdGhlcmUgYXJlIG11bHRpcGxlIGFzeW5jaHJvbm91cyBzdGVwcyBhbmQgdGhlIFB5dGhvbiBzaWRlIGlzIGdvaW5nCi8vIHRvIHBvbGwgZm9yIGNvbXBsZXRpb24gb2YgZWFjaCBzdGVwLgovLyBUaGlzIHVzZXMgYSBQcm9taXNlIHRvIGJsb2NrIHRoZSBweXRob24gc2lkZSBvbiBjb21wbGV0aW9uIG9mIGVhY2ggc3RlcCwKLy8gdGhlbiBwYXNzZXMgdGhlIHJlc3VsdCBvZiB0aGUgcHJldmlvdXMgc3RlcCBhcyB0aGUgaW5wdXQgdG8gdGhlIG5leHQgc3RlcC4KZnVuY3Rpb24gX3VwbG9hZEZpbGVzQ29udGludWUob3V0cHV0SWQpIHsKICBjb25zdCBvdXRwdXRFbGVtZW50ID0gZG9jdW1lbnQuZ2V0RWxlbWVudEJ5SWQob3V0cHV0SWQpOwogIGNvbnN0IHN0ZXBzID0gb3V0cHV0RWxlbWVudC5zdGVwczsKCiAgY29uc3QgbmV4dCA9IHN0ZXBzLm5leHQob3V0cHV0RWxlbWVudC5sYXN0UHJvbWlzZVZhbHVlKTsKICByZXR1cm4gUHJvbWlzZS5yZXNvbHZlKG5leHQudmFsdWUucHJvbWlzZSkudGhlbigodmFsdWUpID0+IHsKICAgIC8vIENhY2hlIHRoZSBsYXN0IHByb21pc2UgdmFsdWUgdG8gbWFrZSBpdCBhdmFpbGFibGUgdG8gdGhlIG5leHQKICAgIC8vIHN0ZXAgb2YgdGhlIGdlbmVyYXRvci4KICAgIG91dHB1dEVsZW1lbnQubGFzdFByb21pc2VWYWx1ZSA9IHZhbHVlOwogICAgcmV0dXJuIG5leHQudmFsdWUucmVzcG9uc2U7CiAgfSk7Cn0KCi8qKgogKiBHZW5lcmF0b3IgZnVuY3Rpb24gd2hpY2ggaXMgY2FsbGVkIGJldHdlZW4gZWFjaCBhc3luYyBzdGVwIG9mIHRoZSB1cGxvYWQKICogcHJvY2Vzcy4KICogQHBhcmFtIHtzdHJpbmd9IGlucHV0SWQgRWxlbWVudCBJRCBvZiB0aGUgaW5wdXQgZmlsZSBwaWNrZXIgZWxlbWVudC4KICogQHBhcmFtIHtzdHJpbmd9IG91dHB1dElkIEVsZW1lbnQgSUQgb2YgdGhlIG91dHB1dCBkaXNwbGF5LgogKiBAcmV0dXJuIHshSXRlcmFibGU8IU9iamVjdD59IEl0ZXJhYmxlIG9mIG5leHQgc3RlcHMuCiAqLwpmdW5jdGlvbiogdXBsb2FkRmlsZXNTdGVwKGlucHV0SWQsIG91dHB1dElkKSB7CiAgY29uc3QgaW5wdXRFbGVtZW50ID0gZG9jdW1lbnQuZ2V0RWxlbWVudEJ5SWQoaW5wdXRJZCk7CiAgaW5wdXRFbGVtZW50LmRpc2FibGVkID0gZmFsc2U7CgogIGNvbnN0IG91dHB1dEVsZW1lbnQgPSBkb2N1bWVudC5nZXRFbGVtZW50QnlJZChvdXRwdXRJZCk7CiAgb3V0cHV0RWxlbWVudC5pbm5lckhUTUwgPSAnJzsKCiAgY29uc3QgcGlja2VkUHJvbWlzZSA9IG5ldyBQcm9taXNlKChyZXNvbHZlKSA9PiB7CiAgICBpbnB1dEVsZW1lbnQuYWRkRXZlbnRMaXN0ZW5lcignY2hhbmdlJywgKGUpID0+IHsKICAgICAgcmVzb2x2ZShlLnRhcmdldC5maWxlcyk7CiAgICB9KTsKICB9KTsKCiAgY29uc3QgY2FuY2VsID0gZG9jdW1lbnQuY3JlYXRlRWxlbWVudCgnYnV0dG9uJyk7CiAgaW5wdXRFbGVtZW50LnBhcmVudEVsZW1lbnQuYXBwZW5kQ2hpbGQoY2FuY2VsKTsKICBjYW5jZWwudGV4dENvbnRlbnQgPSAnQ2FuY2VsIHVwbG9hZCc7CiAgY29uc3QgY2FuY2VsUHJvbWlzZSA9IG5ldyBQcm9taXNlKChyZXNvbHZlKSA9PiB7CiAgICBjYW5jZWwub25jbGljayA9ICgpID0+IHsKICAgICAgcmVzb2x2ZShudWxsKTsKICAgIH07CiAgfSk7CgogIC8vIENhbmNlbCB1cGxvYWQgaWYgdXNlciBoYXNuJ3QgcGlja2VkIGFueXRoaW5nIGluIHRpbWVvdXQuCiAgY29uc3QgdGltZW91dFByb21pc2UgPSBuZXcgUHJvbWlzZSgocmVzb2x2ZSkgPT4gewogICAgc2V0VGltZW91dCgoKSA9PiB7CiAgICAgIHJlc29sdmUobnVsbCk7CiAgICB9LCBGSUxFX0NIQU5HRV9USU1FT1VUX01TKTsKICB9KTsKCiAgLy8gV2FpdCBmb3IgdGhlIHVzZXIgdG8gcGljayB0aGUgZmlsZXMuCiAgY29uc3QgZmlsZXMgPSB5aWVsZCB7CiAgICBwcm9taXNlOiBQcm9taXNlLnJhY2UoW3BpY2tlZFByb21pc2UsIHRpbWVvdXRQcm9taXNlLCBjYW5jZWxQcm9taXNlXSksCiAgICByZXNwb25zZTogewogICAgICBhY3Rpb246ICdzdGFydGluZycsCiAgICB9CiAgfTsKCiAgaWYgKCFmaWxlcykgewogICAgcmV0dXJuIHsKICAgICAgcmVzcG9uc2U6IHsKICAgICAgICBhY3Rpb246ICdjb21wbGV0ZScsCiAgICAgIH0KICAgIH07CiAgfQoKICBjYW5jZWwucmVtb3ZlKCk7CgogIC8vIERpc2FibGUgdGhlIGlucHV0IGVsZW1lbnQgc2luY2UgZnVydGhlciBwaWNrcyBhcmUgbm90IGFsbG93ZWQuCiAgaW5wdXRFbGVtZW50LmRpc2FibGVkID0gdHJ1ZTsKCiAgZm9yIChjb25zdCBmaWxlIG9mIGZpbGVzKSB7CiAgICBjb25zdCBsaSA9IGRvY3VtZW50LmNyZWF0ZUVsZW1lbnQoJ2xpJyk7CiAgICBsaS5hcHBlbmQoc3BhbihmaWxlLm5hbWUsIHtmb250V2VpZ2h0OiAnYm9sZCd9KSk7CiAgICBsaS5hcHBlbmQoc3BhbigKICAgICAgICBgKCR7ZmlsZS50eXBlIHx8ICduL2EnfSkgLSAke2ZpbGUuc2l6ZX0gYnl0ZXMsIGAgKwogICAgICAgIGBsYXN0IG1vZGlmaWVkOiAkewogICAgICAgICAgICBmaWxlLmxhc3RNb2RpZmllZERhdGUgPyBmaWxlLmxhc3RNb2RpZmllZERhdGUudG9Mb2NhbGVEYXRlU3RyaW5nKCkgOgogICAgICAgICAgICAgICAgICAgICAgICAgICAgICAgICAgICAnbi9hJ30gLSBgKSk7CiAgICBjb25zdCBwZXJjZW50ID0gc3BhbignMCUgZG9uZScpOwogICAgbGkuYXBwZW5kQ2hpbGQocGVyY2VudCk7CgogICAgb3V0cHV0RWxlbWVudC5hcHBlbmRDaGlsZChsaSk7CgogICAgY29uc3QgZmlsZURhdGFQcm9taXNlID0gbmV3IFByb21pc2UoKHJlc29sdmUpID0+IHsKICAgICAgY29uc3QgcmVhZGVyID0gbmV3IEZpbGVSZWFkZXIoKTsKICAgICAgcmVhZGVyLm9ubG9hZCA9IChlKSA9PiB7CiAgICAgICAgcmVzb2x2ZShlLnRhcmdldC5yZXN1bHQpOwogICAgICB9OwogICAgICByZWFkZXIucmVhZEFzQXJyYXlCdWZmZXIoZmlsZSk7CiAgICB9KTsKICAgIC8vIFdhaXQgZm9yIHRoZSBkYXRhIHRvIGJlIHJlYWR5LgogICAgbGV0IGZpbGVEYXRhID0geWllbGQgewogICAgICBwcm9taXNlOiBmaWxlRGF0YVByb21pc2UsCiAgICAgIHJlc3BvbnNlOiB7CiAgICAgICAgYWN0aW9uOiAnY29udGludWUnLAogICAgICB9CiAgICB9OwoKICAgIC8vIFVzZSBhIGNodW5rZWQgc2VuZGluZyB0byBhdm9pZCBtZXNzYWdlIHNpemUgbGltaXRzLiBTZWUgYi82MjExNTY2MC4KICAgIGxldCBwb3NpdGlvbiA9IDA7CiAgICB3aGlsZSAocG9zaXRpb24gPCBmaWxlRGF0YS5ieXRlTGVuZ3RoKSB7CiAgICAgIGNvbnN0IGxlbmd0aCA9IE1hdGgubWluKGZpbGVEYXRhLmJ5dGVMZW5ndGggLSBwb3NpdGlvbiwgTUFYX1BBWUxPQURfU0laRSk7CiAgICAgIGNvbnN0IGNodW5rID0gbmV3IFVpbnQ4QXJyYXkoZmlsZURhdGEsIHBvc2l0aW9uLCBsZW5ndGgpOwogICAgICBwb3NpdGlvbiArPSBsZW5ndGg7CgogICAgICBjb25zdCBiYXNlNjQgPSBidG9hKFN0cmluZy5mcm9tQ2hhckNvZGUuYXBwbHkobnVsbCwgY2h1bmspKTsKICAgICAgeWllbGQgewogICAgICAgIHJlc3BvbnNlOiB7CiAgICAgICAgICBhY3Rpb246ICdhcHBlbmQnLAogICAgICAgICAgZmlsZTogZmlsZS5uYW1lLAogICAgICAgICAgZGF0YTogYmFzZTY0LAogICAgICAgIH0sCiAgICAgIH07CiAgICAgIHBlcmNlbnQudGV4dENvbnRlbnQgPQogICAgICAgICAgYCR7TWF0aC5yb3VuZCgocG9zaXRpb24gLyBmaWxlRGF0YS5ieXRlTGVuZ3RoKSAqIDEwMCl9JSBkb25lYDsKICAgIH0KICB9CgogIC8vIEFsbCBkb25lLgogIHlpZWxkIHsKICAgIHJlc3BvbnNlOiB7CiAgICAgIGFjdGlvbjogJ2NvbXBsZXRlJywKICAgIH0KICB9Owp9CgpzY29wZS5nb29nbGUgPSBzY29wZS5nb29nbGUgfHwge307CnNjb3BlLmdvb2dsZS5jb2xhYiA9IHNjb3BlLmdvb2dsZS5jb2xhYiB8fCB7fTsKc2NvcGUuZ29vZ2xlLmNvbGFiLl9maWxlcyA9IHsKICBfdXBsb2FkRmlsZXMsCiAgX3VwbG9hZEZpbGVzQ29udGludWUsCn07Cn0pKHNlbGYpOwo=",
              "ok": true,
              "headers": [
                [
                  "content-type",
                  "application/javascript"
                ]
              ],
              "status": 200,
              "status_text": "OK"
            }
          },
          "base_uri": "https://localhost:8080/",
          "height": 291
        }
      },
      "source": [
        "from google.colab import files\n",
        "uploaded = files.upload()"
      ],
      "execution_count": null,
      "outputs": [
        {
          "output_type": "display_data",
          "data": {
            "text/html": [
              "\n",
              "     <input type=\"file\" id=\"files-dfc15483-d50f-4530-90c5-73694a205b06\" name=\"files[]\" multiple disabled />\n",
              "     <output id=\"result-dfc15483-d50f-4530-90c5-73694a205b06\">\n",
              "      Upload widget is only available when the cell has been executed in the\n",
              "      current browser session. Please rerun this cell to enable.\n",
              "      </output>\n",
              "      <script src=\"/nbextensions/google.colab/files.js\"></script> "
            ],
            "text/plain": [
              "<IPython.core.display.HTML object>"
            ]
          },
          "metadata": {
            "tags": []
          }
        },
        {
          "output_type": "stream",
          "text": [
            "Saving companylist.csv to companylist.csv\n",
            "Saving companylist(2).csv to companylist(2).csv\n",
            "Saving companylist(3).csv to companylist(3) (1).csv\n",
            "Saving listings.xlsx to listings.xlsx\n",
            "Saving nasdaq.csv to nasdaq.csv\n",
            "Saving Nasdaq.xlsx to Nasdaq.xlsx\n"
          ],
          "name": "stdout"
        }
      ]
    },
    {
      "cell_type": "code",
      "metadata": {
        "id": "lYPwqLZzVB2c"
      },
      "source": [
        "xls=pd.ExcelFile('listings.xlsx')"
      ],
      "execution_count": null,
      "outputs": []
    },
    {
      "cell_type": "code",
      "metadata": {
        "id": "nA7X752EVNLR",
        "outputId": "9056cb56-ad91-4667-b9ea-cd78d819ee1f",
        "colab": {
          "base_uri": "https://localhost:8080/",
          "height": 34
        }
      },
      "source": [
        "exchanges=xls.sheet_names\n",
        "exchanges"
      ],
      "execution_count": null,
      "outputs": [
        {
          "output_type": "execute_result",
          "data": {
            "text/plain": [
              "['nyse', 'nasdaq', 'amex']"
            ]
          },
          "metadata": {
            "tags": []
          },
          "execution_count": 15
        }
      ]
    },
    {
      "cell_type": "code",
      "metadata": {
        "id": "nqZ0ju8nTJ_o",
        "outputId": "7a7fd804-8355-4b36-b66b-89c3cc6d3c49",
        "colab": {
          "base_uri": "https://localhost:8080/",
          "height": 72
        }
      },
      "source": [
        "listings=pd.read_excel('listings.xlsx',sheetname=['amex'],na_values='n/a')"
      ],
      "execution_count": null,
      "outputs": [
        {
          "output_type": "stream",
          "text": [
            "/usr/local/lib/python3.6/dist-packages/pandas/util/_decorators.py:188: FutureWarning: The `sheetname` keyword is deprecated, use `sheet_name` instead\n",
            "  return func(*args, **kwargs)\n"
          ],
          "name": "stderr"
        }
      ]
    },
    {
      "cell_type": "code",
      "metadata": {
        "id": "R_64OzgkVAHS",
        "outputId": "91c48f42-a0e0-400f-ed2b-2914ed032276",
        "colab": {
          "base_uri": "https://localhost:8080/",
          "height": 278
        }
      },
      "source": [
        "amex.info()"
      ],
      "execution_count": null,
      "outputs": [
        {
          "output_type": "stream",
          "text": [
            "<class 'pandas.core.frame.DataFrame'>\n",
            "RangeIndex: 310 entries, 0 to 309\n",
            "Data columns (total 10 columns):\n",
            "Symbol           310 non-null object\n",
            "Name             310 non-null object\n",
            "LastSale         296 non-null float64\n",
            "MarketCap        310 non-null float64\n",
            "ADR TSO          0 non-null float64\n",
            "IPOyear          92 non-null float64\n",
            "Sector           221 non-null object\n",
            "Industry         221 non-null object\n",
            "Summary Quote    310 non-null object\n",
            "Unnamed: 9       0 non-null float64\n",
            "dtypes: float64(5), object(5)\n",
            "memory usage: 24.3+ KB\n"
          ],
          "name": "stdout"
        }
      ]
    },
    {
      "cell_type": "code",
      "metadata": {
        "id": "SeoD2dwwUXdx",
        "outputId": "2d57c732-db04-4dfe-c46c-a6d0bf797d2d",
        "colab": {
          "base_uri": "https://localhost:8080/",
          "height": 436
        }
      },
      "source": [
        "amex=pd.read_excel('listings.xlsx',sheet_name='amex',na_values='n/a')\n",
        "nasdaq=pd.read_excel('listings.xlsx',sheet_name='nasdaq',na_values='n/a')\n",
        "pd.concat([nasdaq,amex]).info()"
      ],
      "execution_count": null,
      "outputs": [
        {
          "output_type": "stream",
          "text": [
            "<class 'pandas.core.frame.DataFrame'>\n",
            "Int64Index: 3835 entries, 0 to 309\n",
            "Data columns (total 10 columns):\n",
            "ADR TSO          0 non-null float64\n",
            "IPOyear          1735 non-null float64\n",
            "Industry         221 non-null object\n",
            "LastSale         3779 non-null float64\n",
            "MarketCap        3521 non-null object\n",
            "Name             3835 non-null object\n",
            "Sector           3234 non-null object\n",
            "Summary Quote    3835 non-null object\n",
            "Symbol           3835 non-null object\n",
            "industry         3013 non-null object\n",
            "dtypes: float64(3), object(7)\n",
            "memory usage: 329.6+ KB\n"
          ],
          "name": "stdout"
        },
        {
          "output_type": "stream",
          "text": [
            "/usr/local/lib/python3.6/dist-packages/ipykernel_launcher.py:3: FutureWarning: Sorting because non-concatenation axis is not aligned. A future version\n",
            "of pandas will change to not sort by default.\n",
            "\n",
            "To accept the future behavior, pass 'sort=False'.\n",
            "\n",
            "To retain the current behavior and silence the warning, pass 'sort=True'.\n",
            "\n",
            "  This is separate from the ipykernel package so we can avoid doing imports until\n"
          ],
          "name": "stderr"
        }
      ]
    },
    {
      "cell_type": "code",
      "metadata": {
        "id": "MBAKT3DcftNz",
        "outputId": "9f7b22e1-aa29-4db8-a51e-8fae058eab7f",
        "colab": {
          "base_uri": "https://localhost:8080/",
          "height": 176
        }
      },
      "source": [
        "amex['Exchange']='AMEX'\n",
        "nasdaq['Exchange']='NAS'\n",
        "listings=pd.concat([amex,nasdaq])"
      ],
      "execution_count": null,
      "outputs": [
        {
          "output_type": "stream",
          "text": [
            "/usr/local/lib/python3.6/dist-packages/ipykernel_launcher.py:3: FutureWarning: Sorting because non-concatenation axis is not aligned. A future version\n",
            "of pandas will change to not sort by default.\n",
            "\n",
            "To accept the future behavior, pass 'sort=False'.\n",
            "\n",
            "To retain the current behavior and silence the warning, pass 'sort=True'.\n",
            "\n",
            "  This is separate from the ipykernel package so we can avoid doing imports until\n"
          ],
          "name": "stderr"
        }
      ]
    },
    {
      "cell_type": "code",
      "metadata": {
        "id": "p6bY8lYlgLhI"
      },
      "source": [
        "xls=pd.ExcelFile('listings.xlsx')\n",
        "exc=xls.sheet_names\n",
        "listings=[]\n",
        "for exc in exchanges:\n",
        "  listings=pd.read_excel(xls,sheet_name=exc)\n",
        "  listings['exc']=exc\n",
        "  listings.append(listings)\n",
        "#combined_listings=pd.concat(listings)"
      ],
      "execution_count": null,
      "outputs": []
    },
    {
      "cell_type": "code",
      "metadata": {
        "id": "bFFGkihAhRer"
      },
      "source": [
        "combined_listings=pd.concat([listings])"
      ],
      "execution_count": null,
      "outputs": []
    },
    {
      "cell_type": "code",
      "metadata": {
        "id": "f_eEaptUh3MP",
        "outputId": "13d3beb9-fd89-4020-b46f-bcd9c07c4ab8",
        "colab": {
          "base_uri": "https://localhost:8080/",
          "height": 278
        }
      },
      "source": [
        "combined_listings.info()"
      ],
      "execution_count": null,
      "outputs": [
        {
          "output_type": "stream",
          "text": [
            "<class 'pandas.core.frame.DataFrame'>\n",
            "RangeIndex: 310 entries, 0 to 309\n",
            "Data columns (total 10 columns):\n",
            "Symbol           310 non-null object\n",
            "Name             310 non-null object\n",
            "LastSale         296 non-null float64\n",
            "MarketCap        310 non-null float64\n",
            "ADR TSO          0 non-null float64\n",
            "IPOyear          92 non-null float64\n",
            "Sector           221 non-null object\n",
            "Industry         221 non-null object\n",
            "Summary Quote    310 non-null object\n",
            "exc              310 non-null object\n",
            "dtypes: float64(4), object(6)\n",
            "memory usage: 24.3+ KB\n"
          ],
          "name": "stdout"
        }
      ]
    },
    {
      "cell_type": "code",
      "metadata": {
        "id": "JUi9lz_xiPR5",
        "outputId": "32156d0d-e5ed-44aa-cc79-fe17350bb448",
        "colab": {
          "base_uri": "https://localhost:8080/",
          "height": 278
        }
      },
      "source": [
        "pd.concat([listings]).info()"
      ],
      "execution_count": null,
      "outputs": [
        {
          "output_type": "stream",
          "text": [
            "<class 'pandas.core.frame.DataFrame'>\n",
            "RangeIndex: 310 entries, 0 to 309\n",
            "Data columns (total 10 columns):\n",
            "Symbol           310 non-null object\n",
            "Name             310 non-null object\n",
            "LastSale         296 non-null float64\n",
            "MarketCap        310 non-null float64\n",
            "ADR TSO          0 non-null float64\n",
            "IPOyear          92 non-null float64\n",
            "Sector           221 non-null object\n",
            "Industry         221 non-null object\n",
            "Summary Quote    310 non-null object\n",
            "exc              310 non-null object\n",
            "dtypes: float64(4), object(6)\n",
            "memory usage: 24.3+ KB\n"
          ],
          "name": "stdout"
        }
      ]
    },
    {
      "cell_type": "code",
      "metadata": {
        "id": "pR4_5kTzipjm"
      },
      "source": [
        "#p=pd.concat('nasdaq','amex').info()"
      ],
      "execution_count": null,
      "outputs": []
    },
    {
      "cell_type": "code",
      "metadata": {
        "id": "Dd32iRTei3EF",
        "outputId": "0d661805-0754-488a-bc02-f0b69869a7b1",
        "colab": {
          "base_uri": "https://localhost:8080/",
          "height": 278
        }
      },
      "source": [
        "combined_listings.info()"
      ],
      "execution_count": null,
      "outputs": [
        {
          "output_type": "stream",
          "text": [
            "<class 'pandas.core.frame.DataFrame'>\n",
            "RangeIndex: 310 entries, 0 to 309\n",
            "Data columns (total 10 columns):\n",
            "Symbol           310 non-null object\n",
            "Name             310 non-null object\n",
            "LastSale         296 non-null float64\n",
            "MarketCap        310 non-null float64\n",
            "ADR TSO          0 non-null float64\n",
            "IPOyear          92 non-null float64\n",
            "Sector           221 non-null object\n",
            "Industry         221 non-null object\n",
            "Summary Quote    310 non-null object\n",
            "exc              310 non-null object\n",
            "dtypes: float64(4), object(6)\n",
            "memory usage: 24.3+ KB\n"
          ],
          "name": "stdout"
        }
      ]
    },
    {
      "cell_type": "code",
      "metadata": {
        "id": "LgyojZWMlZl2"
      },
      "source": [
        "xls = pd.ExcelFile('listings.xlsx')"
      ],
      "execution_count": null,
      "outputs": []
    },
    {
      "cell_type": "code",
      "metadata": {
        "id": "rUEIbZ8Xnt37"
      },
      "source": [
        "exchanges = xls.sheet_names"
      ],
      "execution_count": null,
      "outputs": []
    },
    {
      "cell_type": "code",
      "metadata": {
        "id": "P51WWrR_nxEB"
      },
      "source": [
        "listings = []"
      ],
      "execution_count": null,
      "outputs": []
    },
    {
      "cell_type": "code",
      "metadata": {
        "id": "dYqkWlqen0Aa",
        "outputId": "e7bc1380-b1b5-4050-d3d0-0670f22c8c46",
        "colab": {
          "base_uri": "https://localhost:8080/",
          "height": 72
        }
      },
      "source": [
        "for exchange in exchanges:\n",
        "    listing = pd.read_excel(xls, sheetname=exchange, na_values='n/a')\n",
        "    listing['Exchange'] = exchange\n",
        "    listings.append(listing)"
      ],
      "execution_count": null,
      "outputs": [
        {
          "output_type": "stream",
          "text": [
            "/usr/local/lib/python3.6/dist-packages/pandas/util/_decorators.py:188: FutureWarning: The `sheetname` keyword is deprecated, use `sheet_name` instead\n",
            "  return func(*args, **kwargs)\n"
          ],
          "name": "stderr"
        }
      ]
    },
    {
      "cell_type": "code",
      "metadata": {
        "id": "bDpWJsN4n884",
        "outputId": "b0ba19e8-36ce-4985-d582-68bcd31546b8",
        "colab": {
          "base_uri": "https://localhost:8080/",
          "height": 176
        }
      },
      "source": [
        "listing_data = pd.concat(listings)"
      ],
      "execution_count": null,
      "outputs": [
        {
          "output_type": "stream",
          "text": [
            "/usr/local/lib/python3.6/dist-packages/ipykernel_launcher.py:1: FutureWarning: Sorting because non-concatenation axis is not aligned. A future version\n",
            "of pandas will change to not sort by default.\n",
            "\n",
            "To accept the future behavior, pass 'sort=False'.\n",
            "\n",
            "To retain the current behavior and silence the warning, pass 'sort=True'.\n",
            "\n",
            "  \"\"\"Entry point for launching an IPython kernel.\n"
          ],
          "name": "stderr"
        }
      ]
    },
    {
      "cell_type": "code",
      "metadata": {
        "id": "QLyEj3WkoAsJ",
        "outputId": "99927adc-cd7e-4779-dc2f-1bb89b453a72",
        "colab": {
          "base_uri": "https://localhost:8080/",
          "height": 295
        }
      },
      "source": [
        "listing_data.info()"
      ],
      "execution_count": null,
      "outputs": [
        {
          "output_type": "stream",
          "text": [
            "<class 'pandas.core.frame.DataFrame'>\n",
            "Int64Index: 6961 entries, 0 to 309\n",
            "Data columns (total 11 columns):\n",
            "ADR TSO          0 non-null float64\n",
            "Exchange         6961 non-null object\n",
            "IPOyear          3184 non-null float64\n",
            "Industry         221 non-null object\n",
            "LastSale         6805 non-null float64\n",
            "MarketCap        5947 non-null object\n",
            "Name             6961 non-null object\n",
            "Sector           5350 non-null object\n",
            "Summary Quote    6961 non-null object\n",
            "Symbol           6961 non-null object\n",
            "industry         5129 non-null object\n",
            "dtypes: float64(3), object(8)\n",
            "memory usage: 652.6+ KB\n"
          ],
          "name": "stdout"
        }
      ]
    },
    {
      "cell_type": "markdown",
      "metadata": {
        "id": "qMC3cDzQfRtc"
      },
      "source": [
        "### sources to get financial data :\n",
        "(exchange rates) Oanda and brokers,  Fed reserve or state banks,  yahoo and google finance,  WOrld bank , OECD, eurostat"
      ]
    },
    {
      "cell_type": "code",
      "metadata": {
        "id": "T4uSJ22QoExn"
      },
      "source": [
        "from pandas_datareader.data import DataReader"
      ],
      "execution_count": null,
      "outputs": []
    },
    {
      "cell_type": "code",
      "metadata": {
        "id": "qL4FjMGzgcHN"
      },
      "source": [
        "from datetime import date"
      ],
      "execution_count": null,
      "outputs": []
    },
    {
      "cell_type": "code",
      "metadata": {
        "id": "CuhFcRA-ggxN"
      },
      "source": [
        "start = date(2010,1,1)\n",
        "end= date(2018,7,7)\n",
        "ticker='GOOG'\n",
        "source= 'yahoo'"
      ],
      "execution_count": null,
      "outputs": []
    },
    {
      "cell_type": "code",
      "metadata": {
        "id": "i2YDw1czhBr2"
      },
      "source": [
        "Sd=DataReader(ticker,source,start,end)"
      ],
      "execution_count": null,
      "outputs": []
    },
    {
      "cell_type": "code",
      "metadata": {
        "id": "IDbmJrb7hQR2",
        "outputId": "0027192f-30c5-4b2f-ae74-61cad67a57a5",
        "colab": {
          "base_uri": "https://localhost:8080/",
          "height": 208
        }
      },
      "source": [
        "Sd.info()"
      ],
      "execution_count": null,
      "outputs": [
        {
          "output_type": "stream",
          "text": [
            "<class 'pandas.core.frame.DataFrame'>\n",
            "DatetimeIndex: 2142 entries, 2010-01-04 to 2018-07-06\n",
            "Data columns (total 6 columns):\n",
            "High         2142 non-null float64\n",
            "Low          2142 non-null float64\n",
            "Open         2142 non-null float64\n",
            "Close        2142 non-null float64\n",
            "Volume       2142 non-null float64\n",
            "Adj Close    2142 non-null float64\n",
            "dtypes: float64(6)\n",
            "memory usage: 117.1 KB\n"
          ],
          "name": "stdout"
        }
      ]
    },
    {
      "cell_type": "code",
      "metadata": {
        "id": "Mc0yciNZlFPm"
      },
      "source": [],
      "execution_count": null,
      "outputs": []
    },
    {
      "cell_type": "code",
      "metadata": {
        "id": "1vx15bzUiREg",
        "outputId": "82f4403c-273d-4df3-d36f-bd47aec2e269",
        "colab": {
          "base_uri": "https://localhost:8080/",
          "height": 139
        }
      },
      "source": [
        "from pandas_datareader import data as web\n",
        "import datetime as dt\n",
        "\n",
        "start = dt.datetime(2001, 1, 1)\n",
        "end = dt.datetime(2016, 12, 31)\n",
        "\n",
        "df = web.get_data_yahoo('CBS', start=start, end=end)\n",
        "\n",
        "print(df.head())"
      ],
      "execution_count": null,
      "outputs": [
        {
          "output_type": "stream",
          "text": [
            "                 High        Low       Open      Close     Volume  Adj Close\n",
            "Date                                                                        \n",
            "2005-12-05  30.000000  26.700001  30.000000  26.700001  1087800.0  19.981934\n",
            "2005-12-06  26.850000  25.750000  26.850000  25.760000  1743800.0  19.278456\n",
            "2005-12-07  26.000000  25.250000  26.000000  25.549999  1536400.0  19.121294\n",
            "2005-12-08  25.750000  25.100000  25.530001  25.389999  2100700.0  19.001553\n",
            "2005-12-09  25.950001  24.950001  25.400000  25.629999  2414700.0  19.181168\n"
          ],
          "name": "stdout"
        }
      ]
    },
    {
      "cell_type": "code",
      "metadata": {
        "id": "l2QHtMDNjGsM",
        "outputId": "a35ad75a-bea4-48bb-c53e-b266afbe9006",
        "colab": {
          "base_uri": "https://localhost:8080/",
          "height": 139
        }
      },
      "source": [
        "from pandas_datareader import data as web\n",
        "import datetime as dt\n",
        "\n",
        "start = dt.datetime(2001, 1, 1)\n",
        "end = dt.datetime(2016, 12, 31)\n",
        "\n",
        "df = web.get_data_yahoo('GOOG', start=start, end=end)\n",
        "\n",
        "print(df.head())"
      ],
      "execution_count": null,
      "outputs": [
        {
          "output_type": "stream",
          "text": [
            "                 High        Low       Open      Close      Volume  Adj Close\n",
            "Date                                                                         \n",
            "2004-08-19  51.835709  47.800831  49.813286  49.982655  44871300.0  49.982655\n",
            "2004-08-20  54.336334  50.062355  50.316402  53.952770  22942800.0  53.952770\n",
            "2004-08-23  56.528118  54.321388  55.168217  54.495735  18342800.0  54.495735\n",
            "2004-08-24  55.591629  51.591621  55.412300  52.239193  15319700.0  52.239193\n",
            "2004-08-25  53.798351  51.746044  52.284027  52.802086   9232100.0  52.802086\n"
          ],
          "name": "stdout"
        }
      ]
    },
    {
      "cell_type": "code",
      "metadata": {
        "id": "7RRuDTMRk20o",
        "outputId": "e90a3239-1547-49d3-8e62-004cced8714f",
        "colab": {
          "base_uri": "https://localhost:8080/",
          "height": 269
        }
      },
      "source": [
        "pd.concat([Sd.head(3),Sd.tail(3)])"
      ],
      "execution_count": null,
      "outputs": [
        {
          "output_type": "execute_result",
          "data": {
            "text/html": [
              "<div>\n",
              "<style scoped>\n",
              "    .dataframe tbody tr th:only-of-type {\n",
              "        vertical-align: middle;\n",
              "    }\n",
              "\n",
              "    .dataframe tbody tr th {\n",
              "        vertical-align: top;\n",
              "    }\n",
              "\n",
              "    .dataframe thead th {\n",
              "        text-align: right;\n",
              "    }\n",
              "</style>\n",
              "<table border=\"1\" class=\"dataframe\">\n",
              "  <thead>\n",
              "    <tr style=\"text-align: right;\">\n",
              "      <th></th>\n",
              "      <th>High</th>\n",
              "      <th>Low</th>\n",
              "      <th>Open</th>\n",
              "      <th>Close</th>\n",
              "      <th>Volume</th>\n",
              "      <th>Adj Close</th>\n",
              "    </tr>\n",
              "    <tr>\n",
              "      <th>Date</th>\n",
              "      <th></th>\n",
              "      <th></th>\n",
              "      <th></th>\n",
              "      <th></th>\n",
              "      <th></th>\n",
              "      <th></th>\n",
              "    </tr>\n",
              "  </thead>\n",
              "  <tbody>\n",
              "    <tr>\n",
              "      <th>2010-01-04</th>\n",
              "      <td>313.579620</td>\n",
              "      <td>310.954468</td>\n",
              "      <td>312.304413</td>\n",
              "      <td>312.204773</td>\n",
              "      <td>3927000.0</td>\n",
              "      <td>312.204773</td>\n",
              "    </tr>\n",
              "    <tr>\n",
              "      <th>2010-01-05</th>\n",
              "      <td>312.747742</td>\n",
              "      <td>309.609497</td>\n",
              "      <td>312.418976</td>\n",
              "      <td>310.829926</td>\n",
              "      <td>6031900.0</td>\n",
              "      <td>310.829926</td>\n",
              "    </tr>\n",
              "    <tr>\n",
              "      <th>2010-01-06</th>\n",
              "      <td>311.761444</td>\n",
              "      <td>302.047852</td>\n",
              "      <td>311.761444</td>\n",
              "      <td>302.994293</td>\n",
              "      <td>7987100.0</td>\n",
              "      <td>302.994293</td>\n",
              "    </tr>\n",
              "    <tr>\n",
              "      <th>2018-07-03</th>\n",
              "      <td>1135.819946</td>\n",
              "      <td>1100.020020</td>\n",
              "      <td>1135.819946</td>\n",
              "      <td>1102.890015</td>\n",
              "      <td>679000.0</td>\n",
              "      <td>1102.890015</td>\n",
              "    </tr>\n",
              "    <tr>\n",
              "      <th>2018-07-05</th>\n",
              "      <td>1127.500000</td>\n",
              "      <td>1108.479980</td>\n",
              "      <td>1110.530029</td>\n",
              "      <td>1124.270020</td>\n",
              "      <td>1066700.0</td>\n",
              "      <td>1124.270020</td>\n",
              "    </tr>\n",
              "    <tr>\n",
              "      <th>2018-07-06</th>\n",
              "      <td>1140.930054</td>\n",
              "      <td>1120.737061</td>\n",
              "      <td>1123.579956</td>\n",
              "      <td>1140.170044</td>\n",
              "      <td>996100.0</td>\n",
              "      <td>1140.170044</td>\n",
              "    </tr>\n",
              "  </tbody>\n",
              "</table>\n",
              "</div>"
            ],
            "text/plain": [
              "                   High          Low  ...     Volume    Adj Close\n",
              "Date                                  ...                        \n",
              "2010-01-04   313.579620   310.954468  ...  3927000.0   312.204773\n",
              "2010-01-05   312.747742   309.609497  ...  6031900.0   310.829926\n",
              "2010-01-06   311.761444   302.047852  ...  7987100.0   302.994293\n",
              "2018-07-03  1135.819946  1100.020020  ...   679000.0  1102.890015\n",
              "2018-07-05  1127.500000  1108.479980  ...  1066700.0  1124.270020\n",
              "2018-07-06  1140.930054  1120.737061  ...   996100.0  1140.170044\n",
              "\n",
              "[6 rows x 6 columns]"
            ]
          },
          "metadata": {
            "tags": []
          },
          "execution_count": 40
        }
      ]
    },
    {
      "cell_type": "code",
      "metadata": {
        "id": "tyjwlwzDmHdg",
        "outputId": "9bf74bf7-2ed0-43ec-a305-7ded81c3a997",
        "colab": {
          "base_uri": "https://localhost:8080/",
          "height": 285
        }
      },
      "source": [
        "import matplotlib.pyplot as plt\n",
        "Sd['Close'].plot(title=ticker)\n",
        "plt.show()"
      ],
      "execution_count": null,
      "outputs": [
        {
          "output_type": "display_data",
          "data": {
            "image/png": "iVBORw0KGgoAAAANSUhEUgAAAYAAAAEMCAYAAADNtWEcAAAABHNCSVQICAgIfAhkiAAAAAlwSFlz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\nEPX/AVvxDh7sKmPnAAAAAElFTkSuQmCC\n",
            "text/plain": [
              "<Figure size 432x288 with 1 Axes>"
            ]
          },
          "metadata": {
            "tags": []
          }
        }
      ]
    },
    {
      "cell_type": "code",
      "metadata": {
        "id": "FpDwfGimm14T",
        "outputId": "fbdbacc3-e4e2-4a64-a6d2-9e0658894a31",
        "colab": {
          "base_uri": "https://localhost:8080/",
          "height": 285
        }
      },
      "source": [
        "import matplotlib.pyplot as plt\n",
        "Sd['Open'].plot(title=ticker)\n",
        "plt.show()"
      ],
      "execution_count": null,
      "outputs": [
        {
          "output_type": "display_data",
          "data": {
            "image/png": "iVBORw0KGgoAAAANSUhEUgAAAYAAAAEMCAYAAADNtWEcAAAABHNCSVQICAgIfAhkiAAAAAlwSFlz\nAAALEgAACxIB0t1+/AAAADl0RVh0U29mdHdhcmUAbWF0cGxvdGxpYiB2ZXJzaW9uIDMuMC4zLCBo\ndHRwOi8vbWF0cGxvdGxpYi5vcmcvnQurowAAIABJREFUeJzt3Xd4VFX6wPHvm94TQkKABAi9d6Q3\nBey9l5+VXdfVVVddldW1rH1XV1fXtq6ufe1dFFTsUiR0kBaQFlpCCJDezu+Pe2cyk5mQMklmyLyf\n58mTmXPPnXkzSe577znnniPGGJRSSgWfEH8HoJRSyj80ASilVJDSBKCUUkFKE4BSSgUpTQBKKRWk\nNAEopVSQ0gSglFJBShOACloicr6ILBKRIhHZaz++WkTE3j5eRL4WkUMickBEPhGRAbVeI0lEnhGR\n3SJSLCKrROTyxr6XUv6gCUAFJRG5CXgceBjoCKQBVwETgAgRGQd8AXwEdAa6AyuAn0Skh/0aEcBX\nQDdgHJAI3Aw8JCI3NvS9WvpnVaouoncCq2AjIonATuASY8x7ddT5AVhljLm6VvnnQK4x5hIRmQk8\nCHQ3xhS51DkPeAErcUh976WUv+gVgApG44BIrLN7DyISA4wH3vGy+W1ghv14BvC568Hf9h4QZb/P\nYd9LKX/SBKCCUQqQZ4ypdBSIyHwRKRCREmAU1v/GLi/77rL3d7yORx37dfPs7Yd9LxGZ3Fw/lFKN\npQlABaN9QIqIhDkKjDHjjTFJ9rZ4oBro5GXfTlgHd+zvHnXs102xt9f3Xvo/qPxG//hUMFoAlAGn\n1bG9yK5zjpdt5wLz7MdfASeISGytOmfZr7+wAe+llN+E1V9FqbbFGFMgIn8FnraHYc7FOugPARwH\n81nAXBFZB7yI9b9yE1ab/lF2nVeBq4F3RORqIAc4BngCuNsYcwCgAe+llF/oKCAVtETkIuB6YBDW\nQXkz1uidl4wx5SIyEbgPq0+gGvgBuNUYs9rlNZKxRgKdDiTYr/GYMeb5xrxXS/6cStVFE4BSSgUp\n7QNQSqkgpQlAKaWClCYApZQKUpoAlFIqSGkCUEqpIBXQ9wGkpKSYzMxMf4ehlFJHlCVLluQZY1Lr\nq1dvAhCR/wInA3uNMYPssoeBU4ByYBNwuTGmwN72Z2AmUAVcZ4yZa5cfjzUlbijwvDHmofreOzMz\nk6ysrPqqKaWUciEiWxtSryFNQC8Bx9cq+xIYZIwZAmwA/my/6QDgfGCgvc/TIhIqIqHAU8AJwADg\ngtoLayillGpd9SYAY8z3QH6tsi9cZjdcCGTYj08D3jTGlBljfgWygdH2V7YxZrN91+Ob6NwoSinl\nV83RCXwF8Ln9OB3Y7rJth11WV7kHEblSRLJEJCs3N7cZwlNKKeWNTwlARG4HKoHXmyccMMY8Z4wZ\nZYwZlZpabx+GUkqpJmryKCARuQyrc3iaqZlQKAfo4lItwy7jMOVKKaX8oElXAPaInluAU40xxS6b\nPgbOF5FIEekO9AZ+BhYDvUWku72Q9vl2XaWUUrZdB0ooq6xqtferNwGIyBtYi1r0FZEd9kLYT2Kt\nmvSliCwXkWcBjDFrsNZM/QWYA1xjjKmyO4z/gDUX+lrgbbuuUkop4EBxBeMe/Jq+f5nTpP33Hirl\n7Gfms2HPoQbvU28TkDHmAi/FLxym/v3A/V7KPwM+a3BkSikVRIornMtGs7OghM5J0QBc9eoSJvdJ\n5cIxXQ+7/6LN+WRt3c+TX2c3+D11KgillAoA5ZXVzsfrdh90Pp6zZje3fbCq3v2r7a7YxqzwoglA\nKaUCgGsCEASAiqrquqrXqTGLfGkCUEqpAFDmkgCqqq2D+IGSigbv79inuLzhnciaAJRSKgC4JoDK\nJiQARzPR/uKGLzGtCUAppQKA6/DPqmrD/qJyXvjxV7eyuny6cielFVYCOVDc8KQR0NNBK6VUsCir\ncL0CqOb6t5bz/Yaa6XBKKqqIi/R+yP7D/5Y5H2/OK2rwe+oVgFJKBYDLX1rsfFxtDDsLSty2F5VV\n1t7FZ5oAlFLKz2o371RWGY8yTQBKKdUGHbQ7e9Ptm78qq42zzKEho3sSo8Mb9b6aAJRSys8cI3d+\nO6k7ACXlVewrch/NU1jHFYDrvQKNGTUEmgCUUsrvPlu1C4AuyTEAHCr1PNgXl3tPAAX2qJ/LxmeS\nGh/ZqPfVBKCUUn72yBcbAEiKCSc6PJT8ojKPOkVl3puAHFcPI7u1IzVOE4BSSh2ROiZGExcVxp6D\n3hKA+xXAzoISTn/qJ1bnHACgXUwEpwzt3Kj30/sAlFLKj1zb9tOToomPDGPvoVKPekW1OoGf/Cab\n5dsLiI0MBSAmMpSrpvRg+fb9PNfA99YrAKWU8qO9B62D/UNnDgYgNjKMpdsKPOrVvgLIL7SafmIi\nrPP48JAQRIR/Xzyqwe+tVwBKKeVHJRXWmX1STAQA+wo9m38iwkIosjuBf8rOIyo8lIgw6/z9y1/2\nABAWKo1+b00ASinlJzv2F7O/yBrFEx1hNeXsPODZ/BMdHkqp3QR00fOLADhzRLpbnXBNAEopdeSY\n+LdvnI+jw0PdtkWFhzgneAsPFecMoQ6FtYaKhoY0vkVf+wCUUsoPSivcO3Wjwt0Px64JITREqKyq\nlQBq9QmEhTT+CkATgFJK+UHtO31rXwE4nkeEhbDnYBlvZW13m+p5z0H3pqJ2sRGNjkGbgJRSqhVV\nVRteX7SVzPaxbuVRtRJAWKh1fp4YHU7uIatjODu30Ll9U6417fM9pw2kc2J0nVNFH44mAKWUakXv\nLtnOnR+toUtytFu5oxPYwTGqZ2qfVN5ZsgNwXzQGYEz3ZC4Zl9nkWDQBKKVUK3LM87M9v4TQEHFO\n+1z7DH5zbhGzr5tI7w7xzgTgunA8wPCu7XyKRROAUkr5SceEKP5+9hCiI0I9moAGpScwsHMiAOeN\n6sJbWdu57MXFbnXio3w7hGsCUEqpVlBUVslfP1nD21k7nGU5BSVM6JXitf7pw2rG+Y/v1Z63srZ7\n1NEEoJRSR4Bz/72ANTsPupVdNj6zzvqufQIh4n2IZ1M6fl3pMFCllGoFtQ/+AFP6pNZZ33VYaF0J\nIDzUt0O4JgCllGph5ZXVRIZ5Hm69lU3vnwbUTgDeX7ekov5lIg+n3gQgIv8Vkb0istqlLFlEvhSR\njfb3dna5iMgTIpItIitFZITLPpfa9TeKyKU+Ra2UUkeQBZv3UVZZzVVTenLG8Jq2/chwz0Pw5RMy\nARiZWTPCp9Rl+OfdpwxwPh7ZreVHAb0EPAm84lI2C5hnjHlIRGbZz28FTgB6219jgGeAMSKSDNwF\njAIMsEREPjbG7PcpeqWUOgJ8tnIXCVFh3DCjN5FhofyYnUfuoTIiw0I96k7olcKWh05yK9u2r8T5\n+OJxmQzOSOTXvGJ6psb5FFe9VwDGmO+B/FrFpwEv249fBk53KX/FWBYCSSLSCTgO+NIYk28f9L8E\njvcpcqWUOkLsKyonvV2M84DvmPen9vw/dXG9AggRGNktmbNHZvgcV1P7ANKMMbvsx7uBNPtxOuA6\nVmmHXVZXuQcRuVJEskQkKzc3t4nhKaVU4KisrnabrtlxQ1d0RMNG8cS49AdIHR3CTeFzJ7AxxmA1\n6zQLY8xzxphRxphRqal195ArpVSgO1BSQeas2Xy7PpcKl9k87zx5IB0TougQ37BF3K+c0qNF4mvq\nINI9ItLJGLPLbuLZa5fnAF1c6mXYZTnA1Frl3zbxvZVSqtXN35RHalwkvdPiG7xP9t6aydvW7qoZ\nBnrSkE6cNKRTg18nMiyUpXfMYOu+ogbv0xBNvQL4GHCM5LkU+Mil/BJ7NNBY4IDdVDQXOFZE2tkj\nho61y5RSKuDtKyzjwv8sYsZj3zdqvxXbPdf2bark2Aif5/6prSHDQN8AFgB9RWSHiMwEHgJmiMhG\nYLr9HOAzYDOQDfwHuBrAGJMP3Asstr/uscuUUirgvTR/i0dZXmEZd3602mOGTlf3fPpLC0blu3qb\ngIwxF9SxaZqXuga4po7X+S/w30ZFp5RSfravsIx/fZ0NWDduPfn1Ro7KTOaVBVuZvWoX7y/NYfVf\nj/NzlE2jcwEppdRhLNtW04yTEhfJI19sAKzZOsFzaUZXybERHDcwjXeX7OCUIZ1bNtAm0ASglFKH\nUVRuHeAz2kWzY3+Jx/a61uJdvr2A/KJyIsNC2Xj/iS0aY1PpXEBKKXUYB0qsdXhdD/6J0eGszrFG\n9VRWex8Ff/pTPwHw8YqdLRxh02kCUEqpw9hzsJTQWmf5Y7on17vfUfZcPh9ePaFF4moOmgCUUqoO\nxhi25ZeQUGvhlb32Iu2OvFBc7ljmsZhN9sLtISKM7p5M1/YxrRdwI2kCUEopL4wxTPvHd3yyYif7\niyvIdDmQ7zlYCoCj9edRu2N40t+/Ydo/vmNzbiFF5ZXERnhO9hZINAEopZQXt3+4ms15NXfe/vP8\n4c7Huw6UutVdvMX9tqZj/vEdq3MOEuvjil0tTROAUkp58b9F25yPR3RNYliXJJ6/ZJRbnX4drWkh\nVuw4QOas2R6vUVVHB3Gg0ASglFJeDE5PdD52nMlPH5DGeaNqpjt78fKjPPZrHxvhfJyWENWCEfpO\nE4BSSnkRExHKoPQERnRN4rYT+zvLx/dq73zcMSGKL26Y7LZfYnS48/FNx/Zp+UB9ENgNVEop5Qf5\nReUs+jWfib1SeO03Y9y2ZbSr6QwWEVLj3Kd03l9czjtXjSM8NIT4qHACmSYApZSq5Y2frfb/H7Pz\nPLalJ0W7PXc94wdrZNBRmfXfJxAINAEopVQtjoN8UoznGXyqvYiLY1hoSIjw461H0z42kjs+Ws2F\nY7q2XqA+0gSglFK1hNnLN/6n1qgfgNAQ4Z2rxtE9JdZZ5mgWeuScoa0TYDPRBKCUUrU4hm+mxHlf\nsvFIaeKpj44CUkqpWirt9XvrmumzrdAEoJRStTiuAGpPAtfWaAJQSqlavt2wF9ArAKWUCjpx9p2/\njhE/bZUmAKWUqiU0REiNj0RErwCUUiqoFJZVOa8C2jJNAEqpoHfXR6s5+pFvnZ2/RWWVxEYG9lz+\nzUETgFIqqBWXV/Lygq38mlfEzgJr3d9t+cV0DPCZPJuDJgClVFDZe8h9MZe/z1nvfFxWWUVeYRmb\ncgsZmpHU2qG1Ok0ASqmgsXx7AaPvn8dHy3MAKCgu56X5W5zbL/3vYm57fxXGwLie7et4lbaj7fdy\nKKWUbYu9xONXa/cysVcKI+/7ym17TkEJOXYzUKAv5tIc9ApAKRU0HHf2llVU8cgXNU0/PVJjPep6\nmwm0rdEEoJRqE7L3Hqq3TlFZJQAFxRV8smIXADMndufhs2tm8YwMC6Ffx/igGAbq008oIjcAvwEM\nsAq4HOgEvAm0B5YAFxtjykUkEngFGAnsA84zxmzx5f2VUgrgy1/28NtXsnjqwhGcNKRTnfUK7QTw\n85Z8wFrT9+i+HaioqnbWmXfTFFLi2v5NYODDFYCIpAPXAaOMMYOAUOB84G/AY8aYXsB+YKa9y0xg\nv13+mF1PKaV8ttE++3/2u0111vnjm8u4b/Za5/OUuAgm904FIDy05lCY0S6GqPC2fw8A+N4EFAZE\ni0gYEAPsAo4B3rW3vwycbj8+zX6OvX2aBEOKVUq1uJftkTyrcg64lR8qrWDvoVKKyyv5cPlOt239\nOia4zfY5unsyk3qntHisgaTJTUDGmBwReQTYBpQAX2A1+RQYYyrtajuAdPtxOrDd3rdSRA5gNRN5\nLrqplFKNsOdgmdfywXd/AVhNPQBnDE/ng2XWENDoCPez/Ld/N64FIwxMvjQBtcM6q+8OdAZigeN9\nDUhErhSRLBHJys3N9fXllFJBZvbKXR5ll7+4GIDrp/V2lt172qBWiylQ+dIENB341RiTa4ypAN4H\nJgBJdpMQQAaQYz/OAboA2NsTsTqD3RhjnjPGjDLGjEpNTfUhPKWUv2zbV8yh0opme72Kqmo+XbnT\nrbN2zurdvL5oKx8uy3Gre83/lgI1i7q4ahcbwbI7ZvDiZUfRMbHtj/Ovjy+jgLYBY0UkBqsJaBqQ\nBXwDnI01EuhS4CO7/sf28wX29q+NMZ6/IaXUEW/yw9/Qq0McX904pVleb/qj37F1XzEAy++cwfxN\n+7j69aVudSJCQyi3E4QxxtkxfPHYbry6cCsA8ZFhhIQIR/fr0CxxHemafAVgjFmE1Zm7FGsIaAjw\nHHArcKOIZGO18b9g7/IC0N4uvxGY5UPcSqkA8vGKncx6b6VbWfbewmZ57epq4zz4A5z/3EKPgz9Y\nnbgOZZXVZG3ZD8CVk3sA0DEhipA2vsJXY/l0H4Ax5i7grlrFm4HRXuqWAuf48n5KqcCx60AJG/cU\nMqFXCte9sQyAB88c3KDx8xv3HGL3wVIm9a6/mXfKI9+4PV+32/OGry9umMyybfv5MdsaU9LvjjnO\nbanxkay8+1gqKqs99gt2bf9WN6VUi5jy8LeUV1ZzybhuzrLi8ipiG3AH7YzHvgdgy0Mn1Vt3e741\nN8/103rz+LyNbtuuntqTG2f0ISw0hA17vN8JHBkWEjTj+htLp4JQSjVaYVkl5fYZ9SsLtjrL9xWW\n01Jde6cN68zHf5jAFRO6O8tuOb4fYfZNXFFh3g/yertR3TQBKKUa7bx/L/BanldU5nX0javyRjbF\npCdFA9AjNY4hGUncecoAr/Uq63lf5UmbgJRSjbZm50Gv5Tn7SxjQKaHO/X73ahZz1+xxPq+qNm53\n43oTFxnGcQPT3MoePnuIxwye8VGeh7NB6XXHovQKQCnVjK59YxkHS7yP//9g2Q63gz9ASUXVYV/v\nYGkF6/ccIqJW8845o7owsluyW9n4nu154oLhAHRPsZJDt2TPaZ5VDb0CUEo1WkRYCBeP7ca+wjI+\nXL6TFy4dxcyXs8hoF01+cblH/fyicm54a4VHeUl51WGnXX7syw1Aw4aUiginDu3M9P4diAgN4bkf\nNnPR6G717hfM9ApAKdVgh0orOOfZ+ZRXVpMcG8H9Zwxm/qxjmNbfaqLZsb+EXQdKPfbbV+h9rp5S\n+wqgoqqaUfd9yfM/bHbbvj3fGv9/24n9GhxjTEQYYaEhXD21F4lBsKiLLzQBKKUa5JlvNzHzpSwW\n2zdYbc8vJjYyjM52J63DDW8tB3Br21/rMnb/+UtG8c/zhgFWwgBrrd68wnK36Zqrqw1frd3L+J7t\nG3S/gGo8bQJSSjXI3+asc3s+oms7t+e9O8SxcW8hBcVWH0CC3SlbXlnNN+v2AjB/1jF0TormJ/uG\nrQv+s5DQEGFG/5pO3neX7ODskRncat9ZvGTr/pb5gZReASilmqb2mX//WqN/4uwEcOWrWXywLIep\nfVOd+/TuEOesV1VtmLNmt/P5n95ZQWlFFflFVl/Cvy8e2SLxK00ASqkm6tsx3u35bSf296jz0fIc\nvl1vTeueHBvhLE+Nj/SoO6Z7Mv3s19ycW0RaYhTtYyOY2lcnbmspmgCUUo1y1ZSebHnoJI+DeO3p\nlbfnl3D9m8udz3e7dA57uzs3PiqMx8+3hnFu2HOIvENltHNJGqr5aQJQSjXKTcf2qbdOSpznGX5l\nlfudul2TY9yeD+/azjl+/5MVO1m7+yB909yvMlTz0gSglGqw9KRotwXU6xIR6nmGHx7mXpYYXTNE\n846TBzBzYnciwqzXnrduL9vzS+icpIu2tCRNAEqpBokIDeHUYZ0bVLf2ersAYSHuh5udBSXOxzMn\ndnfO2Hnq0Jr3KNMpnFuUJgClVINUG0N966k8fPYQwGrOcWhvt+NfMbG7W903rhxrrxo22a3ctbPY\ndQ1f1fz0PgClVINYCeDwGeCcUV04Z1QXHvq85p6BJXfM8Fq3T1q81yUjw+ws8/upPWnvpS9BNR+9\nAlBKNUi1gYbOrB8Z1vRDS1F5JQDJMToCqKVpAlBKAXD7B6u4f/YvXrc5Fnlp6OIqldVW2/05IzMa\nHYdj3H/tG81U89MmIKWC3OqcAyREhfP6om0A/GZSD9IS3EffXGuv+Zvj0nF7OBePzWTxr/u55fiG\nT+LmcNzAjnx90xTnkFDVcjQBKBXEtucXc/K/fnQru+zFxXx+/SS3sk9X7gJgvj2HT306Jkbx9lXj\nmhxXj9S4+ispn2kTkFJBbOHmfR5ltRd0KXVZtCXKy/BOdeTSBKBUEMu15+nv5zKvT68O7mffZz0z\n3/m4sLSydQJTrUITgFJBrKzC6qxd5zJf/4LN+yitqKK62lBdbdzW/33h0qNaPUbVcrQPQKkg5hjd\n46q8spob315OSXkVew/VrOT17Z+mkqkds22KJgClglh1reN/n7Q4Nuwp5Ktf9lJeVTMNw6lDO+vB\nvw3SJiClgpjBPQPERNireFW5z8GTpGvrtkmaAJQKYq5XABeP7VbnXD9J0ZoA2iKfEoCIJInIuyKy\nTkTWisg4EUkWkS9FZKP9vZ1dV0TkCRHJFpGVIjKieX4EpVqH63DItqLa7gP4+1lDuPf0Qc5RQbUl\n6rQMbZKvVwCPA3OMMf2AocBaYBYwzxjTG5hnPwc4Aehtf10JPOPjeyvVKiqrqsmcNZt+d8zhue83\n+TucZmUMRIWHcO5RXQBrFS9vInyY20cFrib/VkUkEZgMvABgjCk3xhQApwEv29VeBk63H58GvGIs\nC4EkEenU5MiVaiVLtu53Pn7gs3W8PH+L/4JpZqbWDJ/pLvPvdGtfs2JXQpSOF2mLfEnr3YFc4EUR\nWSYiz4tILJBmjNll19kNpNmP04HtLvvvsMuUCliVVdWc99xCt7K7Pl7DTW+voKis4TdFVdcebhMg\nqg1uCSDMZSWvkwbXnJ8d3U8XZm+LfEkAYcAI4BljzHCgiJrmHgCMNci4UX/5InKliGSJSFZubq4P\n4Snlu399nQ1YC5a7em/pDt74eVuDXuPb9XvpcdtnvJ213WPbgk37eG/JDt8DbaJqY9ymeA61e4Fv\nnNGHG2f04cEzB5PRLpr4SL0CaIt8SQA7gB3GmEX283exEsIeR9OO/X2vvT0H6OKyf4Zd5sYY85wx\nZpQxZlRqaqoP4Snlm8Vb8nl83kYAvvnTVB4/f5jb9movN1F5c9mLiwG45d2VABSVVWKM4e9z1nHB\nfxZy0zsrvN6Q1RqMAdcZnkPtJ8cN7EhYaAgXjO7Kj7ce0+BpoNWRpclp3RizW0S2i0hfY8x6YBrw\ni/11KfCQ/f0je5ePgT+IyJvAGOCAS1ORUgHl2/V7nQdusJY1nNY/jUHpCazOsaZGqO+YvXhLPk9/\nk+1Wtm73QY7/5w8edb/4ZQ/HDezoe+CNZIwhxGXsp+MKoCpAm6xU8/K1a/9a4HURWQkMAx7AOvDP\nEJGNwHT7OcBnwGYgG/gPcLWP761Ui9iw55Dbwf+2E/shIsRFhrnNhXO4Y+SuAyWc8+wCvlnv3ox5\nzyfeF1z53atLWLf7oNdtDVFaUUVlVeMXUK/dB+B43NCrG3Vk8ykBGGOW2801Q4wxpxtj9htj9hlj\nphljehtjphtj8u26xhhzjTGmpzFmsDEmq3l+BKWaT15hGcc+9r1bmevKVK53xL6+aGudr7OvsNzt\n+ZkjrPEO8zd5Tr/scNv7qxoVq4MxhqMf+Zab3lnB3kOl5BeV17+TrXYfQE97JtCocJ32ORjo4F6l\nXLyT5dkh2zW5ZjhkZFjNgXHHfs8x83n2jVSHak2bfMWE7h51h2QkctzANOfzpdsKGh8wkF9Uzq4D\npXy0fCej75/HiHu/BGD3gVK+WLP7sP0L1cZ9mceHzhzM85eM8pgSWrVN2rWvlO1QaQVrd3k2wwxO\nT6xzn9xDZaTGRwKwdNt+znx6PlP6pDK+Z3sABqUnsGF3IYNcXmNQegKzju/PhF7tERG+35DLJf/9\nGbCGneYVltMxMcrzzeqw+2Cp1/LHvtzAW1nbeeeqcRyVmey1TkVVNeEuQz9jI8OYPiDNa13V9ugV\ngFK2wXd/wccrdgJw0hBrDPypQzsfdgRMSXnN9BA59hXBdxtyefDzdQA8+38j2XD/CYA1tDI0RHj3\nqvFM7J3ifN3JfVKZ0ieVfh3jefGnLYx9cB7P/7C5wXFn7y30Wr7LTgxb9xXXuW9RWaXHEFcVPDQB\nKIV19u8wunsy10/rDcAML2fD6+873vl4X1HN3Dnb93seaFPiIp2Pr5vWm00PnOi1fb1jQhR5heWs\n3nkAgPtmr2X3Ae9n9rW53qnssLOghER7ArfcQ97n9wEoLKskVsf4By1NACroGWP4caO12PlzF4/k\n7d+No09aPKv/ehynDO3sUd+1H+CMp2uWS1xQq4O3XUx4gztTM9pFk1dYxif2FQjA1a8vqXe/v89Z\nxysLttKtfQxXTOjuvHL5dOVOZ9POtvyiOvc/VFpJnCaAoKW/eRX0Xlu0jTs+XA1A77SatXEbemAs\nss+it+e7XwH8fmrPBseQkWyNNHIdWrp0WwED7pzDj7ceQ3Ks+2ycS7bup31sBE9/a01Ot3VfMXee\nMgCA2Stn88Bn65x13/h5O2/8XHMX8vie7Skur+LS8d0oLKukc1LD+xtU26IJQAW9V1wmd+vSLrru\nii7G9WjPgs3WGf8dH63mignd2bKvmOn90zh2QBpnjEgnPLThF9gdE7y/b3F5Fbe9v4onLhjOwdIK\n2sVEsHJHAWc9M59hXZIa/PquHENRzU+GQr0CCGr6m1dB7do3lrHRpRM1rIEH7UvHZzoTwPtLc3h/\nqTWrydCMROfUyo2REF3zr/jqzNGs2XmQh+yO5DlrdtPnL587t//trMEALN/ufdjo9P5pfLV2T73v\nuWLHAUJDhI4JegUQrLQPQAU1R5t7rw5xfH3TlAbvd9zAND6/fpJHeXJc0xZOSYiqucFsQKcEfjOx\nO4+dN5SzRmR41M2rdZPZzcf15Y3fjnU+f/LC4Vw0pisAsRFWH8SIrkn8+uCJ/OOcoVacdpNSVbXh\nqO7eh4iqtk+vAFTQ+WDZDjonRrvdyPXmlWPdRuzUR0To3ymBmIhQil2GgrZr4spZriNx4qLCCAsN\n4YzhGXRNjuG9pe43p7me+f/jnKGcNdI9SUSFh3L/GYMZ3T2ZEV3b8c36vZwxPB0R4ayRGZw1MoOc\nghImPPQ1ACO7tWtSzOrIpwk2k4lBAAAciElEQVRABZWnvsnm4bnr3cpeuvyoRh38XV0/rbdzzH/n\nxCgm9Epp0uu0c5liwnWU0chuyZw7KoO3s3Y4k8363Yec22sf/F2dNsyafuKScZke29KTovn6pimU\nV1U7F4JXwUebgFRQefY79yUdk2LCmdKn6dOOXzm5B9P7W4ulPHjWEOfY+8Y63M1mjj6KIRnW3cTb\n8uu+sasxeqTG0a9jQrO8ljoyaepXQaX2HD1v/26cT3Pdiwh3nTKQzPaxzukfmurrm6aQU+A5v5Bj\nlM65o7qwcHO+s3zFXcf69H5KaQJQQcN1UrSHzhzMgs37yGwf6/PrdkmO4S8nD/D5dXqkxtEj1XMS\nNscUzfEuHcXDuiQ1+WpDKQdtAlJBo9Bew/e3k7pz/uiuPH7+cCLCAv9f4M5TBjC5TyoTXfoX7j9j\nkB8jUm2FXgGooLHXnhNnQOcjq927Z2ocr1wxGoAN953Aut0HGdi57hlKlWqowD/9UaqZlFZYwzWP\n5FEvEWEhDMlo2h3AStWmCUAFDcc6t6G6wLlSgCYAFUQqHQkgVBOAUqAJQLUBpRVVfPnLnsMufQhQ\nbSeAsBBNAEqBJgB1BHlr8TaytuR7lN/2/ip++0rWYRdcB5crAG0CUgrQBKCOILe+t4qzn11ARVW1\ns6yssor3l1kzcV70/CIWbNrntkxjRVU1n63ahTGmpg9ArwCUAjQBqCPQkq372ZxbSOas2Xy8fKfb\ntgv+s5B7Pv0FsG786n3751z9+lJe+PFXZwII0z4ApQBNAOoIUVZZc1b//YZcbnh7BQA3v7vSo+5n\nq3ZRXF7J3DW7nWX3zV7Lawu3AhAWon/2SoHeCKaOEPOza9r3HcsguprUO4UfNuaR0c6a5nnAnXPp\n1j7Grc4Xv1iLpHROatiqX0q1dZoA1BHhwc/X1rnt0XOHcqa9cMruA6WMfXAeYK2TO7lPKqcP68yN\n9hUDQEoTF21Rqq3Ra2F1RNiwx5oSee09xzvLPr9+EivvPtZ58AfoEO8+r39m+xhOH5bOhfYKWfFR\nYT7N/qlUW6JXACpg7D1Yyq95RYzp4T6tcnmlNepnUHoC0RGh/PrgiVQb76N5QkKED6+ZwOlP/QTA\nCYM6ERIi3HPqQNrFhHPp+MwW/zmUOlL4nABEJBTIAnKMMSeLSHfgTaA9sAS42BhTLiKRwCvASGAf\ncJ4xZouv76/ajv97YREb9hTyyR8mMjijZrKzpdv2A3D9tD6ANQf/4QbyDOuSxMq7j2VfYTndU6zp\nnsNCQ7j5uH4tF7xSR6DmaAK6HnBtoP0b8JgxphewH5hpl88E9tvlj9n1lHKKDreWQrzmf0udQzYB\nXl+0DcB5MG+IhKjwRtVXKhj5lABEJAM4CXjefi7AMcC7dpWXgdPtx6fZz7G3TxNtjFW2kvIqUu32\n+235xfS87TPOfPonNuUW8skKa6x/56Qof4aoVJvjaxPQP4FbgHj7eXugwBjjWHdvB5BuP04HtgMY\nYypF5IBdP8/HGNQRrrCskkF3zfUoX7qtgKVb9zufH8nTOCsViJp8BSAiJwN7jTFLmjEeRORKEckS\nkazc3NzmfGkVoBZtrhnjf/HYbvz3slHO544bvZ68cHirx6VUW+dLE9AE4FQR2YLV6XsM8DiQJCKO\nU7UMIMd+nAN0AbC3J2J1BrsxxjxnjBlljBmVmprqQ3jqSLAlr4iZL2cB8OaVY7n39EEc0y+Nh88e\n4lbv5CGd/RGeUm1akxOAMebPxpgMY0wmcD7wtTHmIuAb4Gy72qXAR/bjj+3n2Nu/NvXN36uOGNXV\nhsxZs3nhx18btd8Nby8H4NgBaYx1Gf55xvD0unZRSjWTlmhUvRV4U0TuA5YBL9jlLwCvikg2kI+V\nNFQb0eO2zwC499Nf6JwYxQmDO9W7T15hGcu2FQDw7P+NdNsWFhrC+vuO56PlO0mICm/+gJVSzZMA\njDHfAt/ajzcDo73UKQXOaY73U4HFdXpmgN+/vpQtD51UZ/3i8krW7z7EGU/PB6Bb+xhCvNzUFRkW\nyrmjujRvsEopJx1WoXy252CpR5kxps4pF8799wJW5xx0Pp/7x8ktFptSqm46F5Dy2TtZOwBrpM6E\nXlY7fmW1Z/fO/Ow8Plmx0+3gf/NxfYmybwBTSrUuvQJQPikoLuflBVsAa96dnP0l/JS9j4qqasJD\na84vvvxlD799Jctj/4Robd9Xyl/0CkD5ZNg9X1JQXEFm+xhCQ8R50HdM4AawascBj4N/fJR17hEb\noWf/SvmLJgDVZK6jeP9wTG8AUuzpHE576iee/2EzAKc8+aOzXohYc/r8cMvRXD4hk0m99V4PpfxF\nm4BUkxSWVXLVqzU3gU/ukwJY8++DtRjLfbPXclmt6Zc3PVAzlfNdpwxstXiVUp40AbRBFVXVlFZU\nEd9C4+fnZ+dx4fOLnM8/+cNEOsRbE7V1S3afgfOhz9cB0K9jPE9eOKLeqZyVUq1Hm4DaoL98sJrB\nd3/h1g5fmzHGbaH1xnBMzwxw3qgubnP3J8aE89tJ3blgtDV+/3n7zuDp/dPo1SGuSe+nlGoZmgDa\noLeytgOweEt+nXWue3M5ff8yh6e/zXYuuNJQB0srCAsR7jplAH8+0XORldtPGsDMid3dyi4Z361R\n76GUanmaAHwwb+0eMmfN5stf9vg7FKevXGK56PlFvLZwq0ed7fnFzjn2/z5nPWfad+QCZO8tpNrL\nGH6wrhoyZ83mh415VFYbLp/QnaQY7wus9+oQz++m9ABgwZ+PcTYRKaUCR0AngJ0FJew6UOK39997\nsJQBd87ho+U5Xrc//4PVvHHN60vJ3ltI9z/PZkteUWuG6PTy/C1kzprNb2oNt/zLh6udj6uqDTkF\nJSzfXuCxvzGG7L2FTH/0O574eqPX95i3dq/z8d/OGlxvTH8+oT/Z959Ap8Tohv4YSqlWFNAJYF9R\nOZ+v2u2X937pp18Z/cA8isuruP7N5R7bf8rOY4E9j315VTXTH/0OY2DqI982+YqgvLKaa/63lPeX\n7mjwPut2HySnoIS7Pl7jLPvTsX2cjwd0SqCguJw5q3dxx0ermfDQ11z7xjLiIsP4/PpJznp/n7ue\nz1ftAuDJr7O9vtcbP1tt/93ax3DeUV0bFF9YaED/iSkV1AJ+FNBL87dwRa325Ja2Ja+Iuz/5xfk8\nMTrceWdrYVkl//xyg7Nz05vfvpLF5gdO9DrB2eH8b9FWZq/cxeyVu5jUO9W5RGJtlVXVhIWGMO0f\n37Ipt4hwl2E13/xpKt1TYrliYnfGPDCP4V2TGHbPlx6vccXE7vTvlMBrM8fwfy8s4plvN9W8frWh\noLjcrXknp6CEeeusK4Dvbj66UT+XUiowBfzp2bb8Yq+TjbkqLq/kuw3Nt3rYo19uAOCly4/iXxcM\n50BJBec/t5C3F29n0F1z3Q7+/zxvGABDMxJZfPt0Z/niLfmUlFfx2sKtDRpts+tAiVvSWbvroNd6\n/1u0jV63f07mrNlsyrWamyqqrDb7z66b5FwIPSYijLjIMIrKKr2+zoiuSQAM6ZLodbtr38HqnAP8\nzR7OqZRqOwL+CgBgzAPz+PXBE52zSxaVVTLwrrncf8YgLhrTjRveWs7cNXuYP+sYOif53t5cXF5J\n58Qopvbt4Bwhs2TrfpbY69OmJ0XTNTmGa6f1YnzPFE53Wbzkw2smcPpTP/HKgq3MXrUQgB835vHs\nxSM938hF9t5Ct+ebcwuZ3MfzLtl5a+tuXkpv5/6zt4uJ4MPlVmfvcxePZMaANAAWb9nPUZntAEiI\nCufUoZ3ZlFtIRFgIl47L5I9vLeeRLzbwyBcbnD+PwztXjTvsz6GUOnIE9BWAaxPIIZcz2Z0FVsfw\n7R+sZu6a3cxdYx0UDzfuvTHKqwypCdaolcHpiUzqneLcdsvxffnu5qm8ceVYxvdM8dh3WJckeqTE\nMttuTweYs2Y3G/ccOux7Vtkjb977/TgSo8N5c/F2vC2YNqBzgtvz138zxvk4sdbEapeMqxl6Ob1/\nGiKCiDC6e7LbVM1PXDCc2ddN4oOrJ3D68HSGuozrdz34A/RM1bH8SrUVAZ0AOsRHMbSL1VRxsKTC\nWf7PeTWjVH7nMh3BoVLvzR2NVVlVTYTdrh4eGsKrM2sOsqcO7Vxvx2ZyrOfQyFU5B+p5T+tgHxYS\nwqHSCtbtPsQrCzyHcIbYB+519x7PijuP5ajM5Dpfc3KfVJJjI3jywuGN6o84XJ+Lt59NKXVkCugE\nECJw87F9AWtuGbCaRmav3OW1vuukY77Ysb+E8ir3s+//XDKKa47uSUa7mHr3H2k3r7z+mzEsum0a\nACUVVXW2xwNUVltXL2Gh4mzG+mBZzfDTOat3sedgKRVV1YSFCFHhoSTGhBMRFsJTF47gs+smebxm\n56RolvxleqMXVD9tWDoL/nwMKXHWFdjJQzrxxm/Hsu7e4xv1OkqpwBbwfQB9O8YD1k1NaQmR7DlY\nBsDlEzJ58actAGTffwK9bv8cgPW7Dzn3aYrVOQfYll/Mtvxit/IZA9Kcbej1ufnYvpw3qgs9UuM4\nVGpduXywNIfbP1hNSlwE3/xpqts8PZVV1dz9sdUBHB4awuxrJzH0ni84WFpB5qzZnDSkkzPpHd03\nldhI91/bSUPqXn+3rlW56tMpMZrFt09r8v5KqcAX0FcA4N4P4Dj4A/TvmMA3f5rKD7ccTVhoCO9f\nPR6wEkVTPff9Jk7+l3UVcfmEzCa/TlhoCD3stvI4+2CdZXcg5xWWM/juL/hg2Q5+tW8aW7HjALvt\nkU6J0eEkxoRzwqCObLZH+bhe8XyzPtc542ZL04O/Um1bwCcAgNV/Pc75eFS3dsRGhDK5TyrdU2Lp\nkmwdDPt3tDpH8wrLuPOj1V5fpz4PfFYz1PGOkwb4EHEN14NoB5dkdsNbKzj6kW9ZtHkfG+wO4ox2\n0aTZnc8Jh5nJ0zHUUymlfBHwTUBgnUVveegkwJqywBg8OjWjI0L51wXDufaNZbyyYCvtYyO5fnpv\nSiuqKKuoJjGm5oBaWlHF3DW7md4/zdmc4hhZdOm4btwwo0+jb+I6nDV/PY4lW/dzVGYyv3ttCd+7\n3LNw3nMLOWtEBu1iwvnhlpobrBwrZnkzY0DHZotNKRW8jogE4Moayuh9m+MgDvDYVxv4Zv1e57w3\nX9wwmZ6pcZRVVnHzOyuZvWoXE3ul8Jo9jNLRHHP8oE51TnDWVLGRYc4x/S9cOoqKqmpiIsK4+IVF\n/LAxj/eW7mBS7xS3q4Uye0jrBaO7MCQjiQtGd2Xw3XM5VFqp0yorpZrFEdEE1FAzJ3anX8d4utlt\n5K6Tnv2wMY+Lnl/IgDvnOsfo/5idx2P2Xb+O+Xsy2rXsxGXhoSHERFh599FzhznLe9Rq1rl0fDcu\nHNOVO04ewAWjrXl3OtuTqnVJ1snVlFK+O+KuAA4nLDSEOX+czJSHv/HY9vOv+1i42XN+/H9/v4nO\nSVG8NH8LaQmRLZ4AXLl2cCfHus/706tDPA+c4T7j5ouXH8XKHQXOBKKUUr5oU1cADkVlNXPvPPt/\nI7h4bDfn3cIOC/58jPMms1vfWwXAazPHtPrIl8+vn0RSTDjH9OtQb93OSdEcP6juIZ9KKdUYbTIB\nfHbdRE4Z2pnld87g+EGdPMbv33PaQDolRnN031RKK6y29hkD0uid1vT7B5qqf6cElt95rNuyikop\n1RraZALokBDFvy4Y7uzMdR02+ckfJnLRGGuOnOn9axLDMxeNaN0glVLKz4KiMTndZYbQXh3iCLWH\neA5KT+T7m48mLipMFy5RSgWdJicAEekCvAKkAQZ4zhjzuIgkA28BmcAW4FxjzH6xGtcfB04EioHL\njDFLfQu/YUJChPX3Hc/2/BKiI0LdtnVtpbtqlVIq0Phy2lsJ3GSMGQCMBa4RkQHALGCeMaY3MM9+\nDnAC0Nv+uhJ4xof3brTIsFAdP6+UUi6anACMMbscZ/DGmEPAWiAdOA142a72MnC6/fg04BVjWQgk\niYgOaVFKKT9ploZvEckEhgOLgDRjjGP2st1YTURgJYftLrvtsMtqv9aVIpIlIlm5uc23zKNSSil3\nPicAEYkD3gP+aIxxW8jWWEtaeS5rdRjGmOeMMaOMMaNSUz2XRFRKKdU8fEoAIhKOdfB/3Rjzvl28\nx9G0Y3/fa5fnAF1cds+wy5RSSvlBkxOAParnBWCtMeZRl00fA5fajy8FPnIpv0QsY4EDLk1FSiml\nWpkv9wFMAC4GVonIcrvsNuAh4G0RmQlsBc61t32GNQQ0G2sY6OU+vLdSSikfidVMH5hE5BCw3t9x\n1CEFyPN3EIcRyPEFcmwQ2PFpbE0XyPE1d2zdjDH1dqIG+p3A640xo/wdhDcikhWosUFgxxfIsUFg\nx6exNV0gx+ev2HT+A6WUClKaAJRSKkgFegJ4zt8BHEYgxwaBHV8gxwaBHZ/G1nSBHJ9fYgvoTmCl\nlFItJ9CvAJRSSrUQTQBKKRWkNAEopVQrkNZecLwB/J4ARCTU/h5wHw6AiPj9M6pLoH5mUPN7DVQi\nkmh/D7jfr4h0tL8H3O9XRAaKSJS/46iLiEwQkZ7+jqMO0fVXaV1+++O3f1EvA38RkWQTQL3RIjJa\nRK4DMMZU+zue2uz4/gPcKiIBNWWqiIwSkVeBOwPtH1FEQkQkQUQ+BZ6AwPr9ishwEZkH3AvO2XQD\ngogMEZEfgfuA9v6OpzYRGSEiXwBfA4n+jseViIwVkfeAp0Tk2EA6OfJLAhCRHsDTwDdAN+BeETnJ\nH7HUJiJ/BD7ASkwn2GUB8QsTkVAReRBryNhPwAjgLhFJO/yeLc8+uD4J/BtrJbhOwN0iEjBrbtoH\n+0NAOJAuIueB/68C7AkSH8NaYvVlY8xv/RlPHf4CvGuMOcMYkwOBcYUiIuEi8m+s/4kngLnAVHub\n36/uRGQq1rHufaxpbf4PaOfPmFz56wMaiTWL6EvATcBy4GR7nWF/ywZOBn4P/BnAGFMVCH/sWL+v\nbVjrLL8E/BFrOU6/X1raB9evgWl2bH/HWgui0p9xedEPa86VfwIXiUi8Maban79f+0w/DlhmjHkF\nQER6BsgBLMQ+YSs0xvzTLpshIklAIDTfRgLfAZOMMZ9iTU/fX0TCAuTqbjCw2BjzOvAq1slHoX9D\nqtEqf2D2JVAfl6LFQIaIdDHG7Mc6my0AzmyNeOqJbTaw0v5e6GgKwv5jb2214qsG3jDGbBCRSGPM\nTqyV1VICIDaMMe8bYwpEZAaQhXUV8ICI9Pd3fC4HqWygHPjV/rpURLq2dnOLl7+7m4AxInKHiPwE\nPAy8JCIjWzOu2rHZB9E8YJKInCQiHwJ/wjrbvtmu48/PrsgY8z9jTIn9PAyoMsZU+iOBevm9/gCc\nIyJ3Akux/ieeFpFzWjs2b1r0AxKRJBGZDXwJnCvW6mEApcCP1EwVvR74BUhurQ4mL7HFOjYZY6qM\nMaXAP4CZIpJijGnVM1lvn50dVwGAMaZMROKB7sBOP8cWa5c7DrL7gQuNMTOAIqyDbKs1U3mLz+Ug\nNQo4aIxZA6wB7gKesZsSWvyAUddnZ6+m9xRwNtaV5wXALuCs1urnqSe2F7H6Jv5rjDkOeB4YK9ba\nHq2irt+r3YTm+N19B5whIu1a8wqgrmOdMWY5cDyQCVxtjJmKdcJ7vL9OjFy19B98LFab3LX248l2\neS6wEBgsIqONMVVYq4NNsA+8rcFrbLX+aL6147wWrM7XVorNW3yTvNQZA6wxxuwUkTgR6e2n2Byf\nnbG/ZxljPrPrfo61XnRxK8VWZ3y2bUC8iLwF3AIsATYYYypa6YBRZ2zGmCeAqcaY740xZcCHWAmr\ntT67w31un2IdxBzt11nAHqCslWKrMz5jqbaTwBa7zpRWjMtbbM7/V2PMz0CqHRtYTaXxWCdHftXs\nCUBELhGRKSKSYHcWPQe8jXXWP1pE0u0D/gJgGfCYnS0HAttastOwntjGiEhnu56A1faPNerhVhE5\nAIxoyfbORsTnmMY7CdguIpdjNasN83dsXozEOpNt0SuoRsTXDuufcTdWYvo90Lclz8Ya89nZTaIO\nI7Ga+Kr8GFu6HddKrCafP4hIClZn5iBgX0vF1sD4nP+zdgKPtHctdZQHQGyRwHzgGnvXaVgjqVrr\nZLdOzTIXkP0hdwT+h9VOvQkrC15vjMmz60zAavLJMsa86rLvo1jrA3cDLjHGNOsCMI2MbbEx5jW7\nLATogXXpW4616P2q5ozNl/js8leBi4CXgcfsf1K/xyYiCVhXJw9gHWhvMsZsaM7YmhCf8+/ObtJz\nbI8DIowx+X6MzfWziwTGAY9gJc5m/+x8/H+9Eev/ojdwgzHml+aMrQnxuX52ofaAjdeAbGPM3X6O\nzfVvbiBWc2NHoAL4gzFmbXPH12jGGJ++gFD7ex/gNUcZ8C/g/Vp1b8A6o04E4l3qxvsaRzPHFmOX\ndQCObonYfIgvAYizy84Hzg6g2BKBKLtsOnBagH12iUCsS92QAIst2i4bD5weYLHFu5SHB+DvNcal\nPCKAYkty+b1GAz1a6rNr0s/ky4eBdYb3N6z2tlOwxjA7todgnf1NcSmLwxp+9zNW+2HnlvpFNUNs\nGS32ofsW32I7vk4BHFuL/F7b+N9di352gfy5BXp8zfR7TW+pz86Xryb1AYjIFKzOs3ZYw+ruxbqs\nOdrRUWqs9ri77S+Hk4CrgRXAYGMNY2xWzRjbjuaOrZniW27HtyuAY2uRUUlt/O+uxT67QP7cAj2+\nZvy95jR3bM2iiRlxEnCxy/OnsTrTLgOWuGTFjlidIpl22WnA5JbMaIEcW6DHF8ixBXp8GlvbjC+Q\nY2uWn6+JH0oMVm+7o03sIuBB+/Fy4Fr78SisG5da7wcK4NgCPb5Aji3Q49PY2mZ8gRxbc3w1qQnI\nGFNsjCkz1jBJgBlYY/sBLse6FftT4A2su99a7XbxQI4t0OML5NgCPT6NrW3GF8ixNYew+qvUTaxJ\n0gyQBnxsFx8CbsMaI/yrsdu+jJ0mW0sgxxbo8QVybIEen8bWNuML5Nh84euNYNVYkxvlAUPsTHgH\nUG2M+dH4t+MjkGODwI4vkGODwI5PY2u6QI4vkGNrOl/bkLBmo6zGmttnpj/bs46k2AI9vkCOLdDj\n09jaZnyBHFtTv3y+E1hEMoCLgUeNNX9JwAjk2CCw4wvk2CCw49PYmi6Q4wvk2JqqWaaCUEopdeTx\n+4ITSiml/EMTgFJKBSlNAEopFaQ0ASilVJDSBKCUCxGpEpHlIrJGRFaIyE1Sz1KRIpIpIhe2VoxK\nNRdNAEq5KzHGDDPGDMS67f8ErIU8DicT0ASgjjg6DFQpFyJSaIyJc3neA2tO9xSsVetexVoBCqxV\nneaLyEKgP/Ar1upsTwAPAVOxJhJ7yhjz71b7IZRqIE0ASrmonQDssgKgL9bcL9XGmFIR6Y01++Mo\nEZkK/MkYc7Jd/0qggzHmPnuJx5+Ac4wxv7bqD6NUPXyaDE6pIBMOPCkiw7AWau9TR71jseaLOdt+\nnoi1hq4mABVQNAEodRh2E1AVsBerL2APMBSr/6y0rt2w5omf2ypBKtVE2gmsVB1EJBV4FnjSWG2l\nicAuYy0BeDHWWrFgNQ3Fu+w6F/i9iITbr9NHRGJRKsDoFYBS7qJFZDlWc08lVqfvo/a2p4H3ROQS\nYA5QZJevBKpEZAXwEvA41sigpfbiILnA6a31AyjVUNoJrJRSQUqbgJRSKkhpAlBKqSClCUAppYKU\nJgCllApSmgCUUipIaQJQSqkgpQlAKaWClCYApZQKUv8PPSZ3tWLMRjwAAAAASUVORK5CYII=\n",
            "text/plain": [
              "<Figure size 432x288 with 1 Axes>"
            ]
          },
          "metadata": {
            "tags": []
          }
        }
      ]
    },
    {
      "cell_type": "code",
      "metadata": {
        "id": "_uNzJRGkm88f",
        "outputId": "547e94ab-637f-40ad-f118-42cbb46357d2",
        "colab": {
          "base_uri": "https://localhost:8080/",
          "height": 285
        }
      },
      "source": [
        "import matplotlib.pyplot as plt\n",
        "Sd['High'].plot(title=ticker)\n",
        "plt.show()"
      ],
      "execution_count": null,
      "outputs": [
        {
          "output_type": "display_data",
          "data": {
            "image/png": "iVBORw0KGgoAAAANSUhEUgAAAYAAAAEMCAYAAADNtWEcAAAABHNCSVQICAgIfAhkiAAAAAlwSFlz\nAAALEgAACxIB0t1+/AAAADl0RVh0U29mdHdhcmUAbWF0cGxvdGxpYiB2ZXJzaW9uIDMuMC4zLCBo\ndHRwOi8vbWF0cGxvdGxpYi5vcmcvnQurowAAIABJREFUeJzt3Xd4VFX6wPHvm94bCS2U0LsgRroI\n2BAsuK5lbbg/VnftbV2xd9RtlrWvvfe1ASpiQRREQDqCkRpqAklIb3N+f9w7k5lkQnpmknk/z5Mn\nd869d+6bSXLfe8859xwxxqCUUirwBPk6AKWUUr6hCUAppQKUJgCllApQmgCUUipAaQJQSqkApQlA\nKaUClCYApZQKUJoAVMASkXNF5EcRKRSR/fby5SIi9vpxIvKViOSLSJ6IfCIig6u9R4KIPCUie0Wk\nSETWisgfG3ospXxBE4AKSCJyA/Ao8A+gM9AJ+AswHggTkbHAF8BHQFegF7Aa+F5EetvvEQZ8CfQE\nxgLxwI3AgyJyfX2P1dI/q1K1EX0SWAUaEYkHdgMXGWPer2Wb74C1xpjLq5XPB7KMMReJyCzgAaCX\nMabQbZtzgOexEofUdSylfEXvAFQgGguEY13d1yAiUcA44F0vq98BTrCXTwDmu5/8be8DEfZxDnss\npXxJE4AKRMlAtjGmwlkgIj+ISK6IFAPpWP8be7zsu8fe3/k+Nbax3zfbXn/YY4nIxOb6oZRqKE0A\nKhAdAJJFJMRZYIwZZ4xJsNfFAg6gi5d9u2Cd3LG/19jGft9ke31dx9L/QeUz+senAtESoBQ4vZb1\nhfY2Z3lZdzaw0F7+EjhZRKKrbXOm/f5L63EspXwmpO5NlGpfjDG5InI38KTdDfNzrJP+EYDzZD4b\n+FxEfgFexPpfuQGrTv9oe5tXgcuBd0XkcmAXMAV4DLjLGJMHUI9jKeUT2gtIBSwROR+4BhiKdVLe\ngtV75yVjTJmITADuw2oTcADfATcZY9a5vUcSVk+gGUCc/R4PG2Oea8ixWvLnVKo2mgCUUipAaRuA\nUkoFKE0ASikVoDQBKKVUgNIEoJRSAUoTgFJKBSi/fg4gOTnZpKWl+ToMpZRqU1asWJFtjEmpazu/\nTgBpaWksX77c12EopVSbIiLb67OdVgEppVSAqjMBiMgL9gxG7k8//kNEfhGRNSLyPxFJcFt3s4hk\niMgmETnJrXyqXZYhIrOb/0dRSinVEPW5A3gJmFqtbAEw1BhzBLAZuBnAni7vXGCIvc+TIhIsIsHA\nE8DJwGDgD9Wn1lNKKdW66kwAxphFwMFqZV+4jW++FOhmL58OvGWMKTXGbAUygFH2V4YxZos97slb\n6OiISinlU83RBvB/wHx7ORXY6bYu0y6rrbwGEblURJaLyPKsrKxmCE8ppZQ3TUoAInIrUAG83jzh\ngDHmWWNMujEmPSWlzl5MSinVbpSUV7I/v6TR+5dVOBq0faMTgIhcDJwCnG+qhhTdBXR326ybXVZb\nuVJKKdufX13BqPsX0phRmlfvzKX/bfNZtLn+NSeNSgAiMhX4G3CaMabIbdXHwLkiEi4ivYB+wDLg\nJ6CfiPQSkTCshuKPG3NspZRqj0rKK/nWPnkXlVW6ypduOUBWfmmd+/+8IweALzfuq/cx69MN9E2s\nae0GiEimiMwCHseaN3WBiKwSkacBjDHrgXeADcBnwBXGmEq7wfhKrNmQNgLv2NsqpZQC9uZVVf2s\nycwDrKRw7rNL+fOrdT8Q+9M2KwHkFZfX+5h1PglsjPmDl+LnD7P9/cD9XsrnAfPqHZlSSgWQ/JIK\n13JukTVJnDMprNyRW+f+P22zOmsGB0m9j6lPAiullB/ILa6aGTQk2Do178mrf4PwiUM6AZAQGVbv\nfTQBKKWUH3Cvuql0WI3ABwrrrvt3+nLDfqDq7qE+NAEopZQfyC2qSgAOuxdQRWX9ewPtPWTdLeRo\nAlBKqbal+h1AWYXD1bMHOGzX0PdXZLqWc4qasRFYKaVUy3vph22uZYcxzP5gDR+srHpcqrTCQURo\nsNd9b3h3tWt51c66G4yd9A5AKaV8rLzS4dHXv9JhPE7+AIWlFdV3AzzvDFITIht0XE0ASinlYzsP\nFnm8zi6o2fjr/nCYu0PFVYlhePf4Bh1XE4BSSvnY1uxCAO4+bQgApeU1x/QpLPN+B5BVUNVVtLDU\ne5KojSYApZTyMWf1z1E9EwHvDbm1VQFl5Vu9fm6bPoipQzs36LjaCKyUUj72W1YBAJ3jI4gOCybD\nfu3O29X9vkMlFJdbiSE9LYnh3eI55YguxD1Uv+PqHYBSSvnYf7/bCkBEaDDdk6K8juhZVK0K6Ltf\nsxg9ZyHz1+4FIDRYEBFiI0LrfVxNAEop5UMHC6se3IoMDSY63HvFTEG1O4Av1lujfm7alw9AWHDD\nT+eaAJRSyoec9f9/mtCL4CAhNNj7YG7OO4CisgrKKx2uaiPnswGhjUgA2gaglFI+VGA37k7olwxU\nnchFwP3hX2cbwOA7PmdM7yTXqJ/OsX9CQ/QOQCml2hTnlX2MXfXjTADxkVZdfmJUKEHi2Qto6ZaD\nBAdZ223eV2DvV/9hoJ00ASillI9sySpwzQMQGWZV5Tiv7CPtqp1eydFEh4XUeA6gtNyzTSA0SKuA\nlFKqTcgpLGPKv74lItQ6cUeFWafjYvuJ374dY/jLsX2YNqwLJz/6HaUVDg64PSFcUO25AK0CUkqp\nNmKz3XunxH7qN8q+A3AO5xAZGszMcWmkxIYTHhJEabmDQ26zhlV/MEyrgJRSqg3YuOcQ2w94jv/j\nTADhITV79ezJK+b9lZmUVlRV++zKLQbgiG7xDOwc26huoFoFpJRSreiL9Xu59NUVDEv1HLjN2Qjs\nnNJ37to9PGGvsycIY92uQ67tyysNQQIfXzmh0bHoHYBSSrWiFdutSV427jnkUS5infmdE8N0S6w5\ntHNYtXr+c0f1aFIsmgCUUqqFLdiwj9eWbgeqpmyscHif4cs5NeSVk/u6yu44ZTAA2fmew0SfOLhT\nk+LSKiCllGphl7yyHICFG/dRXm2e3xf/eLTHRC4hdmNux7hwV1mc/UzAPZ9u8Ng3OSacptAEoJRS\nreTrTZ6DvN06bRCTB3T0KJt98iB6J8cwqX9V+frdeV7fL7wRXT/daQJQSikfGdw1rkZZfGQol0zs\n7VFWve7fqZZapHrTNgCllPKRlNj6VeFUulUbnTSkqt4/Mar+Qz97o3cASinlIx3rmQCO7JEIWHMG\nPHNhOg6HIbuglI5xEU06viYApZRqYcf0S2bdrjwW3zSFN37cwf3zNgJVA77VZfoRXdh+cICrh1BQ\nkDT55A/1SAAi8gJwCrDfGDPULksC3gbSgG3A2caYHLE6sj4KTAOKgIuNMSvtfWYCt9lve58x5uUm\nR6+UUm1ApcPQJyWG6PAQLpnYm8Fd41i1M9fV978+Lp/Ut+6NGqg+bQAvAVOrlc0GFhpj+gEL7dcA\nJwP97K9LgafAlTDuBEYDo4A7RSSxqcErpVRb4DCGoKCqk/34vslcMbn5T+gNVWcCMMYsAg5WKz4d\ncF7BvwzMcCt/xViWAgki0gU4CVhgjDlojMkBFlAzqSilVLuzYvtBcgrLCWr4WG0trrG9gDoZY/bY\ny3sBZ7N0KrDTbbtMu6y28hpE5FIRWS4iy7Oyak6MrJRSbcW6XXmc+dQSNu3Ld43z70+a3A3UGGOA\nJvZG9Xi/Z40x6caY9JSUlOZ6W6WUarSKSgf/+mITOw96juC5N6+kxrDM7jL2F7iW1+z0/jCXLzU2\nAeyzq3awv++3y3cB3d2262aX1VaulFJ+b9nWg/znqwyO+/e3HuVjHljIzBeW1brftW+vci3nHyZR\n+EpjE8DHwEx7eSbwkVv5RWIZA+TZVUWfAyeKSKLd+HuiXaaUUn7vvOd+BCDcbcx95+xcy+3RPdui\nOhOAiLwJLAEGiEimiMwCHgROEJFfgePt1wDzgC1ABvBf4HIAY8xB4F7gJ/vrHrtMKaX82qqdua7l\nrgmRXPj8j3y8ejcPzv/lsPsZY43X/+djex92O1+q8zkAY8wfall1nJdtDXBFLe/zAvBCg6JTSikf\n236g0LX8W1YBm/bl892v2Vw+qQ8A6T2992gvLKvEYSApKozzRvfglCO6tEq8DaFjASml1GE4n76d\nPCDFNYZ/7+Ro17j+4aHeT6Ofrt4NQHCQMOeMYYzrk9wK0TaMJgCllDoMZwJwH8o5NTGSRZuzgapJ\n3aub/cFaACLtuX79kSYApZQ6jNziMtd8vU5Z+aWuSdmzC0q97caRPRIA+MPRTZu2sSVpAlBKqVpU\nOgzf/ZpNQlQoN00d6Cp3nvS7xkew/UARxWWVABSUVrjm9C0oqWDqkM4eQ0D4G00ASilVi7+8toKM\n/QXsySth1oRervLsAqv+v1+nWAC+2LAXgHOfXcLwu7/go1W7OFBYRlykfw+4rAlAKaW8uOm9NSzY\nsA+Afh1jCAsJ4tOrJjBlYNVUjf9nJ4Vr3lrFu8t3sm7XIdfrg4VlRIVpAlBKqTZn/ro9ruVbpg0C\nYGhqvMcE7p3cJm6/8b01Nd5jb15JC0bYdJoAlFLKi26JUQxNjeO3OdOY2L9qXDLnNIyhwULv5Bjm\nnDGs1vc4qpZnBPyFJgCllKqmvNLBhj2H6N8xtsYont2SogBIiAojLCSIyQM9B63804ReDO8Wz0lD\nOnm0G/gj/66gUkopH1icYfXxj/DSh793cjSAqyqoU2wEvZOj2ZJtPTF81ZR+xDdxsvbWoglAKaWq\nKbUf7jonvXuNdSN7JHLv6UM4frA1DUpQkLDwhmN5eMFm0tOS2szJHzQBKKVUDZX2kA/enuINChIu\nHJvmUSYiXH/igNYIrVlpG4BSSlVTaawEENSASdvbIk0ASilVTaXDqgIK8eOneJuDJgCllKqm0h7f\nzR/n8W1OmgCUUqoa5x2AJgCllAowX/9iDf2sVUBKKRVgnJO8pMSG17Fl26YJQCmlqiktd9CvYwyi\nvYCUUiqwZBeUkhzTvq/+QROAUkox66WfSJs9l7IKq/E3u6CU5HZe/QOaAJRSAW7drjwW/rIfgJ05\nRQBsO1BEh+gwX4bVKjQBKKUCRkWlg/s+3cDOg0Wuspd/2OZa/sOzS7nkleUA7Mkrbu3wWp0mAKVU\nwPhpWw7PLd7KXR+vt18f5N0Vma71+/NLXbOAXTm5n09ibE2aAJRSAaOgtAKwxvp548cdnPX0Eq/b\nJUWHMTQ1rjVD8wlNAEqpgHGgoBSA0OAgHv/qV1f56F5JHtv1SIpq911AQYeDVkoFkN32HL0HCkrZ\nc6iEc9K7M3NcGiJw8qPfERsRwomDO3PuqJrzALRHTUoAInId8CfAAGuBPwJdgLeADsAK4EJjTJmI\nhAOvAEcBB4BzjDHbmnJ8pZQCWJuZx6mPL+aySX24aerAWrfLtHv5rNyRC8AVk/vSo0MUxhjuP2Mo\nvZNjGNunQ6vE7A8aXQUkIqnA1UC6MWYoEAycCzwEPGyM6QvkALPsXWYBOXb5w/Z2SinVZJ+s2Q3A\nU9/85nV9XnE5abPn8sHKXR7lPTpY8/uKCOeP7hlQJ39oehtACBApIiFAFLAHmAK8Z69/GZhhL59u\nv8Zef5wEQiWbUqrFPbtoi9fyB+ZvZO6aPa6ePcpTo6uAjDG7ROSfwA6gGPgCq8on1xhTYW+WCaTa\ny6nATnvfChHJw6omym5sDEopVV1xWSWRYcEYY3jmWysxRNiDu906bRAvfL+VPXkl/OXYPr4M0y80\nOgGISCLWVX0vIBd4F5ja1IBE5FLgUoAePXo09e2UUj7gcBhEaNaeNMYYj/erdBiMMfy0Lcdju2F3\nfU7GnGmU2sM6AJTYk7xfOLYn54zqzua9+QzvntBssbVVTakCOh7YaozJMsaUAx8A44EEu0oIoBvg\nrHTbBXQHsNfHYzUGezDGPGuMSTfGpKekpDQhPKWUr/S+ZR5Xvflzs73fpa8sp9fN83jP7aGt859b\nSt9b5/OH/y4FICzYOp1V2BO6L/61ZuVCRGgwcRGhpKclERqsveCb8gnsAMaISJRdl38csAH4Gvi9\nvc1M4CN7+WP7Nfb6r4yxZ15WSrVpBwvL2H+oxKPs0zV7muW9C0sr+MKuw//ru6tZtyuPq978maVb\nDnpsN6xbvGu5pLySlTusO4PXZo0GYFCX9v9gV0M1pQ3gRxF5D1gJVAA/A88Cc4G3ROQ+u+x5e5fn\ngVdFJAM4iNVjSCnVRm3el8/Og0UcN6gTJz68iOyCUrY9OL3Zj3POs55P657yn8Xetzu6Oyu2Wyf9\ngbd/5iof1SuJi8elMWtCr2aPra1r0nMAxpg7gTurFW8BRnnZtgQ4qynHU0r5jxMfXgRAxv0nk20/\nYVu9nr42mTlFZBeUMaIe9fDrdh0CYHCXODbsOVRj/cDOscy/5hjeXLbT6/5hIUHcddqQOo8TiLQS\nTCnVYA5HVe3ta0u3u5YLyyqpT83uhIe+ZsYT39frWEf2sJLEe5eN5YTBnTzWfXHdRD67diIiwqhe\nifV6P1VFh4JQSjWYewPvXZ9scC0fKCglIiGy1v3yS8pxyx04HIagOiZer3QYJg1IISoshP9elM7u\n3GK++mU/BujfKda1Xd+Osdx56mDudosnEGb1agpNAEqpBpu71nsDb1Z+KR0Oc9I94u4vcL9B2Huo\nhK6HSRgA5ZWGELck0TUhkgvG9PS67WC7oXfqkM58tn4vXeIjDvvegU6rgJRSDXK4Kp6ZLyxzjbfj\nfV/P15WOuquLKiodhATV71Q1uncHFlw3kbtPt+r8rz+xf732C1R6B6CUapDCskoAjumXzPYDRexw\nm12rsKySHQes12EhVSdth8NwxpM16/zLKx01ytytyczl1/0FDGxAF85+drVQS/RIam/0DkApVW/f\n/ZrF0Ds/B2DasC48c+FRPD8znd/mTAMgNFjIKSoDIDEq1LXfqsxcVmfm1Xi/MjsBFJRWcP5zS119\n951mv78WsHr6qOanCUApVS/GGC58fpnrdXxkKIO6xHHcoE4EBwnHD+pEeaXh49XWyJzuT9r+7b01\nruV3/zKW52emA1Bk3018sDKT7zMO8HS10Ty3ZhfSPSmSS47p3WI/VyDTBKCUqpdeN8/zeJ0S69nY\nW1xujQH5fYY1wot7FVDG/gIA1t51IkenJZGaaDX8rt+VZ3+3+vd/sWEfH6y0hns4UFBKcXklM8em\nebyXaj7aBqCUarB7Zwwlvadnv/uEqDCP18H2A2HZBaUkx4QzqlcisRFWtVBah2gAbv9oPbd/tN5j\nv+vfWc0ZR6bypH030CclpkV+BqV3AEqpBpo5ticXjulZ44nffh09T9TOHj4XPr+M7IJS4iOr2gQi\nQoNrvG+v5GjXcl5xOat3WrN2HV1tvl7VfDQBKKUa5LhBnbyWXzG5r8frA4VlpM2ey0Z7+AZvJ313\nlQ7DI+eMcO0bEiyM7JFATLhWVLQUTQBKqXqLDA3mmH7JXte5N/p2jY8gr7jcY/3+/NLDvvdpw7u6\n2hX25JaQsb+Qvh21+qclaQJQStVLeEgQF42rWfXj7rJJfUhNiGRsn5pJYrjbcM0AY3pbVTupCZEc\n0y+ZK6f05Qh7mwue/5HsglKCdNbYFqUJQClVL8ZQ5wn5pqkD+X72FEoqKl1lSdFhfHvjpBpdOQXr\nvY4dkMKrs0YTERrsaiR22lttjgHVvLRyTSlVLw5jqGPcNpdYt3r7lbef4HWbx887kk9W7+b8auP6\n/Hlib56xJ3n/70XpjQtW1YsmAKVUvVgJoH4ZwNkeMKBT7U/wdogJ5+LxNSdpibN7C10wpodO29jC\n9NNVKsC9tWwHv+ytOdFKdQ5T/0neZ03oRe+UaF6dVWNuqDrFRVjXpXUME6Sagd4BKBXAFm3OYvYH\nawkPCeLkoZ2JiQjhvhnDamznHAG0vlVAacnRfHXDpEbF5Lzqr9AM0OL0DkCpAOYco6e0wsGHq3bz\n2tIdXodzdnbpdDbctqQxvTsAMOPI1BY/VqDTBKBUADt9RFcAj779v39qSY3t/vTycgDW7645omdz\nS0uOZtuD0xnf1/vzBqr5aAJQKoA5B1mLDquqDc4tLqux3fLt1jDNWQWHf5hLtS3aBqBUAHPO0FVc\nXknH2HD255e6qmCWbztIVFgI4aFV14kX1jIVo2qbNAEoFcAcdgb4dnOWqyynsAxjDL9/2rMq6N4Z\nQ/ndyG6tGp9qWVoFpFQA8zYj7+rMPB7+8tca5dOHdWn5gFSr0gSgVABzVJul3Tlk82MLPRPAGUem\nkhTtOd6/avs0ASgVwKqd/+kSH+F1u8ENmJRdtR2aAJQKYMYYIkOD+ffZw1l04+Ran/TtmhDZypGp\n1qCNwEoFMIexnu6tq3E3NkJPFe1Rk+4ARCRBRN4TkV9EZKOIjBWRJBFZICK/2t8T7W1FRB4TkQwR\nWSMiI5vnR1Cq5a3YfpAdB4pcQyK0F9WHeK5+/e9cVddsXqptamoV0KPAZ8aYgcBwYCMwG1hojOkH\nLLRfA5wM9LO/LgWeauKxlWoVmTlFnPnUEib+42te/H6br8NpVg5jPM767jVA/TvFEGaPy6N3AO1T\no3+rIhIPTAQuBjDGlAFlInI6MMne7GXgG+Am4HTgFWNdQi217x66GGP2NDp6pVpYpcMw4aGvXa/v\n+XQDO3OKKCl3cPspg4gKa/snRo87ALcEMKBzHJGhwazOzCOtQ7SXPVVb15S/3l5AFvCiiAwHVgDX\nAJ3cTup7AecM0qnATrf9M+0yTQDKb331y/4aZc67gN7J0VwysXeN9dWtzczj1McX88Hl4xjZI9Fj\nXU5hGbERIYT4aNz76pO89EyKZt2uQxzVM5G7Th2MATbvyycyTKuA2qOm/NWFACOBp4wxRwKFVFX3\nAGBf7Teo0lRELhWR5SKyPCsrq+4dlGohP2Rkc8kr1iBoq+88kfvPGOqxvqS80ttuNZz6+GIALnp+\nmUf52sw8jrx3AWc+9UMzRNs4DmM8ev48eOYwnjhvJO9fNo4OMeEkx4Qzzsv8vqp9aEoCyAQyjTE/\n2q/fw0oI+0SkC4D93XkJtQvo7rZ/N7vMgzHmWWNMujEmPSUlpQnhKdU05z33o2s5PjKUaUO7MCy1\namLzsjrGqzfGsGL7QdfrgtIKissqee67LXy7OcuVGFZn5pFfUt7M0dePMZ5j/MdGhDL9CH3iN1A0\nOgEYY/YCO0VkgF10HLAB+BiYaZfNBD6ylz8GLrJ7A40B8rT+X/kjYwwPL9jsen3b9EEAJEaH8eCZ\nVZOllFXUngCMsdoOzqw2tPKzi7Zw39yNzHzB827glSXbKa2o3x1Fc3IYqNn3RwWKprZgXQW8LiJh\nwBbgj1hJ5R0RmQVsB862t50HTAMygCJ7W6X8zidr9vCo21AIcRGhruVBnaueiC09TALYvK+AXbnF\nNcqf+jbD6/b/+HwTInD5pL6NCZm7P1nP+D7JjOvbgZCgINcwz3WpqHQQUt9pvlS706QEYIxZBaR7\nWXWcl20NcEVTjqdUS8vYn8/Vb/7sUdY7paoHTJDbyfJwV+wHCq1x84PEmuHqjlMHM/WR7ygprz1p\nZOwvaFTMe/KKefH7ba7G6aN6JvL+ZePYll3Iut15nHJE11r3LS6vJEobeAOWDgWhlJvXf9zh8Tq9\nZyLpaUlet527xrMGc+fBIqb88xs27c1nV4519b/g+mN545IxDOwcx5SBHQGIDA3m+EEdWXTjZL66\n4VhevPhoADJzat4x1MfiX7M9Xq+wJ2+55X9rufKNn/ktq/bEUlxWqQ95BTBNAErZMnOKmL92LwCP\nnjsCwGtVyjXH9QPgUEkFuUVVs2e9/uMOtmQXctIji7jxvTWIQOe4qsHVHj/vSGLDQ3jk3BE8N/No\nenSIondKDJMHduSUI7qw71AJ+SXlfPXLvgY9cbxqZ67XcmcbxcY9h2rdN7+0Qh/yCmCaAJTCuhKe\n8NDX7D1UQnxkKJMHdiQlNpzLJvWpse11J/R3LV/91irXck6h51SKAzvHER1edXKNCgth7d0ncdKQ\nzjXes0t8BHvzSvjXF5v5v5eWc1G1RuLDyS2u2YMor7ichCir7SIrv/ZpHA8VlxPr1sahAosmAKWo\nmux8ysCOvH/ZOOIiQvnp1uM5pt/huyIvcptJ65d9+R7ruiXWfwTNTnERlFY4eOmHbQB892s263Yd\nfgJ2h8MwZ95G5q7Zw6BqwzW//MM2Iu2nlA+XAPJLKoiL1DuAQKW/eRXwVmzPcU1/OOeMYXSuZUz8\nuuzLK/F4nd2ACdR7ehlq4bTHF/OP3w/nzKM8R+p0OAxZBaXkl1Tw7KItACTHhPHr/SdTXulg8B2f\n8+8Fmwm2G6yf/OY3SiscrNieQ7fESG48aQA3vruGe2YMIbeozDUJjAo8mgBUwHOf/apTXHi99rl3\nxlBu/3AdAPsPlZAcE05WQSmXT+rDtcf356HPfuGCBkyg7t5WcGSPBH7ekYvDwA3vrmZ3bjFXTunr\nemJ33ro9XPmGZ0+lTXvzCQ0OItRtSIlKR1U7wvOLtwJWe8GnduP11Ee+AyBVx/oPWFoFpALax6t3\nuyZEP25gx1onRKlu2tCqevxRcxbS+5Z5VDoMneIiCAsJ4vZTBtMruf4DqLlfhT9x3kiunlL1PMC/\nFmym183zSJs9lxcWb2XnwZq9hY7qWTXG0F9P7F9j/eFoAghcmgBUwHI4jKvPf2RoMP86e3i99+0Q\nE87WB6bVKO8YW787iOrcE0BsRAiXT+7L36YOqLHdPZ9uqFE29+oJPHjmEa7XV07px6nDrb7/Vx/X\nj6iwYEb3SuLn20/weuyO9bzrUe2PVgGpgGKMobCskmARrnu7qgfPh1eMJyGqYZOee7tb6NcptlFx\nxUdVJYDosBCCgoTLJ/XlTxN60/+2+R7bunfrfPqCkQzpGk91D505jBHdE7hobE+ud+u1tOyW43ji\n6wwGdonj5g/WAjT451bthyYAFVDu+XRDjUld/nf5OAZ0btyJOyEqlNyiqm6YvRtQ7VPd+aN7sHDj\nfo+njcNCgjhvdA/e+HEH4/t24PuMA2zaW9XbaOpQ7wO3RYWFMGtCrxrlHeMiuPt0a1TTznERrMnM\na1LMqm3TKiAVULzN6DW4a1xIMb7hAAAcEklEQVTNDevpw8vHM7JHAj2Soth4z1SPk3dD3X/GMJbe\nUmMUFQ7Z/fyHd0sAYFO17qaNNXlgR645vl+92z1U+6N3ACpgFJZW1Chbd/dJhIc0fiiEtORoPrh8\nfFPCqpPzoeDuSVEe5aN6eR+iQqn60gSgAsb2A0UAJMeEc9+MoWzNLiQm3P//BW6ZPoiosGBmjEh1\n1du/8+exmgBUk/n/X79SzcRhX0rPOWMoJ3oZjsFfpSZE8o+zPHsoNaXaSiknTQAqYDgTQHAbHv/+\n1Vmj+HZTVpu4c1H+T/+KVMBwPhkb1IYbPY/pl1Ln+ERK1Zf2AlIBwzkyQlN66ijVnmgCUAHDWQWk\n53+lLJoAVMBwVgEFt+EqIKWakyYA1aZUVNacU3fdrjyueGNlncMvu+4A9BZAKUAbgVUbkjZ7LgCb\n7ptKeEgwBwpK6RATzin/WQxAQmQo95w+tNZePg47d7TlRmClmpPeAag2Z09uCcu2HuSo+77k9R+3\nu8pf/3EHfW6ZxytLtrnK9uaVcO1bP5OZU+TWDbSVA1bKT+kdgGoTSsorXcvvr8xkdaY1XeKt/1tX\nY9vHFmZw0dg0DpWUM+aBhQB8uGo3w7tbY+k46j/fulLtml4LqTbht6wC1/J/vsrwmIsX4JMrJ7iW\nswtKWb7tIM9/t9Vjm9U7cwEaPfKnUu2N3gGoNuH1H3fUuu6Fi9MZ1i2exTdNZnduCWc/s8Q1x+/Q\n1Dg6xUaw8Jf9gDXxS1yEzoGrFOgdgGojlm45wHEDOzLv6mNcZe/9ZSx3nzaEKQM7AdAtMarGGDmT\n+nfkyQtGMnOsNT/vsNSak6coFaj0DkD5vaz8UrZkFXJOencGd41jyc1TOFBQxtDUeNLTPEfEjAkP\n4dKJvXl20RYAzk7vTnhIMDdPG0RphYMr3ebaVSrQaQJQfuPfX2zisa8y+PSqCQx1u1Jfk2nV3Tsn\nPu8SH0mX+NonMr9l2iAuHNOTg4Vl9OhgjaEfERrsMW+uUqoZqoBEJFhEfhaRT+3XvUTkRxHJEJG3\nRSTMLg+3X2fY69OaemzVvjz2VQZQc+LzLzfuA6BHtQlRDqd7UpSr149SyrvmaAO4Btjo9voh4GFj\nTF8gB5hll88Ccuzyh+3tlHIZ2cM6YS/bepAJD33F+t155BWV8+aynQB0iAn3ZXhKtTtNSgAi0g2Y\nDjxnvxZgCvCevcnLwAx7+XT7Nfb640QnI1VAaUUlabPnsnJHrmuc+8ycYqY/tpgnv8lwbdeWx/FX\nyh819Q7gEeBvgHOAlg5ArjHGOflqJpBqL6cCOwHs9Xn29h5E5FIRWS4iy7OysqqvVu3Qt5uqfs93\nnDqYZy48yvX6Gbsx9/3LxrZ6XEq1d41OACJyCrDfGLOiGePBGPOsMSbdGJOekqITX7R3GfsLuPRV\n609oQKdYThvelZOGdObu04Z4bHdUT53/Vqnm1pQ7gPHAaSKyDXgLq+rnUSBBRJy9i7oBu+zlXUB3\nAHt9PHCgCcdXfubZRb/x07aD9d6+pLyS4//9LWD1z//8uolEhAYDMGVgR9d2z89Mb95AlVJAE7qB\nGmNuBm4GEJFJwF+NMeeLyLvA77GSwkzgI3uXj+3XS+z1XxljdFSWdsAYQ6+b57lef/PXSaQlR9e5\nn3NoBoBPrprgsa57UhSfXDmBHh2iiI/UJ3eVagkt8STwTcD1IpKBVcf/vF3+PNDBLr8emN0Cx1Y+\nkJlT7PF60j+/qdd+5zy7FID7zxjqdf2wbvF68leqBTXLg2DGmG+Ab+zlLcAoL9uUAGc1x/GUf9m4\n5xAA3RIjaySD6iodhqmPLOLX/VWDu517dI8WjU8p5Z2OBaSa7Je9+YjAXLdxeiq9jLk8d80e5q/b\n43Hyv3XaIO3eqZSP6FAQqkmMMazblUfPJKuu/m9TB/D3zzZRXukgOCjYtd2+QyVc8cbKGvtHhQfX\nKFNKtQ69A1BNMvLeBXyxYR99O1pj7IfZ022Vu83dm5Vfyug5Cz3269cxBtAJ2pXyJU0AqtFKKyrJ\nKSoHYPoRnQGItp/kXbhxP7tzrfaACQ995dpnUJc4zj26O9ef0B/ANVibUqr1aRWQarT/LKwapmFS\nf6vffm+7++e1b68iLDiIjfdOpbTCuhvoHBfBvKsn4BwBZPWdJxIXoX+CSvmK/ve1Q5UOQ6XDEBbS\nMjd4mTlFnP30EnbnlQDwv8vHkRgdBsDAzlUTspRVOpj+2HcA/G5kKldN6Yf78E/axVMp39IqoHbo\nxvdW0/+2+dT1nF1jn8P78OddrpP/fTOGcmSPRNe6+KhQvp89hXPSuwNWDyGAc9K706seD4cppVqP\nJoB26IOV1ugb2w8U1brNfxb+ytH3f8lby3aweV9+vd/bGMOizdl0S4zk+9lTOH90zT78qQmRzPnd\nMNfr4d0TPJKEUso/aAJogpzCMqb88xtyCst8HYrLN5v2u5YfW/grWfmlNbbZfqCQfy3YTHZBGbM/\nWMuJDy9yrSssraixvVNZhYNeN89j2baD7MkrITUhktpG9A4OEl68+Gi6JUby+p9Gt1h1lFKq8fz6\nvzK7oNTrA0Wt5UBBKbd/uI6dB71fSZ/1zBK2ZBdy5lM/kFtUxmWvrWCvXTXSWI39mT9YmUna7Llc\n/OJPVWU/7+JPryz32M4Yw9PfbvH6Hnvyihly5+e8tnS71/Vv/bTDtfyA2xV+bSYP7Mjim6a4xvhX\nSvkXv04Ae/JKmL9uT6sft6isghH3fMFR933Jq0u38+D8X2pss/NgERn2E61bsgsZcc8C5q/by5gH\nFrIr9/DDIdRm87580u/7kmcW/VbvfdZm5pGxv4Dr31ntKptzRtXJOcK+8q6odHDju6tJv+9L3lxm\nncjnXl01ANviX7NZttUayfOpb7wf/8uN1t3F/GuO4Wy7jl8p1Xb5/aXZ5r350Mpzed8/dyO5dv92\ngHW781zLxhjW7z7EnR+vr3X/8Q9+xbYHpzf4uB/+bNXd//2zTZw3qgcJUWGH3f6khxexaV8+3RKr\nJki/8aQBnDe6B8cOSGH8g1/Rv1MsabPn1tj3b1MHMKRrPLdNH8R9czdywfM/utbtyi2mrMLhUW2z\nO7eYRZutiVsGdYmr8X5KqbbHr+8AwJoovK7eKvkl5cxf23x3Cs5+61/dcCy3TR/E9gNFPDB/I4s2\nZ9Hr5nmc8p/FrNieQ6/kaG4+eaBrv8+vneha3p9fQkl5pesuoS7FZZU86XblvcptqGR3Ow8WcdN7\na0ibPZdNduOtcwC2j68czxWT+wJWQ2zH2HB+2XvI6/sc09eabGfGkale17vfeb3x4w7++51VbfSn\nCb3q9fMopfyfX98BhNrDChx9/0KW33a8q7zSYXh20RZOG9GV1IRI/vLaCr7POMCPtxxHp7iIJh83\nt6icQV3i6J0Sw0775PrMt1t4xq3uvEdSFG9eMobO8REMS41nSKo1dPE7fx7L2c8s4alvfuPF77cB\n1oQmxw3qdNhj/rwzB4D0noms2JHDmsw8Jg3oWGO7p7/9jbeX73S97p0czZbsQgC6J3o+VRsaHMRP\n26z3/eTKCfTrFEN4SBDZBWWkxFoTrCfHhHN2ejeCRJhzxjDySysY+8BCrnlrFblF5Zw8tDO3/G+t\n6z0vHNuzXp+hUsr/+fUdgLPfeHZBqUfvlHW78njos1+455P1bD9QyPcZ1sRixWWVzXLcCoeDsGCr\nd8voXknEVnta9YvrJrLob5PpHG8lm3F9k10PNY3qlURyTLjr5A8w6+XlbLNP0rUes9K6y5l98kB6\nJ0ezJjPP63adqyW4O04d7Fp2PozldEy/ZNdy/84xRIQGIyKuk7/T338/nAfPPIKgICE+MpQ+KdY4\nPXd+vJ5R1cbwSY7x3Fcp1Xb5dQIIDwniQbu3yYGCqq6WD3+5GYDP1+/j2H984yovaqYEUF7pIMS+\n+4gIDWbtXSdxRLd4ABbdOJn+nWIPu/+MEV1rlNU1VWKFw6p2CgkOIi4ylC837mO5l33K7R5Cv82Z\nxtq7TmR8X+skP31Ylxrbnn201VB70diehIfUf9TNnrWMz5McE+Ya60cp1fb5/X9z/87WyXbDnjzX\nwGHfbMryuu3pTyzm1/unNfmY5ZWG0GDP/u1PnDeSPXkl9Rq87Kop/cguKOXSiX2IjQjhmL9/TUUd\nXTsPFVt3OCFBwunDu/Lzjlye/nYLz6Ul4XAY/vzaCs4f3YPSikpCg4XgICE2wrrrWH3HiUSE1czl\nI3sksuqOE+psTK5uzu+GcVZ6d/7y6gqKy62k+vqfRnNUT32YS6n2xO8TwJCucYSFBHHbh+uYt3Yv\nn63bC8A1x/WjQ0wYaR2iGd83mT63zKO80nCwsIyk6Iad8NyVVlSybOvBGgmge1IU3ZPqN3JlfFQo\nj5x7JIDrIbGNew5x5lM/kNYhmjm/G+pxRb7/UAnXvr0KsOrtZ45L481lO8kpKuO6t1dxVM9EFmzY\nx4IN+xjRPaFGXX98VO1j6jT05A8QFxHKsf1TWHf3STpZi1LtmF9XAQGEhwQzvk8HsgvK+Hj1bsrs\nceZ7JUdz0dg0JvZPIThIeP+ycQBMfWTR4d7usF5dso0Bt30GwDQvVSqN4Ww/eGXJdlZsz+H9lZkM\nuO0zXl263dUu8FtWVftAUnQYIkL3pEhWbM/hfz/v4rYP17nWr9qZ22rdMPXkr1T75vcJAPAYV8bp\n6F5JHq9H9kggSGB/filnP72kwccwxnD7R1V9+x8+e0TDA/XC2ZZQ3e0frmPSP78hr7icxRlWldYl\nx/RyNdBWb6h1N7Dz4dsglFKqPtpEAugSH8m2B6ez7cHpfPe3ySy4biKpCZEe24gIr/zfaACWbTvI\n+ysyWZuZR1FZRY3nCBwOw/rdeR7lzqdcj+qZyJKbpxDUjFe/T54/kiN7JPDtjZN469IxHuuG3/0F\nizMOMKpXErdOr+rRE+c2VPKEvsm87bbfQH0QSynVDPy+DaC6w9XD9+8U41q+9cO1lJRb1UVDU+N4\nbdZoEqLCMMbw0Oe/8My3WzhhcCf+e1E6gKs65qkLRtIxtunPEribNqyLq0qpZ4do1tx1IlGhwfS9\ndT4Aq3fmcsEYz1E1j+xuNbjedepgLh5vPXyVGBVKTlE5w+0eSUop1RRt4g6gvjrGRfDouSOIjwx1\nnfwB1u06xCerd3PXx+vpdfM81wNdCzbs4x37oarN+/JJig5r9pO/N3ERoYQEB/HFdVVPDqd18Bwr\nf+rQzrzz57GcN7rqwatXZ43muuP707EZHnZTSqk2dwdQl9NHpPLWsp0s2XLAo/zdFZleH67676It\ndEuI5N0Vma3+kFPflKo7FveZtJxGVWvnGJoaz9BUvfpXSjWPdnUH4ORsNH7wd8P4bc40BnWJ8zj5\n33BCf36bM42jeiayO7eY856zBkK7b8bQVo0zKEh45JwRzBjRlXF9OrTqsZVSql0mgF7J0Wx7cDrn\njupBcJBwwwn9Xes6RIdx2oiuBAcJ04Z1odB+evjY/ilMHdq51WOdcWQqj5x7ZLM2OiulVH20ywRQ\nXbekqh5Dn183kZ52ffvv3EbCfOmPR7d6XEop5Uvtrg3Am55J1gm/a3yERz1/YnQYv82ZRlmFo9ap\nDZVSqr1q9B2AiHQXka9FZIOIrBeRa+zyJBFZICK/2t8T7XIRkcdEJENE1ojIyOb6IeoSGRbM59dO\n5Msbjq2xLjhIiAyr/0BpSinVXjSlCqgCuMEYMxgYA1whIoOB2cBCY0w/YKH9GuBkoJ/9dSnwVBOO\n3WADOscSFRYQNzxKKVUvjU4Axpg9xpiV9nI+sBFIBU4HXrY3exmYYS+fDrxiLEuBBBFpngF3lFJK\nNVizNAKLSBpwJPAj0MkY45xPcC/gnAorFdjptlumXVb9vS4VkeUisjwry/uwz0oppZquyQlARGKA\n94FrjTEeE9Aaa7Cdww+EX40x5lljTLoxJj0lJaWp4SmllKpFkxKAiIRinfxfN8Z8YBfvc1bt2N/3\n2+W7gO5uu3ezy5RSSvlAU3oBCfA8sNEY82+3VR8DM+3lmcBHbuUX2b2BxgB5blVFSimlWllTusWM\nBy4E1orIKrvsFuBB4B0RmQVsB862180DpgEZQBHwxyYcWymlVBNJ9bHy/YmI5AObfB1HLZKBbF8H\ncRj+HJ8/xwb+HZ/G1nj+HF9zx9bTGFNnI6q/d4zfZIxJ93UQ3ojIcn+NDfw7Pn+ODfw7Po2t8fw5\nPl/FFhBjASmllKpJE4BSSgUof08Az/o6gMPw59jAv+Pz59jAv+PT2BrPn+PzSWx+3QislFKq5fj7\nHYBSSqkWoglAKaUClCYApZRqBeKHs075PAGISLD93e8+HAAR8flnVBt//cyg6vfqr0Qk3v7ud79f\nEelsf/e736+IDBGRCF/HURsRGS8ifXwdRy0i696kdfnsj9/+Rb0M3CYiScaPWqNFZJSIXA1gjHH4\nOp7q7Pj+C9wkIn41ZKqIpIvIq8Ad/vaPKCJBIhInIp8Cj4F//X5F5EgRWQjcC67RdP2CiBwhIouB\n+4AOvo6nOhEZKSJfAF8B8b6Ox52IjBGR94EnROREf7o48kkCEJHewJPA10BP4F4Rme6LWKoTkWuB\n/2ElppPtMr/4hYlIsIg8gNVl7HtgJHCniHQ6/J4tzz65Pg48gzUTXBfgLhGJ8m1kVeyTfT4QCqSK\nyDng+7sAe4DEh4FXgJeNMZf4Mp5a3Aa8Z4w5wxizC/zjDkVEQkXkGaz/iceAz4FJ9jqf392JyCSs\nc90HWMPaXAAk+jImd776gI7CGkX0JeAGYBVwioh0P+xerSMDOAW4DLgZwBhT6Q9/7Fi/rx3A2fZn\ndy3WdJw+v7W0T65fAcfZsf0day6ICl/G5cVArDFXHgHOF5FYY4zDl79f+0o/BvjZGPMKgIj08ZMT\nWJB9wVZgjHnELjtBRBIAf6i+DQe+BY4xxnyKNTz9IBEJ8ZO7u2HAT8aY14FXsS4+CnwbUpVW+QOz\nb4H6uxX9BHQTke7GmBysq9lc4HetEU8dsc0F1tjfC5xVQdh/7K2tWnwO4E1jzGYRCTfG7MaaWS3Z\nD2LDGPOBMSZXRE4AlmPdBcwRkUG+js/tJJUBlAFb7a+ZItKjtatbvPzd3QCMFpHbReR74B/ASyJy\nVGvGVT02+ySaDRwjItNF5EPgr1hX2zfa2/jysys0xrxhjCm2X4cAlcaYCl8kUC+/1++As0TkDmAl\n1v/EkyJyVmvH5k2LfkAikiAic4EFwNlizR4GUAIspmqo6E3ABiCptRqYvMQW7VxljKk0xpQA/wJm\niUiyMaZVr2S9fXZ2XLkAxphSEYkFegG7fRxbtF3uPMnmAOcZY04ACrFOsq1WTeUtPreTVDpwyBiz\nHlgP3Ak8ZVcltPgJo7bPzp5N7wng91h3nn8A9gBntlY7Tx2xvYjVNvGCMeYk4DlgjFhze7SK2n6v\ndhWa83f3LXCGiCS25h1Abec6Y8wqYCqQBlxujJmEdcE71VcXRu5a+g8+GqtO7ip7eaJdngUsBYaJ\nyChjTCXW7GDj7RNva/AaW7U/mm/sOK8Cq/G1lWLzFt8xXrYZDaw3xuwWkRgR6eej2JyfnbG/LzfG\nzLO3nY81X3RRK8VWa3y2HUCsiLwN/A1YAWw2xpS30gmj1tiMMY8Bk4wxi4wxpcCHWAmrtT67w31u\nn2KdxJz118uBfUBpK8VWa3zG4rCTwDZ7m2NbMS5vsbn+X40xy4AUOzawqkpjsS6OfKrZE4CIXCQi\nx4pInN1Y9CzwDtZV/ygRSbVP+EuAn4GH7Ww5BNjRko2GdcQ2WkS62tsJWHX/WL0ebhKRPGBkS9Z3\nNiA+5zDeCcBOEfkjVrXaCF/H5sVRWFeyLXoH1YD4ErH+GfdiJabLgAEteTXWkM/OrhJ1Ogqriq/S\nh7Gl2nGtwaryuVJEkrEaM4cCB1oqtnrG5/qftRN4uL1ribPcD2ILB34ArrB3PQ6rJ1VrXezWqlnG\nArI/5M7AG1j11L9hZcFrjDHZ9jbjsap8lhtjXnXb999Y8wP3BC4yxjTrBDANjO0nY8xrdlkQ0Bvr\n1rcMa9L7tc0ZW1Pis8tfBc4HXgYetv9JfR6biMRh3Z3MwTrR3mCM2dycsTUiPtffnV2l51wfA4QZ\nYw76MDb3zy4cGAv8EytxNvtn18T/1+ux/i/6AdcZYzY0Z2yNiM/9swu2O2y8BmQYY+7ycWzuf3ND\nsKobOwPlwJXGmI3NHV+DGWOa9AUE29/7A685y4D/AB9U2/Y6rCvqeCDWbdvYpsbRzLFF2WUdgckt\nEVsT4osDYuyyc4Hf+1Fs8UCEXXY8cLqffXbxQLTbtkF+FlukXTYOmOFnscW6lYf64e81yq08zI9i\nS3D7vUYCvVvqs2vUz9SUDwPrCu8hrPq2U7H6MDvXB2Fd/R3rVhaD1f1uGVb9YdeW+kU1Q2zdWuxD\nb1p8P9nxdfHj2Frk99rO/+5a9LPz58/N3+Nrpt9rakt9dk35alQbgIgci9V4lojVre5erNuayc6G\nUmPVx91lfzlNBy4HVgPDjNWNsVk1Y2yZzR1bM8W3yo5vjx/H1iK9ktr5312LfXb+/Ln5e3zN+Hvd\n1dyxNYtGZsRjgAvdXj+J1Zh2MbDCLSt2xmoUSbPLTgcmtmRG8+fY/D0+f47N3+PT2NpnfP4cW7P8\nfI38UKKwWtuddWLnAw/Yy6uAq+zldKwHl1rvB/Lj2Pw9Pn+Ozd/j09jaZ3z+HFtzfDWqCsgYU2SM\nKTVWN0mAE7D69gP8EetR7E+BN7Gefmu1x8X9OTZ/j8+fY/P3+DS29hmfP8fWHELq3qR2Yg2SZoBO\nwMd2cT5wC1Yf4a3GrvsydppsLf4cm7/H58+x+Xt8Glv7jM+fY2uKpj4I5sAa3CgbOMLOhLcDDmPM\nYuPbhg9/jg38Oz5/jg38Oz6NrfH8OT5/jq3xmlqHhDUapQNrbJ9ZvqzPakux+Xt8/hybv8ensbXP\n+Pw5tsZ+NflJYBHpBlwI/NtY45f4DX+ODfw7Pn+ODfw7Po2t8fw5Pn+OrbGaZSgIpZRSbY/PJ5xQ\nSinlG5oAlFIqQGkCUEqpAKUJQCmlApQmAKXciEiliKwSkfUislpEbpA6pooUkTQROa+1YlSquWgC\nUMpTsTFmhDFmCNZj/ydjTeRxOGmAJgDV5mg3UKXciEiBMSbG7XVvrDHdk7FmrXsVawYosGZ1+kFE\nlgKDgK1Ys7M9BjwITMIaSOwJY8wzrfZDKFVPmgCUclM9AdhlucAArLFfHMaYEhHphzX6Y7qITAL+\naow5xd7+UqCjMeY+e4rH74GzjDFbW/WHUaoOTRoMTqkAEwo8LiIjsCZq71/LdidijRfze/t1PNYc\nupoAlF/RBKDUYdhVQJXAfqy2gH3AcKz2s5LadsMaJ/7zVglSqUbSRmClaiEiKcDTwOPGqiuNB/YY\nawrAC7HmigWraijWbdfPgctEJNR+n/4iEo1SfkbvAJTyFCkiq7CqeyqwGn3/ba97EnhfRC4CPgMK\n7fI1QKWIrAZeAh7F6hm00p4cJAuY0Vo/gFL1pY3ASikVoLQKSCmlApQmAKWUClCaAJRSKkBpAlBK\nqQClCUAppQKUJgCllApQmgCUUipAaQJQSqkA9f+Qhi5oCgjhOgAAAABJRU5ErkJggg==\n",
            "text/plain": [
              "<Figure size 432x288 with 1 Axes>"
            ]
          },
          "metadata": {
            "tags": []
          }
        }
      ]
    },
    {
      "cell_type": "code",
      "metadata": {
        "id": "VxILS8ADnIuv",
        "outputId": "15b6302f-55a7-46c9-b71a-f7889d6637fc",
        "colab": {
          "base_uri": "https://localhost:8080/",
          "height": 436
        }
      },
      "source": [
        "# Import DataReader\n",
        "from pandas_datareader.data import DataReader\n",
        "\n",
        "# Import date\n",
        "from datetime import date\n",
        "\n",
        "# Set start and end dates\n",
        "start = date(2016,1,1)\n",
        "end = date(2016,12,31)\n",
        "\n",
        "# Set the ticker\n",
        "ticker = 'AAPL'\n",
        "\n",
        "# Set the data source\n",
        "data_source = 'iex'\n",
        "\n",
        "# Import the stock prices\n",
        "stock_prices = DataReader(ticker, data_source, start, end)\n",
        "\n",
        "# Display and inspect the result\n",
        "print(stock_prices.head())\n",
        "stock_prices.info()"
      ],
      "execution_count": null,
      "outputs": [
       
      ]
    },
    {
      "cell_type": "code",
      "metadata": {
        "id": "SUC7lxhcoPo_"
      },
      "source": [
        "# Import matplotlib.pyplot\n",
        "import matplotlib.pyplot as plt\n",
        "\n"
      ],
      "execution_count": null,
      "outputs": []
    },
    {
      "cell_type": "code",
      "metadata": {
        "id": "v0arsdW_p3nd"
      },
      "source": [
        "# Set start and end dates\n",
        "start = (2016,1,1 -2019,7,1).all()\n",
        "end = (2019,7,1-2016,1,1).all()\n"
      ],
      "execution_count": null,
      "outputs": []
    },
    {
      "cell_type": "code",
      "metadata": {
        "id": "bChavsIuq1md"
      },
      "source": [
        "\n",
        "# Set the ticker and data_source\n",
        "ticker = 'FB'\n",
        "data_source = 'iex'\n"
      ],
      "execution_count": null,
      "outputs": []
    },
    {
      "cell_type": "markdown",
      "metadata": {
        "id": "irCGl8uUs1lv"
      },
      "source": [
        "https://www.datacamp.com/free-premium?code=NDM0OTEyMw%3D%3D for datacamp free premium"
      ]
    },
    {
      "cell_type": "code",
      "metadata": {
        "id": "-0mWfeEOq5b-"
      },
      "source": [
        "\n",
        "# Import the data using DataReader\n",
        "stock_prices = DataReader(ticker,data_source,start,end)\n"
      ],
      "execution_count": null,
      "outputs": []
    },
    {
      "cell_type": "code",
      "metadata": {
        "id": "pKrEG7E5rGZ7"
      },
      "source": [],
      "execution_count": null,
      "outputs": []
    }
  ],
"source":["### sources to get financial data :\n","(exchange rates) Oanda and brokers,  Fed reserve or state banks,  yahoo and google finance,  WOrld bank , OECD, eurostat"]},{"cell_type":"code","metadata":{"id":"T4uSJ22QoExn","colab_type":"code","colab":{}},"source":["from pandas_datareader.data import DataReader"],"execution_count":0,"outputs":[]},{"cell_type":"code","metadata":{"id":"qL4FjMGzgcHN","colab_type":"code","colab":{}},"source":["from datetime import date"],"execution_count":0,"outputs":[]},{"cell_type":"code","metadata":{"id":"CuhFcRA-ggxN","colab_type":"code","colab":{}},"source":["start = date(2010,1,1)\n","end= date(2018,7,7)\n","ticker='GOOG'\n","source= 'yahoo'"],"execution_count":0,"outputs":[]},{"cell_type":"code","metadata":{"id":"i2YDw1czhBr2","colab_type":"code","colab":{}},"source":["Sd=DataReader(ticker,source,start,end)"],"execution_count":0,"outputs":[]},{"cell_type":"code","metadata":{"id":"IDbmJrb7hQR2","colab_type":"code","outputId":"57a7b4c3-ed6e-47f6-809b-76cfbc34fcf1","executionInfo":{"status":"ok","timestamp":1563471791737,"user_tz":-300,"elapsed":2824,"user":{"displayName":"Hammad Khan","photoUrl":"","userId":"06283299657089000525"}},"colab":{"base_uri":"https://localhost:8080/","height":208}},"source":["Sd.info()"],"execution_count":5,"outputs":[{"output_type":"stream","text":["<class 'pandas.core.frame.DataFrame'>\n","DatetimeIndex: 2142 entries, 2010-01-04 to 2018-07-06\n","Data columns (total 6 columns):\n","High         2142 non-null float64\n","Low          2142 non-null float64\n","Open         2142 non-null float64\n","Close        2142 non-null float64\n","Volume       2142 non-null float64\n","Adj Close    2142 non-null float64\n","dtypes: float64(6)\n","memory usage: 117.1 KB\n"],"name":"stdout"}]},{"cell_type":"code","metadata":{"id":"Mc0yciNZlFPm","colab_type":"code","colab":{}},"source":[""],"execution_count":0,"outputs":[]},{"cell_type":"code","metadata":{"id":"1vx15bzUiREg","colab_type":"code","outputId":"68ad8c7b-1ccd-48be-833d-2981ef586bfd","executionInfo":{"status":"ok","timestamp":1563471792586,"user_tz":-300,"elapsed":3523,"user":{"displayName":"Hammad Khan","photoUrl":"","userId":"06283299657089000525"}},"colab":{"base_uri":"https://localhost:8080/","height":139}},"source":["from pandas_datareader import data as web\n","import datetime as dt\n","\n","start = dt.datetime(2001, 1, 1)\n","end = dt.datetime(2016, 12, 31)\n","\n","df = web.get_data_yahoo('CBS', start=start, end=end)\n","\n","print(df.head())"],"execution_count":6,"outputs":[{"output_type":"stream","text":["                 High        Low       Open      Close     Volume  Adj Close\n","Date                                                                        \n","2005-12-05  30.000000  26.700001  30.000000  26.700001  1087800.0  19.981934\n","2005-12-06  26.850000  25.750000  26.850000  25.760000  1743800.0  19.278456\n","2005-12-07  26.000000  25.250000  26.000000  25.549999  1536400.0  19.121294\n","2005-12-08  25.750000  25.100000  25.530001  25.389999  2100700.0  19.001553\n","2005-12-09  25.950001  24.950001  25.400000  25.629999  2414700.0  19.181168\n"],"name":"stdout"}]},{"cell_type":"code","metadata":{"id":"l2QHtMDNjGsM","colab_type":"code","outputId":"cbb254f3-5ab1-451a-9309-af43251dbc18","executionInfo":{"status":"ok","timestamp":1563471793149,"user_tz":-300,"elapsed":3973,"user":{"displayName":"Hammad Khan","photoUrl":"","userId":"06283299657089000525"}},"colab":{"base_uri":"https://localhost:8080/","height":139}},"source":["from pandas_datareader import data as web\n","import datetime as dt\n","\n","start = dt.datetime(2001, 1, 1)\n","end = dt.datetime(2016, 12, 31)\n","\n","df = web.get_data_yahoo('GOOG', start=start, end=end)\n","\n","print(df.head())"],"execution_count":7,"outputs":[{"output_type":"stream","text":["                 High        Low       Open      Close      Volume  Adj Close\n","Date                                                                         \n","2004-08-19  51.835709  47.800831  49.813286  49.982655  44871300.0  49.982655\n","2004-08-20  54.336334  50.062355  50.316402  53.952770  22942800.0  53.952770\n","2004-08-23  56.528118  54.321388  55.168217  54.495735  18342800.0  54.495735\n","2004-08-24  55.591629  51.591621  55.412300  52.239193  15319700.0  52.239193\n","2004-08-25  53.798351  51.746044  52.284027  52.802086   9232100.0  52.802086\n"],"name":"stdout"}]},{"cell_type":"code","metadata":{"id":"7RRuDTMRk20o","colab_type":"code","outputId":"dfa900ef-57b6-4342-87db-ab0a39532572","executionInfo":{"status":"ok","timestamp":1563471819655,"user_tz":-300,"elapsed":1194,"user":{"displayName":"Hammad Khan","photoUrl":"","userId":"06283299657089000525"}},"colab":{"base_uri":"https://localhost:8080/","height":269}},"source":["import pandas as pd\n","pd.concat([Sd.head(3),Sd.tail(3)])"],"execution_count":9,"outputs":[{"output_type":"execute_result","data":{"text/html":["<div>\n","<style scoped>\n","    .dataframe tbody tr th:only-of-type {\n","        vertical-align: middle;\n","    }\n","\n","    .dataframe tbody tr th {\n","        vertical-align: top;\n","    }\n","\n","    .dataframe thead th {\n","        text-align: right;\n","    }\n","</style>\n","<table border=\"1\" class=\"dataframe\">\n","  <thead>\n","    <tr style=\"text-align: right;\">\n","      <th></th>\n","      <th>High</th>\n","      <th>Low</th>\n","      <th>Open</th>\n","      <th>Close</th>\n","      <th>Volume</th>\n","      <th>Adj Close</th>\n","    </tr>\n","    <tr>\n","      <th>Date</th>\n","      <th></th>\n","      <th></th>\n","      <th></th>\n","      <th></th>\n","      <th></th>\n","      <th></th>\n","    </tr>\n","  </thead>\n","  <tbody>\n","    <tr>\n","      <th>2010-01-04</th>\n","      <td>313.579620</td>\n","      <td>310.954468</td>\n","      <td>312.304413</td>\n","      <td>312.204773</td>\n","      <td>3927000.0</td>\n","      <td>312.204773</td>\n","    </tr>\n","    <tr>\n","      <th>2010-01-05</th>\n","      <td>312.747742</td>\n","      <td>309.609497</td>\n","      <td>312.418976</td>\n","      <td>310.829926</td>\n","      <td>6031900.0</td>\n","      <td>310.829926</td>\n","    </tr>\n","    <tr>\n","      <th>2010-01-06</th>\n","      <td>311.761444</td>\n","      <td>302.047852</td>\n","      <td>311.761444</td>\n","      <td>302.994293</td>\n","      <td>7987100.0</td>\n","      <td>302.994293</td>\n","    </tr>\n","    <tr>\n","      <th>2018-07-03</th>\n","      <td>1135.819946</td>\n","      <td>1100.020020</td>\n","      <td>1135.819946</td>\n","      <td>1102.890015</td>\n","      <td>679000.0</td>\n","      <td>1102.890015</td>\n","    </tr>\n","    <tr>\n","      <th>2018-07-05</th>\n","      <td>1127.500000</td>\n","      <td>1108.479980</td>\n","      <td>1110.530029</td>\n","      <td>1124.270020</td>\n","      <td>1066700.0</td>\n","      <td>1124.270020</td>\n","    </tr>\n","    <tr>\n","      <th>2018-07-06</th>\n","      <td>1140.930054</td>\n","      <td>1120.737061</td>\n","      <td>1123.579956</td>\n","      <td>1140.170044</td>\n","      <td>996100.0</td>\n","      <td>1140.170044</td>\n","    </tr>\n","  </tbody>\n","</table>\n","</div>"],"text/plain":["                   High          Low  ...     Volume    Adj Close\n","Date                                  ...                        \n","2010-01-04   313.579620   310.954468  ...  3927000.0   312.204773\n","2010-01-05   312.747742   309.609497  ...  6031900.0   310.829926\n","2010-01-06   311.761444   302.047852  ...  7987100.0   302.994293\n","2018-07-03  1135.819946  1100.020020  ...   679000.0  1102.890015\n","2018-07-05  1127.500000  1108.479980  ...  1066700.0  1124.270020\n","2018-07-06  1140.930054  1120.737061  ...   996100.0  1140.170044\n","\n","[6 rows x 6 columns]"]},"metadata":{"tags":[]},"execution_count":9}]},{"cell_type":"code","metadata":{"id":"tyjwlwzDmHdg","colab_type":"code","outputId":"06ece407-3d50-4f66-dae1-849dde7c3d50","executionInfo":{"status":"ok","timestamp":1563471820590,"user_tz":-300,"elapsed":1981,"user":{"displayName":"Hammad Khan","photoUrl":"","userId":"06283299657089000525"}},"colab":{"base_uri":"https://localhost:8080/","height":285}},"source":["import matplotlib.pyplot as plt\n","Sd['Close'].plot(title=ticker)\n","plt.show()"],"execution_count":10,"outputs":[{"output_type":"display_data","data":{"image/png":"iVBORw0KGgoAAAANSUhEUgAAAYAAAAEMCAYAAADNtWEcAAAABHNCSVQICAgIfAhkiAAAAAlwSFlz\nAAALEgAACxIB0t1+/AAAADl0RVh0U29mdHdhcmUAbWF0cGxvdGxpYiB2ZXJzaW9uIDMuMC4zLCBo\ndHRwOi8vbWF0cGxvdGxpYi5vcmcvnQurowAAIABJREFUeJzt3Xd8VFX6+PHPk05CSICQUAKELh0h\nIkhVFEFQWbtr1/25a9n1q+4q6urq2th1V1fXir2XtayuiEpVUOm9914SAimkJ3N+f9w7k5lkhpRJ\nMkPmeb9eeeXec++deTJJ7nPvOeeeI8YYlFJKhZ6wQAeglFIqMDQBKKVUiNIEoJRSIUoTgFJKhShN\nAEopFaI0ASilVIjSBKCUUiFKE4AKWSJyhYgsFpF8Ecmwl28VEbG3nyEic0UkT0RyROR/ItKn0msk\nishLInJIRApEZK2I3FDb91IqEDQBqJAkIncDzwJPAW2BFOB3wAggSkSGA98DXwLtgS7AauAnEelq\nv0YUMBvoDAwHEoA/AdNE5K6avldD/6xK+SL6JLAKNSKSABwArjXGfOZjnwXAWmPMrZXKZwKZxphr\nReQm4EmgizEm322fy4HXsRKHVPdeSgWK3gGoUDQciMa6uq9CRGKBM4D/eNn8CXCOvXwOMNP95G/7\nDIix3+eE76VUIGkCUKEoCThijClzFojIzyKSLSKFQDrW/8ZBL8cetI93vk6VfezXPWJvP+F7icjo\n+vqhlKotTQAqFGUBSSIS4SwwxpxhjEm0t8UDDqCdl2PbYZ3csb9X2cd+3SR7e3Xvpf+DKmD0j0+F\nol+AYuBCH9vz7X0u9bLtMmCOvTwbmCgicZX2udh+/UU1eC+lAiai+l2UalqMMdki8gjwot0N8zus\nk/4AwHkynwp8JyKbgDex/lfuxqrTP83e513gVuA/InIrsB84C3gOeNgYkwNQg/dSKiC0F5AKWSJy\nFXAH0A/rpLwDq/fOW8aYEhEZCTyG1SbgABYA9xpj1rm9RiusnkBTgBb2azxjjHmtNu/VkD+nUr5o\nAlBKqRClbQBKKRWiNAEopVSI0gSglFIhShOAUkqFKE0ASikVooL6OYCkpCSTlpYW6DCUUuqksnz5\n8iPGmDbV7VdtAhCRN4DJQIYxpp9d9hRwPlACbAduMMZk29vuA24CyoE/GGO+s8snYA2JGw68ZoyZ\nVt17p6WlsWzZsup2U0op5UZEdtdkv5pUAb0FTKhUNgvoZ4wZAGwB7rPftA9wBdDXPuZFEQkXkXDg\nBWAi0Ae4svLEGkoppRpXtQnAGPMjcLRS2fduoxsuAlLt5QuBj4wxxcaYncA2YKj9tc0Ys8N+6vEj\ndGwUpZQKqPpoBL4RmGkvdwD2um3bZ5f5Kq9CRG4WkWUisiwzM7MewlNKKeWNXwlARB4AyoD36ycc\nMMZMN8akG2PS27Sptg1DKaVUHdW5F5CIXI/VODzOVAwotB/o6LZbql3GCcqVUkoFQJ3uAOwePfcA\nFxhjCtw2fQVcISLRItIF6AEsAZYCPUSkiz2R9hX2vkoppWyZecVk5BY12vtVmwBE5EOsSS16icg+\neyLs57FmTZolIqtE5GUAY8x6rDlTNwDfArcZY8rtBuPbscZC3wh8Yu+rlFLKNu6f8xn6xJzqd/Ri\n3f4cfv/hSsodNR/hudoqIGPMlV6KXz/B/o8Dj3sp/wb4psaRKaVUCNl8KI/cIqtz5eq92QzsmAhA\nUWk50RFhWPMJ+Tb53wsBGN8npcbvqUNBKKVUENhwMMe1vHpfNgA5haWc8uC3vPLjjmqP75HcHICC\nkrJq9qygCUAppYJATES4a7l9QjMAftmeBcD8zRnVHp/cIhqAgpLyGr+nJgCllAoC2YWlruVyu2Nl\ncZl1Ms8uKPV6jDtn3f+xGuzrpAlAKaWCwLGCiqmhjTEUlZazO8vqZLnpUF61x+cWWlU/x4tqXgUU\n1KOBKqVUqMhxu3Ivd8Bv3l7Gwm1HanTs/M0ZbDiYC8AXK/fV+D31DkAppYLA0fyKO4ByY2p88ge4\n/s2lrmWtAlJKqZPMf5ZXXLlXDK5QPUct+v1XpglAKaUCrKzc4bHu7WEuXw94FZVV9PqJiwr3uo8v\nmgCUUirAvt9wGICxvawBML2d7H317y906/bZpU1crd5XE4BSSgVYll3//5uRXQHwVgPkq3+/s3zy\ngHYeyaAmNAEopVSArdxzDIAU+2Gu7MKSKvvkF3u/AygqtU765/Zty3Ef+/iiCUAppQKorNzB5yus\n0fETmkUCkJFbXGU/b3cAR44Xu8pjo8JpERNZq/fWBKCUUgG091ghACLQPMZ6NGvV3uwq+7k/KAbw\n2oIdpD82m5/t4SKaRYbz+nWn0SouqsbvrQlAKaUCyFm189JVQ4gKt07Jy3Yfq7LfPjtROH2weA8A\nu7PyAWgWFU6n1rGsePCcGr+3PgmslFIB5KzCiYsOJyI8jIgwocytF1B0RBjFZQ7XeEC3vb+CUT2S\nXNvz7KEfmtWyCyjoHYBSSgWUs3tnbJR1PV5WqQtolySra2e5w3pWYMbag0z9fC3OvWasPWgdH1n7\n63lNAEopFQAlZQ4mPruAmWsPAdA82vsJPLWlNTR05cTgrC5yiomq/elcq4CUUioADuUUsfFgLhvt\nQdxifVThxMdEEh4mlJUb9h2rmILd2WDs5LyDqA29A1BKqQCo3Nc/rtIdgHOGrytO62glAIehtLzi\nLsDZ/98pJkLvAJRS6qTgPvqnCMRXuqLvmRLPrLvGABARJpQ7HK52ALAaj50NxAAR4ZoAlFIqqB3L\nL+G1hTtIa10xbo8xEFnpBO7eq6egpJx5mzO5aHCqq2znkXx6pjTnocl9PeYTrg1NAEop1Yge/XoD\nn6/czxndWnvd3jUpjh1H8qs0Cm/LOE5ppVFD2yU0Y2SPJEa6dQutDW0DUEqpRnQotwiAXUfyXWUD\nOya6lnukWHX/aa1jqxxbVOqZAO48p6dfsegdgFJKNYL5mzO4/s2ltIm3Bnw7kFNE8+gIZt4xymMM\nn512YuieHF/lNQorNfw2i6z9w1/uNAEopVQjcE7bmJlXMdDb5ad1pGMrzyv9rONW43D7xJgqr3Hf\nZ2s81iPDxa+YtApIKaUCZGR333X3lRuFwbprcBcR5t8pXBOAUko1sBwfE7VXfpjLXUQNru4dtZg7\n2BtNAEop1cBufHup13Jvwz84T+nhYdUngLSk2k0BWVm1CUBE3hCRDBFZ51bWSkRmichW+3tLu1xE\n5DkR2SYia0RksNsx19n7bxWR6/yKWimlTiLOh77m3D2Gx6b0c5X7Gv8HIEwqEsB1wzu7lif2a8vD\n5/fhX5cP8juumtwBvAVMqFQ2FZhjjOkBzLHXASYCPeyvm4GXwEoYwF+A04GhwF+cSUMppZq6rklx\n9G3fgm5tmnP1sIqTeeWnf935uv4f1rU114/owpRTO/gdV7UJwBjzI3C0UvGFwNv28tvAFLfyd4xl\nEZAoIu2Ac4FZxpijxphjwCyqJhWllGqSyo3xWqXj7Q7AmRTE7Q7g3H5tXctXDu1Ub3HVtRtoijHm\noL18CEixlzsAe93222eX+SqvQkRuxrp7oFOn+vtBlVIqEI4Xl3Ewu4jY6Io++2f3Tmb2xgyv4/e8\ne+PpfL/hkMfUjmd0S2LXtEn1HpvfzwEYY4yI+NcU7fl604HpAOnp6fX2ukop1dh2Z+Uz5qn5AKR3\nrqj1funqIVWGdXDq1DqW34zq2hjh1bkX0GG7agf7e4Zdvh/o6LZfql3mq1wppYJeWbmD3767jA0H\ncmt13Js/7XItu0/qHhkeVqfx++tbXRPAV4CzJ891wJdu5dfavYGGATl2VdF3wHgRaWk3/o63y5RS\nKui9t2g3360/zHnPLfAov/iln/lwyR6fx32z9qBrOdvHswCBVG0KEpEPgbFAkojsw+rNMw34RERu\nAnYDl9m7fwOcB2wDCoAbAIwxR0XkUcDZGfavxpjKDctKKRV0SssdPPy/DVXKD+UUsXz3MZbvPuaz\nYTbDbdiHrPwSr/sEUrUJwBhzpY9N47zsa4DbfLzOG8AbtYpOKaUCbMnOimvVCX3bcjS/hFZxUdz6\n/nIAWvjoyulwBH8Tpj4JrJRSJ3A4t2L8nQVbMxn86CwWbM0kOd4arM19KGd3zpE7/zi+J1MGtef7\nO0c3fLC1FPhWCKWUCmLuUzfml1gn9VkbDrM98zjg+cSuu99/uBKw+vP/64pTGzjKutE7AKWUOoFj\nBSWEhwlRbn32I8PD2JphJYDKk7M7zd1kdY78fMW+hg+yjjQBKKXUCRzNL6VlbBQlbv323Rt3fSWA\nOHtO32eD9OofNAEopZRP8zZn2N08jcewDd+tP+RaXr0vB2MPy7w/u5Cs41ZySGkRw+QB7ejXIaFR\nY64NTQBKKeWFMYYb7Fm8yhyGOXePcW0rKfN8itd5RzBi2lyGPDabp7/fTH5JGXFB8LDXiWgCUEop\nLy55+RfX8vCurUlpEcP2J87zuu8f/7PaY/25uds4nFtM3AmGew4GmgCUUsqL5buPuZZb2gOzVR7R\nc8YfRgKwYOsR0qbOqPIaBSVlDRih/zQBKKWUF+0TKiZldx+3f5Dd779lbCR92rU44WuU+BjwLVho\nAlBKKS/Cw4UzurVmYMdErj8jzVXuTABd2zRHRJh9l+cDXref2d21fP95vRsl1roK7goqpZQKgOyC\nEvYeLeSK0zpxm9sJHSAm0ure6awiigjzvI4e3zeFhGaR9GwbT1Lz6MYJuI40ASilVCXr9lvDPg/y\nMsxDdITnCT8xNtK1PL5PCgNSExmQ6n14iGCjCUAppSo5Xmw13rqf3J2SW1hX9ZcOSbX3iWLjXyeQ\nU1h6wjl+g9HJFa1SSjWCMofVeBvpZcrGi05NZc3eHO4e39NV1iwqnGZR4VX2DXaaAJRSqpJyeyhn\nbxO5N4sK52+XDGjskBqE9gJSSqlKSsutBBAZ1rRPkU37p1NKqToot6uAIsK9D/XcVGgCUEqpSmZt\nOAxU7fHT1DTtn04ppeogr8jqBdTKHgKiqdIEoJRSlRhgaJdWiI/ZvpoKTQBKqZBXVu6gzG3cnmP5\nJbRu4lf/oAlAKaWY9NxCLn2lYvjnYwUlrhFAmzJ9DkApFdKW7TrK5sN5gHUnECbCsYLSkLgD0ASg\nlAppHy/d61p+5ccddE9uTrnDkNwi5gRHNQ2aAJRSIWPh1iNc/fpi5tw9hk6tYrnp7WX8uCXTtf2p\n7za7lod3bRWIEBuVJgClVMj4dv1BAH7cksmSnUddJ//oiDCK3eb5bRYZTvfk+IDE2Ji0EVgpFTJi\n7Unai0odzFx3yFV+08guHvs5R/xs6jQBKKVCRqnd1XP57qOusj9P6s1Fgzu41sPDhD+d26vRYwsE\nvxKAiNwpIutFZJ2IfCgiMSLSRUQWi8g2EflYRKLsfaPt9W329rT6+AGUUmrToVwuffln1zj+vhzN\nLwFg9sYMAGbdOZrfjOrqmrlreNfWbH/iPCYPaN+wAQeJOicAEekA/AFIN8b0A8KBK4C/Ac8YY7oD\nx4Cb7ENuAo7Z5c/Y+ymllN8en7GRpbuO8fO2I163Z+QVkTZ1Bl+uOuAq698hgR4pVj1/YmwUH908\njDeuP61R4g0W/lYBRQDNRCQCiAUOAmcBn9rb3wam2MsX2uvY28dJU3/OWinVKBZstU78zjF8nIwx\nGGOYtymjyjGDO3lO2zisa+uTclIXf9Q5ARhj9gP/APZgnfhzgOVAtjHG+VvYBzgr1zoAe+1jy+z9\nW1d+XRG5WUSWiciyzMzMypuVUsqnvccKPNbHP/MjXe77hm0ZxwG44rSOrm1nnpLcqLEFI3+qgFpi\nXdV3AdoDccAEfwMyxkw3xqQbY9LbtGnj78sppULIi/O3M2ON1dUzp7CUrfaJ/9UFOwF4bEo//nnp\nQH51agfG9tIE4M9zAGcDO40xmQAi8jkwAkgUkQj7Kj8V2G/vvx/oCOyzq4wSgCw/3l8pFSK2Zx7n\noyV7+MO4HsTHWBO13/LectYdyOFwTrFrv5IyB7d9sIJJAya5EoFTdEQYEeFhXDwklYvtCd1DnT9t\nAHuAYSISa9fljwM2APOAS+x9rgO+tJe/stext881xhg/3l8pFUQa8t953D9/4NUFOxkxbS7r9udw\n58ermLnuEHuPFlJid+1sGRvpcUxOYSkAz14xCICEZp7blX9tAIuxGnNXAGvt15oO3AvcJSLbsOr4\nX7cPeR1obZffBUz1I26lVBC5+KWfGfzorAZ5bWfXTYDcojIm/3shX6zcX2W/Cf3aeqznFZUSESa0\nT2wGQGKsJoDK/BoKwhjzF+AvlYp3AEO97FsEXOrP+ymlgsfBnEJ2ZxUwrGtrlu8+Vqtjc4tKMaZm\nV+VXTl8EQFREGCVuwzW4W3L/OGZvzOBDq58JaVNnANAiJsLVx//s3im1ijEU6JPASqk6Gf7kXK6Y\nvshr3/vfvL2M/yzb6+Uoy8BHvuf0J2bX6H3iY6zr1DV/Gc+k/u08tt0zoRfrHzmX5BYxlJSVVzk2\nt6iMLklxfPt/o7h7fGg83VsbmgCUUrW28WCua/nXry12LTvbAWZvPMyfPl3j9diycgfGWOPx+Lqi\nd+cwhpHdk4iJDOeFqwbz94sHuLZdNzyNuGgrQfTtkODzNU5p24LwMH3sqDJNAEqpWpvywk9eyzPz\niil3+G4MPppfwroDFcnjQHZhte9VWm6IDK84eV88JJXxfVJ476bTXSd/gNPSWnHPBL3Krw0dDlop\nVWvFPq7cdx8t4ATn/yoNxVER1V+DlpQ5PPYLDxOmX5vudd/2Cc081m8YkVbt64cyvQNQStWbB75Y\ny4aDOQC0S/CcUeu/XnrunOhuAeC1BTvYfDiPqIiaDdHgnMd3QGoClwxJ5Y5xPWp0XKjSBKCUqjFj\nDF+uqnoid1avH80vJeu41W3T2fsGILughP/7eFWV48rsBOBwWK+bW1Tqsf2xGRsBaB5ds8oK534C\n/OPSgSTGNv15ff2hVUBKqRp786dd/PXrDQA8OLkP5/ZNYeWebEZ2T+I37yyjWWS468Es96Ee3Sdf\ncee8A/h42V7u+3wtl6d3ZNrF/ak8TuRd5/SsUXyntI2ndVwUd9Zw/1CnCUApVWPv/LLLtVxQXEZq\ny1hSW8YC1l3Awm1H2Hw4D7Cuwp3u+3wtYF2Vn9MnhYVbj3DbBysoLXeQW1TKWz9Zr/vxsr307dCC\na4enUVxWjgjcMa4HbeJrNkNXXHQEyx88x98fM2RoAlBK1Vi0W138OX09H6xaust6GCwzzxqbx3kV\nvzsrH7DaBC6xx+ApKrX67E98dkGV93h8xkauHZ7Gc3O2YkzVtgRVf7QNQClVI4t2ZLmu7sHqW38i\nzlqcMU/NB+Ast+GXncMzeFNc5qCotJwX5m0HoE873/37lX80ASilauQKe0iGVnFRfHbL8Crbrxve\n2WO9rNwwZ+Nh13rzmIoKh+HdWlcZBmJ419auq/2cwlLa28v9UzUBNBRNAEqpWpl152iGdG5Vpfz6\nEV081tfuz+Gmt5e51qMrdeVs28KzaueXHVncO+EUAA7mFJFdWMr1Z6TVU9TKG20DUErVSFLzKM7p\nk0Lr5t4bZMOrmeE1p6DEYz060vP68+5zehJtP/DlfNK4dZx242xIegeglKqR4lIHMZG+H8jq1Dr2\nhMfnFXvO17tmn/XAWExkGA+f34fbz+pOZLjnKWnl3uw6RqtqQu8AlFI1Um5MtVf50y7qT2rLWD5b\nsc81Zv/bNw7lf6sPVOmbn9Q8miPHi3nyov786lSrd1DbSj1+/nHpwHr8CVRlmgCUUjVS7jDVjqh5\nxdBOAHy+Yp+rbEzPNozpWXV+71l3jia/pMz1HAFAvw4JXDS4A5+v2M+NI7rQSquAGpQmAKVUjTiM\nqfKEri+Vr+S9aRkX5Rq7x6PcHr6h8hSPqv5pAlAqhP2yPYt3ftnFC78eTFg1V/cOA+E1bDW84+we\n5BeXcftZtR+MzTlHQOVGYlX/NAEoFcLu+3wNu7IK2HEkn+7JzX3udyy/hHKHIayGdwDREeE8cmG/\nOsXUt731gFlZNSOFKv9pAlAqhPVp34JdWQXM2nCYHZnHufnd5Xz4/4YxvFtrj/2cs37tOJLf4DFd\nmt6RUofhksGpDf5eoU7vsZQKYV2TrKv+jLwibn53OQBXvrqoyn7OKSCLS6ufwtFf4WHCNcM60yyq\nZnMAqLrTBKCU8pjhq0elqiCHW1WMcxA31TRoFZBSIcxhT+LuHMEToEeKlQCO5pcQHia8tmCHa5tB\n6+WbEk0ASoUw5+l81oaKQdu2Z+RTWu5g8KOziI+JIK+o4gneoWmtUU2HJgClQpjzDsDd5sN5/OWr\n9QAeJ//v7xxN9za+ewqpk48mAKVCmJfzPwDfrD3osf7g5D70TIlvhIhUY9JGYKVCmKmUAZxj8GcX\neE7O3iFRZ+VqijQBKBXCnB18BnVMZOkDZ/vcr0UzHZahKfIrAYhIooh8KiKbRGSjiAwXkVYiMktE\nttrfW9r7iog8JyLbRGSNiAyunx9BKVVXxkB8dAT/vW0EbeKjffbxiY/WBNAU+XsH8CzwrTHmFGAg\nsBGYCswxxvQA5tjrABOBHvbXzcBLfr63Uo2i3GG46+NVjH/mBzJyiwIdTr1yGANuozv4Gu3TfTpH\n1XTUOQGISAIwGngdwBhTYozJBi4E3rZ3exuYYi9fCLxjLIuARBFpV+fIlWoE5Q5D/4e/4/OV+9ly\n+DhDn5jD9B+3BzqseuU+vk/z6IoT/bl9U7yWq6bDnzuALkAm8KaIrBSR10QkDkgxxji7EBwCnH9F\nHYC9bsfvs8s8iMjNIrJMRJZlZmb6EZ5S/pu7KYOCEs+nX5/4ZlOtX2dPVkGVBleAgzmFFJYE7ula\na4jnivV4tyv9q4dVTPKuCaBp8icBRACDgZeMMacC+VRU9wBgrL/4Wj06aIyZboxJN8akt2lTdRIJ\npRpLucNw+wcrAPjo5mEk1nF8+t4Pfsvop+bxqtsTtc7XH/7kXK57Y4nfsdaVwxivdwBn905hVI82\nXJaeSniYEKNDMzdJ/vxW9wH7jDGL7fVPsRLCYWfVjv09w96+H+jodnyqXaZUUOp2/zeuMXKGdW3N\nlEEVN6zerua9KSgpo9AeP+eJbzZRWFLO6wt3smZfNt3u/waAJbuOUh6goY+NAfdq/+YxVpKbPMCq\nnX3iV/1Z8eA5NZ4IRp1c6pwAjDGHgL0i0ssuGgdsAL4CrrPLrgO+tJe/Aq61ewMNA3LcqoqUCiqf\nLa+Y0tB57hvWtWIYhKP5JdW+xss/bKfPQ995lP177lYe/XoDFzz/k0f5ziPH/Yi27qy8U3Fy79iy\nGVDxM0eEh5GgXUCbLH/v634PvC8ia4BBwBPANOAcEdkKnG2vA3wD7AC2Aa8Ct/r53ko1iC9X7efu\n/6x2rb9y9RAAJvRry9OXWZOUL9x25ISvsetIPtNmVm0rmLMxw8vecPbTP7L5UF5dQ2bJzqNk5NW+\nh5LDYTxm+brj7B789cK+TB7Qvs6xqJOHXy07xphVQLqXTeO87GuA2/x5P6UaWnFZOXd8tMqjzH1i\ncuddwKwNhzmvfzsifcyRuPmw95O5r3KAm95eysJ7z6ptyBzKKeKyV34hOT6aF64aTNsWMXRsFVv9\ngVg/b3RExbj70RHhXDs8rdYxqJOTtuwo5eaVH3ZUKWuf2My17GwI/nrNQR787zqP/TJyi3j06w0U\nl5V7DKIGMHXiKVVe99Vr03nqkgFE2JXw+44V1inmdftzrPfPK+bSl39h1N/nAbD3aAGz3Ub59Ka4\nzEFkuNbvhyrt26WULSOviKdnbalS7p4AmkVWXC1/tHQv0y4e4Fp/cuYmvli5n9cX7nSdVJc8MI7k\n+BhyCkpdVULj+6TwyIV9aZdgve7wbq0Z+TfrpH28uIxVe7IZ2SOpxnHv8NF+cO0bS9h5JJ9Nj04g\nJtL77Foz1x2q8fuopkfvAJQC8ovLGPr4nGr3q9wb5q5PKqqLissq+vOXlht6pjQnOd4aRC0hNpI1\nD4/nqUsG8I/LBrpO/gCpLWNpnxDDiO6teXn+dq5+fTELttb8GZjdWQVey513IRvs6Rx9idWpF0OW\nJgClgBV7jnmsj+1lPYOS1Dy6yr5v3XCaa/nzFRU9mQ/leDbC9uuQ4LHeIiaSS9M70iKmaq+a1Fax\nlJYbV5fRa15fwuFqhp0wxvD+4t1szah6B7DhQC497Zm91u7L8fkabVvEcL42+IYsrQJSIa/cYfhl\nexYA79w4lG7JzYkKD+P3H67glWuq9nHoX+nE7pRVqWuo+zSL1YmNCmffsUJeX7jTVfbvuVu5dWx3\njyood/uOFfLAF1Y7RJekOHYeyXdtm78lg5axVuP1z9uP0Ld9C3ZnFTCyRxIpLWLYn11I2xYxHC8u\nIzZa7wBClSYAFfIe/XoDb/28C4BRPZJc1Twf3Tzc6/5xPoZFOJZfwsCOiXRqFcv/Vh/gosFVRjrx\nqVVsFPM3e1b7vLdoD+8t2sPHNw/jdLdnEDYfyuPhr9Zz3RkVQzUkx0fzxvWnkdIimj4Pfcffv93s\n2vbd+sN8t76iMbhnSnO2HD7Ob0Z24XhxGSktdKz/UKVVQCqkHc0vcZ38oWodvzeVG1Q/WbaX/60+\nQG5RGWf2asO/rzyVnU+ex69OTa1xHD9urXiuoHKPocunL2LV3mz+8OFKcotK+WzFPn7ZkcXv3lvh\n2udwbhFdkuKIjar+mm7LYavKaIY961dbTQAhSxOACmljn5pXp+Nev66iauieT9fw+w9XAriqXWo7\ndMJ9bif9K4d2YvZdo+mSFOcqm/LCT3y1+gDTf9jh8VyC08WDK5LNJ7/1fudS2UG7zSI5vmo7hwoN\nmgBUyCotd5Br95QZkJrAukfOrfGxo3u24YVfV53TqHe7FnWK5YzuFVU88dERdE+OZ94fx9Kp0gNd\nszcerjI66aZHJ3D7Wd1d60O7tOKK06xht5yN2beO7cauaZN47spTAejYqqJdQWf7Cl3aBqBCSm5R\nKQ9/tZ4LB3Xgkf+tB+D+807h5tHdavU6keFhTBrQjts+8Cwf2NF7A3F13MfbCXMbne0/vxvO6U9U\ndE/dcjiP09Jauda/un2E1z5Zk5B7AAAca0lEQVT+D53fhy5Jcdw0sgs7j+TTw57Q/YKB7blgYHvW\n7svh/OcXAtDSyx2FCg2aAFRIOe/ZBew7VujRfdN9lM/aumBge75afQCAl68e7DGsQm008/GgVkqL\nGDq3jmV3VgFje7Vh/uZM1h+o6NY5IDXR63GxURH8doyV1Jwnf3f9UxOYe/cYZq475JoIXoUerQJS\nIcMY43W4hWQ/GkGfu/JU7jy7JwAjutf86d3KRITe7Vrwx/E9q2xLtO8OBton+xV7sgHo4KN7aE11\nbdOc287srkM9hzC9A1Ahw9n7xd22xyf6/bq3ndmNa4d3Jt7LA161MfOOUV7Ljxdb7RS92lZcyQ/t\n0op3bhzq1/sppQlAhYzScmtyl3GnJHPL2G50ahVLhI/RPGsjIjysQevR84utRt++7SsamJ+6ZIDP\n8X2UqimtAlIhwzmJ15VDO5Ge1sqvqp/G9OTF/enbvgUdEpu52gpSW9ZsuGelTkTvAFTIKLczQNhJ\ndtlzZq9kzuyVDMAP94xl15ECwsO03l75TxOAChkOZwI4iRs9k+NjXCOMKuWvk+xaSKm6czhO/gSg\nVH3SBKBChn3+1wSglE0TgDrpZeQV8VM1k7SDWxWQ/tUrBWgCUCeRj5fuYXdWfpXyq15dzFWvLWZ7\npvepEZ20CkgpT5oA1EmhrNzBvZ+tZcxT8ykosR6MOppfQkmZwzUj1rh//sA9n64mt6jUddzx4jIe\n/mo9ZeUOVxWQ9qBRyqK9gNRJwTlVIsD2jHx2HDnOHR+t4sqhHT32+2TZPlrGRnHfeb3JKyql/8Pf\nAxARJq6HvvLtJ2uVCnWaANRJ4Vh+xVX9X79ez9Jd1hy+Hy7ZC0DXpDh22FMivvLjDv50bi/e+WW3\n65jX3KZazCmseC2lQplWAamTwsRnf3QtO0/+Tq3iovjsljM8yi54/ic+XrrX62tdMFAnQVcKNAGo\nk0R+pUlQ3C26bxwt46LYNW0S8/84FoANB3PZc7SA8we259PfVcyQddYpyTr6pVI2TQAq6BW51f9v\n+Ou5xESGMahjIvP+OJY3rk8nKqLizzi1pecQyaeltSQ9rRVPXzYQsKqKlFIWbQNQQWN3Vj7HCkoZ\nmJrgcZW+92gBAA9O7kNsVAQrHxxPWBhER4R7zJsL1sicX90+ggue/wmAs3unAHBOnxRuHNHFY+pE\npUKd3wlARMKBZcB+Y8xkEekCfAS0BpYD1xhjSkQkGngHGAJkAZcbY3b5+/6q6Rjz1HwAnryoP1cO\n7eQqd/bvH9K5JQDNok48DPKA1ETWP3Iue44W0N6eNCU+JpKHzu/TAFErdfKqjyqgO4CNbut/A54x\nxnQHjgE32eU3Acfs8mfs/ZSq4ulZWyizx+4H+N17KwDo0rrm1Tdx0RF1nqBdqVDhVwIQkVRgEvCa\nvS7AWcCn9i5vA1Ps5Qvtdezt40Rb4xTWE7qfLNtLTKT155iZV0z3B2aSNnUGS3Yede2XEOvfjFtK\nKU/+3gH8C7gHcF6utQayjTHOJ232Ac4ZtzsAewHs7Tn2/irEfbp8H/d8uoaiUge3jO3mse3Xry4C\noGsbbbxVqr7VOQGIyGQgwxizvB7jQURuFpFlIrIsMzOzPl9aBaGcwlLu+WyNa33KoA4suOdM13qZ\nPX7DJ78dXuVYpZR//LkDGAFcICK7sBp9zwKeBRJFxNm4nArst5f3Ax0B7O0JWI3BHowx040x6caY\n9DZt2vgRngp2xhgm/qviAa8HJ/ehZ0pzOraK5ZnLB3rsm9Q8urHDU6rJq3MCMMbcZ4xJNcakAVcA\nc40xVwHzgEvs3a4DvrSXv7LXsbfPNcY5S6s62RWWlNPjgW/4YuW+Gh+zK6uAAzlFACy+fxw3jezi\n6v45qX97BqYmNEisSilLQzwHcC/wkYg8BqwEXrfLXwfeFZFtwFGspKGaiN4PfQvAnR+vJut4Cb8Z\n1bXaY56ZtcW1nFJpgvaoiDC+vH0k//hus6v7p1KqftVLAjDGzAfm28s7gKFe9ikCLq2P91PB5WBO\nocf6YzM2njAB7MkqYMPBXL5afQCA92463ee+fzy3V/0EqZSqQp8EVn5zDs7229FdeeXHHSfcNzOv\nmNFPzXOt3zy6KyN7JDVofEop7zQBKL+t2pNNTGQYfzq3F8VlDj5d7r0d4IEv1nI0v8SjrH1CjNd9\nlVINTxOA8ktmXjHvL95N3/YtiAgPIyYynBK3p3idcgpKeX/xnirlsdH6J6hUoOh/n/LLaY/PBnAN\nuxAdEUZJmQNjjKtHz4KtmXyxcr/HcYM6JrJqbzZxUfonqFSg6H+fqrOPl1Zc0d8wIg2AaHs4hxlr\nD9IrJZ4eKfFc8/oS134XDe7AgA4JjOudwgdL9mj9v1IBpAlA1VpZuYM7PlrFjLUHAYiNCqdLUnMA\nYiKskTpv/2AlAKv/Mt51XO92LXj6skGu9XsnnNJYISulvNAJYZqgRTuyeN1tDtz6NndThuvkD/Dz\n1LMID7Oqe87t19Zj34GPWJOyX39GGp/8dliDxaSUqj1NAE3QFdMX8ejXG3A4fD9ovfdoAd+uO+hz\n+4ks2211+2wWGc6Ce84kMTbKta1DYjM2PTqB2870HNRtyqkdiI/R0TyVCiZaBdTEFJdVTJ+Yeby4\nyhO2ACVlDkb9vaIv/iVDUvnHpQOr7OdNblEp03/cwZDOLatMxO4UExlOz5R41/q1wzvrsA5KBSG9\nA/DDB4v30PW+Ga45a/OKSgn08EYPfLHOtXz6E3OY/uP2Kvv8Z/lej3Vf/fYr2555nAEPW1U6p6W1\nOuG+Fwxsz0OT+zBpQDv+PKmPTsSuVBAK6gSw6WBelWEGGtOGA7lc9sov/LK9yqClANz/xVocBtbu\nz+Hv326i/8Pf+133/v36Q2QXlFS/YyU3v7OMtKkzqpzMX5hXkQDyi8uYs/EwP26xhtl2n0wdYPOh\nPNKmzmDFnmNe3+Mzt9e+Y1yPE8YjItw4sgsv/HpwlfdRSgWHoK4CKnU4WL77GJMHNGvU952/OYPr\n31zqWn/zp50M7+Y5d80Hbg81XfryL67lx2ZsZFDHRNKruUL25t1fdvHgl+sZ26sNb91QZTilKpbv\nPsqNby3j9jO78/2Gw67yl68e7JpG8dy+KczblMH7i/cwe2PFPqN6JPHKNUPo89B3AJz/74Ws3Z8D\nwEUv/syuaZM83qus3MGL861kMvuu0dXOy6uUCn5Bf2n2gZenRxvaP7/f4rF+0B6yGGD9gRzSH5vN\n/V+s9Xn8JW4JoTb+/t1mAOZvziSnsPSE+67dl8PFL/1CTmEpj39jTckcGxXO/24fyYR+7dg1bRKt\n46IoLHVww1tLPU7+YCWA2KgIV9288+TvVFhS7rG+cm+2a7l7cjxKqZNf0CeAn7dnccjtBOzNnI2H\nGfX3ua66eH+1tcen2fLYRH47uitr9+eQNnUG7y7azaTnFnLkeDEAlw5J5c3rTwNg6sRTWPfIua7X\n2HQol1+2W90xa9IusPlQHnlFZa71v/5vg9f9DmQXkjZ1Buc/v7DKtv/eNoL+bo2tEeHCgq0Vs6r1\nSG7uWr48vRMA953X2+v7PD1rs2v5wucX8ocPrX79z14xyOv+SqmTT1BXATmbDYc9OYedT57nakgs\nKXPw3JytXDu8M8ktYrjz41XkFpVx5HgxqS1j/X7fcoehf4cEoiLCGN6ttWuEywf/azWw9mnXgp4p\nzXnsV/2Ijghnw1/PJdYe0mD2XWM4++kfmPCvBa7XW7g1k1euST9hXXiWnVTiYyLIKyojuYX3GbD+\n9u0mn69RedasZpHhHM61XnfVQ+eQGBuFMYbiMgcxkVYVzrCurfn3lafSJj6ayHAhqXk0Y56az6sL\ndpKZV0yzqAhW76u4OxjeVadxVqqpCOo7AOf4MgD5blUSq/Zm8/y8bdzw1lK+XLWfXPvK2VF1DLI6\nKS13EBFuJZuR3ZM4u3eKa9sTv+rPN3eM4l9XnEq0/dRrrNt4Nt2Tm3tcaQPM25zJmz+duHG41O6z\n/+8rTwXgpflVe+8AdKyU4N684TTXcstYz372p7St+PycffVFxHXydzp/YHuGdW3NkM6t6Nw6jji7\nfv+/qw7w4RLPKriWcVEopZqGoE4A4WHCXy/sC+BRvXPZK1Yd+/oDudzx0SpXeW7RievNa6qs3BAZ\nZn00EeFhvHZdumvbRYM7VHv8pAHtqpTFVtNoWm5nr5ZuD1W5V984GQxhAjufPI+tj090XZFHRYRV\n6Wp5+1ndAc8kURPPXF61mqdz61j+PKk3keFB/SejlKqFoP9vdo4tU1hSjjHGaz1/m3ir6uPK6Yvq\n5T3zS8oq6p9syfZ7VL569uaMbtYAZy9eNZifp57lKj+W77t759xNGQCuIRUAps20qnuyC0p4f/Fu\nso4Xk5lXTKu4KESESHv45ZeuGsxXt4+o8pr9OiSw88nzOLNXcrUxuxvfty2rHxrvugP7w7ge/PCn\nM2s0zaNS6uQR1G0AAF3bxAF4PLkK8OiUfmw7nMegTokM75rEsCfnkFdcRlFpeY1O0r58sHgPa/bl\nVCmfc/eYGlcxDe3Siq2PTyQyPIzMPKsO/sEv1/Pgl+sBWHDPmXRsVVGVsy0jj/cWWVUt7gmgsKSc\n855dQE5hKfuzC3ngi3V0bh3rUbUDMLF/1TsOp7o+gJUQG8nMO0bV6Vil1Mkh6O8ABnfyPiF4t6Q4\nHrmwH786NZW2CTG8ZVdznPLgt5SU1a0x4MmZG13dO/9UaS7a+JhIEmJrPpaNs6rEOTyyu1F/n0fa\n1Bk8O3srYFVlOeUWlrL9ifMY0rklO47ks+FgLvuzKx6G251VQO922g1TKeW/oE8AYWHC57daY84M\n7dKKW8d2Y3TPNgzt4vmglbPaBaDnn2fW+n1Kyhy88kPFfLa3ndm9jhF7ahETifOifnKltoFnZm9h\nW0YeX6064Cob3Lkl4WFCUnPfja3ujeNKKVVXQV8FBNZdQOUnUyuLigjj5tFdmW532fxs+T72Hivg\ngoHtSYyNopVb75XtmccZ988fePvGoYzp2QaAeZutOvizeyfzt4sH1Gv8P08dx75jBaSntWLygIP8\n6T9rGNAxgZ+2ZXH20z/SuXUskwe04/lfD3Yd08yuxkrv3JJHp/SjuMzBlBd+AjQBKKXqx0mRAGrq\ntLRWrgTw+DcbOZpfwr/sapZNj05ge+Zx1u7LYernVjXPdW8scdXVbzxoVcM8d+WpHt0660PbhBjX\nw2UT+rVjQj/rTqDb/d9Q7jDszipgYj/Pu4PjxVbX1kvTU6uc8Lu18exmqpRSdRH0VUC1MbpnRTXQ\n0Uo9bhbtyGLScwtdJ3+nv83chMNheH/xHjokNqv3k/+JvHz1ENdyh5ae4x0NTE0EPKu2Xvj1YG4Z\n200HV1NK1YsmdSaJjghn17RJnNmrTZVtz8/d5rF+eXpHALZmHOc37ywjM6+YQZ0SGyVOp4EdK4Zt\n6JXi2bD7u7HdWHL/OI/eQpMGtNNpFJVS9aZJVQE5TRrQnnmbM3lwch+2HMpj55F8luw66tp+74RT\nuGVsN37afoQftlQ8bPXPGk6KUl+S42P4720jmLnuIKelefZ2igwPI9nLZC5KKVVfmmQCuGRIKpcM\nSXWtz1x70CMBOLe5V6X8eVJvv54fqKtBHRMZ1LFx7zyUUgqaWBWQL63dBklb/uezXU8OT7+mog7+\nppFdGj0upZQKpDrfAYhIR+AdIAUwwHRjzLMi0gr4GEgDdgGXGWOOifVI6rPAeUABcL0xZoV/4deM\n88Gp2Khwj2TQPTm+2u6lSinVVPlTBVQG3G2MWSEi8cByEZkFXA/MMcZME5GpwFTgXmAi0MP+Oh14\nyf7e4OJjIpl912iqDPCjlFIhrM5VQMaYg84reGNMHrAR6ABcCLxt7/Y2MMVevhB4x1gWAYki4nsQ\nm3rWPTme7snaf14ppZzqpQ1ARNKAU4HFQIox5qC96RBWFRFYyWGv22H77DKllFIB4HcCEJHmwGfA\n/xljct23GWsuxOrnQ/R8vZtFZJmILMvMrDoevlJKqfrhVwIQkUisk//7xpjP7eLDzqod+3uGXb4f\n6Oh2eKpd5sEYM90Yk26MSW/TpuoDXUoppepHnROA3avndWCjMeZpt01fAdfZy9cBX7qVXyuWYUCO\nW1WRUkqpRuZPL6ARwDXAWhFxzst4PzAN+EREbgJ2A5fZ277B6gK6Dasb6A1+vLdSSik/1TkBGGMW\n4rtf5Tgv+xvgtrq+n1JKqfol1nk5OIlIHrA50HH4kAQcCXQQJxDM8QVzbBDc8WlsdRfM8dV3bJ2N\nMdU2ogb7WECbjTHpgQ7CGxFZFqyxQXDHF8yxQXDHp7HVXTDHF6jYQmIsIKWUUlVpAlBKqRAV7Alg\neqADOIFgjg2CO75gjg2COz6Nre6COb6AxBbUjcBKKaUaTrDfASillGogmgCUUipEaQJQSqlGYA+f\nE1QCngBEJNz+HnQfDoCIBPwz8iVYPzOo+L0GKxFJsL8H3e9XRNra34Pu9ysifUUkJtBx+CIiI0Sk\nW6Dj8KFZoAOoLGB//PYv6m3gzyLSygRRa7SIDBWRPwAYYxyBjqcyO75XgXtFJKiGTBWRdBF5F3go\n2P4RRSRMRFqIyNfAcxBcv18ROVVE5gCPgmv4lKAgIgNEZCHwGNA60PFUJiKDReR7YC6QEOh43InI\nMBH5DHhBRMYH08VRQBKAiHQFXgTmAZ2BR0UkKCbnFZH/A77ASkwT7bKg+IWJSLiIPInVZewnYDDw\nFxFJOfGRDc8+uT4PvALMAdoBD4tIbGAjq2Cf7POASKCDiFwOgb8LsEfIfQZrju23jTH/L5Dx+PBn\n4FNjzK+MMfshOO5QRCRSRF7B+p94DvgOGGtvC/jdnYiMxTrXfY41rM3VQMtAxuQuUB/QEKxhpN8C\n7gZWAZPtieYDbRswGbgFuA/AGFMeDH/sWL+vPcBl9mf3f8AwguDW0j65zgXG2bH9HWsyoLJAxuXF\nKVhjrvwLuEpE4o0xjkD+fu0r/ebASmPMOwAi0i1ITmBh9gXbcWPMv+yyc0QkEQiG6tto4AdglDHm\na6z5SXqLSESQ3N31B5YaY94H3sW6+Dge2JAqNMofmH0L1NOtaCmQKiIdjTHHsK5ms4GLGiOeamKb\nAayxvx93VgVh/7E3tkrxOYAPjTFbRCTaGHMAa2rNpCCIDWPM58aYbBE5B1iGdRfwhIj0DnR8biep\nbUAJsNP+uk5EOjV2dYuXv7u7gdNF5EER+Ql4CnhLRIY0ZlyVY7NPokeAUSIySUT+C/wR62r7T/Y+\ngfzs8o0xHxhjCu31CKDcGFMWiATq5fe6ALhURB4CVmD9T7woIpc2dmzeNOgHJCKJIjIDmAVcJtb0\nkQBFwEIq5grYDGwAWjVWA5OX2OKcm4wx5caYIuCfwE0ikmSMadQrWW+fnR1XNoAxplhE4oEuwIEA\nxxZnlztPsseAXxtjzgHysU6yjVZN5S0+t5NUOpBrjFkPrAf+ArxkVyU0+AnD12dnT6f6AnAJ1p3n\nlcBB4OLGauepJrY3sdom3jDGnAu8BgwTa3KnRuHr92pXoTl/dz8AvxKRlo15B+DrXGeMWQVMANKA\nW40xY7EueCcE6sLIXUP/wcdh1cn93l4ebZdnAouA/iIy1BhTjjU95Aj7xNsYvMZW6Y9mvh3n78Fq\nfG2k2LzFN8rLPqcD640xB0SkuYj0CFBszs/O2N+XGWO+sfedCZyKNQlQY/H1dwdWFVq8iHwM3AMs\nB7YYY0ob6YThMzZjzHPAWGPMj8aYYuC/WAmrsT67E31uX2OdxJz118uAw0BxI8XmMz5jcdhJYJe9\nz5hGjMtbbK7/V2PMEqCNHRtYVaXxWBdHAVXvCUBErhWRMSLSwm4smg58gnXVP1REOtgn/F+AlcAz\ndrbsC+xpyEbDamI7XUTa2/sJWHX/WL0e7hWRHGBwQ9Z31iI+5zDeicBeEbkBq1ptUKBj82II1pVs\ng95B1SK+llj/jIewEtMtQK+GvBqrzWdnV4k6DcGq4isPYGwd7LjWYFX53C4iSViNmf2ArIaKrYbx\nuf5n7QQebR9a5CwPgtiigZ+pmBBrHFZPqsa62PWpXsYCsj/ktsAHWPXU27Gy4B3GmCP2PiOwqnyW\nGWPedTv2aawJ4jsD1xpj6nUCmFrGttQY855dFgZ0xbr1LQH+zxiztj5j8yc+u/xd4CrgbeAZ+580\n4LGJSAusu5MnsE60dxtjttRnbHWIz/V3Z1fpObc3B6KMMUcDGJv7ZxcNDAf+gZU46/2z8/P/9S6s\n/4sewJ3GmA31GVsd4nP/7MLtDhvvAduMMQ8HODb3v7m+WNWNbYFS4HZjzMb6jq/WjDF+fQHh9vee\nwHvOMuDfwOeV9r0T64o6AYh32zfe3zjqObZYuywZOLMhYvMjvhZAc7vsCuCSIIotAYixy84GLgyy\nzy4BiHPbNyzIYmtml50BTAmy2OLdyiOD8Pca61YeFUSxJbr9XpsBXRvqs6vTz+TPh4F1hfc3rPq2\n87H6MDu3h2Fd/Y1xK2uO1f1uCVb9YfuG+kXVQ2ypDfah+xffUju+dkEcW4P8Xpv4312DfnbB/LkF\ne3z19Hvt0FCfnT9fdWoDEJExWI1nLbG61T2KdVtzprOh1Fj1cQ/bX06TgFuB1UB/Y3VjrFf1GNu+\n+o6tnuJbZcd3MIhja5BeSU38767BPrtg/tyCPb56/L3ur+/Y6kUdM+Io4Bq39RexGtOuB5a7ZcW2\nWI0iaXbZhcDohsxowRxbsMcXzLEFe3waW9OML5hjq5efr44fSixWa7uzTuwq4El7eRXwe3s5HevB\npcb7gYI4tmCPL5hjC/b4NLamGV8wx1YfX3WqAjLGFBhjio3VTRLgHKy+/QA3YD2K/TXwIdbTb432\nuHgwxxbs8QVzbMEen8bWNOML5tjqQ0T1u/gm1iBpBkgBvrKL84D7sfoI7zR23Zex02RjCebYgj2+\nYI4t2OPT2JpmfMEcmz/8fRDMgTW40RFggJ0JHwQcxpiFJrANH8EcGwR3fMEcGwR3fBpb3QVzfMEc\nW935W4eENRqlA2tsn5sCWZ91MsUW7PEFc2zBHp/G1jTjC+bY6vrl95PAIpIKXAM8bazxS4JGMMcG\nwR1fMMcGwR2fxlZ3wRxfMMdWV/UyFIRSSqmTT8AnnFBKKRUYmgCUUipEaQJQSqkQpQlAKaVClCYA\npdyISLmIrBKR9SKyWkTulmqmihSRNBH5dWPFqFR90QSglKdCY8wgY0xfrMf+J2JN5HEiaYAmAHXS\n0W6gSrkRkePGmOZu612xxnRPwpq17l2sGaDAmtXpZxFZBPQGdmLNzvYcMA0YizWQ2AvGmFca7YdQ\nqoY0ASjlpnICsMuygV5YY784jDFFItIDa/THdBEZC/zRGDPZ3v9mINkY85g9xeNPwKXGmJ2N+sMo\nVQ2/BoNTKsREAs+LyCCsidp7+thvPNZ4MZfY6wlYc+hqAlBBRROAUidgVwGVAxlYbQGHgYFY7WdF\nvg7DGif+u0YJUqk60kZgpXwQkTbAy8DzxqorTQAOGmsKwGuw5ooFq2oo3u3Q74BbRCTSfp2eIhKH\nUkFG7wCU8tRMRFZhVfeUYTX6Pm1vexH4TESuBb4F8u3yNUC5iKwG3gKexeoZtMKeHCQTmNJYP4BS\nNaWNwEopFaK0CkgppUKUJgCllApRmgCUUipEaQJQSqkQpQlAKaVClCYApZQKUZoAlFIqRGkCUEqp\nEPX/AVvxDh7sKmPnAAAAAElFTkSuQmCC\n","text/plain":["<Figure size 432x288 with 1 Axes>"]},"metadata":{"tags":[]}}]},{"cell_type":"code","metadata":{"id":"FpDwfGimm14T","colab_type":"code","outputId":"1dc29c6b-b1a4-4f46-dc4c-aee17d04c750","executionInfo":{"status":"ok","timestamp":1563471820599,"user_tz":-300,"elapsed":1922,"user":{"displayName":"Hammad Khan","photoUrl":"","userId":"06283299657089000525"}},"colab":{"base_uri":"https://localhost:8080/","height":285}},"source":["import matplotlib.pyplot as plt\n","Sd['Open'].plot(title=ticker)\n","plt.show()"],"execution_count":11,"outputs":[{"output_type":"display_data","data":{"image/png":"iVBORw0KGgoAAAANSUhEUgAAAYAAAAEMCAYAAADNtWEcAAAABHNCSVQICAgIfAhkiAAAAAlwSFlz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\n","text/plain":["<Figure size 432x288 with 1 Axes>"]},"metadata":{"tags":[]}}]},{"cell_type":"code","metadata":{"id":"_uNzJRGkm88f","colab_type":"code","outputId":"ecdf29c4-61ad-4ff2-94ca-506953762d2d","executionInfo":{"status":"ok","timestamp":1563471821274,"user_tz":-300,"elapsed":2559,"user":{"displayName":"Hammad Khan","photoUrl":"","userId":"06283299657089000525"}},"colab":{"base_uri":"https://localhost:8080/","height":285}},"source":["import matplotlib.pyplot as plt\n","Sd['High'].plot(title=ticker)\n","plt.show()"],"execution_count":12,"outputs":[{"output_type":"display_data","data":{"image/png":"iVBORw0KGgoAAAANSUhEUgAAAYAAAAEMCAYAAADNtWEcAAAABHNCSVQICAgIfAhkiAAAAAlwSFlz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\n","text/plain":["<Figure size 432x288 with 1 Axes>"]},"metadata":{"tags":[]}}]},{"cell_type":"code","metadata":{"id":"VxILS8ADnIuv","colab_type":"code","outputId":"ddd386ae-74d8-4779-9d3b-744d8a771b01","executionInfo":{"status":"ok","timestamp":1563472485688,"user_tz":-300,"elapsed":1108,"user":{"displayName":"Hammad Khan","photoUrl":"","userId":"06283299657089000525"}},"colab":{"base_uri":"https://localhost:8080/","height":364}},"source":["# Import DataReader\n","from pandas_datareader.data import DataReader\n","\n","# Import date\n","from datetime import date\n","\n","# Set start and end dates\n","start = date(2016,1,1)\n","#end = date(2016,12,31)\n","\n","# Set the ticker\n","ticker = 'AAPL'\n","\n","# Set the data source\n","data_source = 'yahoo'\n","\n","# Import the stock prices\n","stock_prices = DataReader(ticker, data_source, start)\n","\n","# Display and inspect the result\n","print(stock_prices.head())\n","stock_prices.info()"],"execution_count":29,"outputs":[{"output_type":"stream","text":["                  High         Low  ...      Volume  Adj Close\n","Date                                ...                       \n","2016-01-04  105.370003  102.000000  ...  67649400.0  99.117409\n","2016-01-05  105.849998  102.410004  ...  55791000.0  96.633583\n","2016-01-06  102.370003   99.870003  ...  68457400.0  94.742485\n","2016-01-07  100.129997   96.430000  ...  81094400.0  90.743942\n","2016-01-08   99.110001   96.760002  ...  70798000.0  91.223770\n","\n","[5 rows x 6 columns]\n","<class 'pandas.core.frame.DataFrame'>\n","DatetimeIndex: 891 entries, 2016-01-04 to 2019-07-18\n","Data columns (total 6 columns):\n","High         891 non-null float64\n","Low          891 non-null float64\n","Open         891 non-null float64\n","Close        891 non-null float64\n","Volume       891 non-null float64\n","Adj Close    891 non-null float64\n","dtypes: float64(6)\n","memory usage: 48.7 KB\n"],"name":"stdout"}]},{"cell_type":"code","metadata":{"id":"SUC7lxhcoPo_","colab_type":"code","colab":{}},"source":["# Import matplotlib.pyplot\n","import matplotlib.pyplot as plt\n","\n"],"execution_count":0,"outputs":[]},{"cell_type":"code","metadata":{"id":"v0arsdW_p3nd","colab_type":"code","colab":{"base_uri":"https://localhost:8080/","height":184},"outputId":"4445db3d-9420-4685-e055-4878b672b209","executionInfo":{"status":"error","timestamp":1563472416131,"user_tz":-300,"elapsed":659,"user":{"displayName":"Hammad Khan","photoUrl":"","userId":"06283299657089000525"}}},"source":["# Set start and end dates\n","start = (2016,1,1 -2019,7,1).all()\n","end = (2019,7,1-2016,1,1).all()\n"],"execution_count":27,"outputs":[{"output_type":"error","ename":"AttributeError","evalue":"ignored","traceback":["\u001b[0;31m---------------------------------------------------------------------------\u001b[0m","\u001b[0;31mAttributeError\u001b[0m                            Traceback (most recent call last)","\u001b[0;32m<ipython-input-27-96f2faeaa4b6>\u001b[0m in \u001b[0;36m<module>\u001b[0;34m()\u001b[0m\n\u001b[0;32m----> 1\u001b[0;31m \u001b[0mstart\u001b[0m \u001b[0;34m=\u001b[0m \u001b[0;34m(\u001b[0m\u001b[0;36m2016\u001b[0m\u001b[0;34m,\u001b[0m\u001b[0;36m1\u001b[0m\u001b[0;34m,\u001b[0m\u001b[0;36m1\u001b[0m \u001b[0;34m-\u001b[0m\u001b[0;36m2019\u001b[0m\u001b[0;34m,\u001b[0m\u001b[0;36m7\u001b[0m\u001b[0;34m,\u001b[0m\u001b[0;36m1\u001b[0m\u001b[0;34m)\u001b[0m\u001b[0;34m.\u001b[0m\u001b[0mall\u001b[0m\u001b[0;34m(\u001b[0m\u001b[0;34m)\u001b[0m\u001b[0;34m\u001b[0m\u001b[0;34m\u001b[0m\u001b[0m\n\u001b[0m\u001b[1;32m      2\u001b[0m \u001b[0mend\u001b[0m \u001b[0;34m=\u001b[0m \u001b[0;34m(\u001b[0m\u001b[0;36m2019\u001b[0m\u001b[0;34m,\u001b[0m\u001b[0;36m7\u001b[0m\u001b[0;34m,\u001b[0m\u001b[0;36m1\u001b[0m\u001b[0;34m-\u001b[0m\u001b[0;36m2016\u001b[0m\u001b[0;34m,\u001b[0m\u001b[0;36m1\u001b[0m\u001b[0;34m,\u001b[0m\u001b[0;36m1\u001b[0m\u001b[0;34m)\u001b[0m\u001b[0;34m.\u001b[0m\u001b[0mall\u001b[0m\u001b[0;34m(\u001b[0m\u001b[0;34m)\u001b[0m\u001b[0;34m\u001b[0m\u001b[0;34m\u001b[0m\u001b[0m\n","\u001b[0;31mAttributeError\u001b[0m: 'tuple' object has no attribute 'all'"]}]},{"cell_type":"code","metadata":{"id":"bChavsIuq1md","colab_type":"code","colab":{}},"source":["\n","# Set the ticker and data_source\n","ticker = 'FB'\n","data_source = 'iex'\n"],"execution_count":0,"outputs":[]},{"cell_type":"markdown","metadata":{"id":"irCGl8uUs1lv","colab_type":"text"},"source":["https://www.datacamp.com/free-premium?code=NDM0OTEyMw%3D%3D for datacamp free premium"]},{"cell_type":"code","metadata":{"id":"-0mWfeEOq5b-","colab_type":"code","colab":{"base_uri":"https://localhost:8080/","height":367},"outputId":"4f786b0e-124c-4d55-f714-f849c790c5bc","executionInfo":{"status":"error","timestamp":1563471914447,"user_tz":-300,"elapsed":2083,"user":{"displayName":"Hammad Khan","photoUrl":"","userId":"06283299657089000525"}}},"source":["\n","# Import the data using DataReader\n","stock_prices = DataReader(ticker,data_source,start,end)\n"],"execution_count":19,"outputs":[{"output_type":"error","ename":"RemoteDataError","evalue":"ignored","traceback":["\u001b[0;31m---------------------------------------------------------------------------\u001b[0m","\u001b[0;31mRemoteDataError\u001b[0m                           Traceback (most recent call last)","\u001b[0;32m<ipython-input-19-d98a10454123>\u001b[0m in \u001b[0;36m<module>\u001b[0;34m()\u001b[0m\n\u001b[0;32m----> 1\u001b[0;31m \u001b[0mstock_prices\u001b[0m \u001b[0;34m=\u001b[0m \u001b[0mDataReader\u001b[0m\u001b[0;34m(\u001b[0m\u001b[0mticker\u001b[0m\u001b[0;34m,\u001b[0m\u001b[0mdata_source\u001b[0m\u001b[0;34m,\u001b[0m\u001b[0mstart\u001b[0m\u001b[0;34m,\u001b[0m\u001b[0mend\u001b[0m\u001b[0;34m)\u001b[0m\u001b[0;34m\u001b[0m\u001b[0;34m\u001b[0m\u001b[0m\n\u001b[0m","\u001b[0;32m/usr/local/lib/python3.6/dist-packages/pandas_datareader/data.py\u001b[0m in \u001b[0;36mDataReader\u001b[0;34m(name, data_source, start, end, retry_count, pause, session, access_key)\u001b[0m\n\u001b[1;32m    320\u001b[0m                               \u001b[0mchunksize\u001b[0m\u001b[0;34m=\u001b[0m\u001b[0;36m25\u001b[0m\u001b[0;34m,\u001b[0m\u001b[0;34m\u001b[0m\u001b[0;34m\u001b[0m\u001b[0m\n\u001b[1;32m    321\u001b[0m                               \u001b[0mretry_count\u001b[0m\u001b[0;34m=\u001b[0m\u001b[0mretry_count\u001b[0m\u001b[0;34m,\u001b[0m \u001b[0mpause\u001b[0m\u001b[0;34m=\u001b[0m\u001b[0mpause\u001b[0m\u001b[0;34m,\u001b[0m\u001b[0;34m\u001b[0m\u001b[0;34m\u001b[0m\u001b[0m\n\u001b[0;32m--> 322\u001b[0;31m                               session=session).read()\n\u001b[0m\u001b[1;32m    323\u001b[0m \u001b[0;34m\u001b[0m\u001b[0m\n\u001b[1;32m    324\u001b[0m     \u001b[0;32melif\u001b[0m \u001b[0mdata_source\u001b[0m \u001b[0;34m==\u001b[0m \u001b[0;34m\"iex-tops\"\u001b[0m\u001b[0;34m:\u001b[0m\u001b[0;34m\u001b[0m\u001b[0;34m\u001b[0m\u001b[0m\n","\u001b[0;32m/usr/local/lib/python3.6/dist-packages/pandas_datareader/iex/daily.py\u001b[0m in \u001b[0;36mread\u001b[0;34m(self)\u001b[0m\n\u001b[1;32m     89\u001b[0m         \u001b[0;32mtry\u001b[0m\u001b[0;34m:\u001b[0m\u001b[0;34m\u001b[0m\u001b[0;34m\u001b[0m\u001b[0m\n\u001b[1;32m     90\u001b[0m             return self._read_one_data(self.url,\n\u001b[0;32m---> 91\u001b[0;31m                                        self._get_params(self.symbols))\n\u001b[0m\u001b[1;32m     92\u001b[0m         \u001b[0;32mfinally\u001b[0m\u001b[0;34m:\u001b[0m\u001b[0;34m\u001b[0m\u001b[0;34m\u001b[0m\u001b[0m\n\u001b[1;32m     93\u001b[0m             \u001b[0mself\u001b[0m\u001b[0;34m.\u001b[0m\u001b[0mclose\u001b[0m\u001b[0;34m(\u001b[0m\u001b[0;34m)\u001b[0m\u001b[0;34m\u001b[0m\u001b[0;34m\u001b[0m\u001b[0m\n","\u001b[0;32m/usr/local/lib/python3.6/dist-packages/pandas_datareader/base.py\u001b[0m in \u001b[0;36m_read_one_data\u001b[0;34m(self, url, params)\u001b[0m\n\u001b[1;32m     82\u001b[0m         \u001b[0;34m\"\"\" read one data from specified URL \"\"\"\u001b[0m\u001b[0;34m\u001b[0m\u001b[0;34m\u001b[0m\u001b[0m\n\u001b[1;32m     83\u001b[0m         \u001b[0;32mif\u001b[0m \u001b[0mself\u001b[0m\u001b[0;34m.\u001b[0m\u001b[0m_format\u001b[0m \u001b[0;34m==\u001b[0m \u001b[0;34m'string'\u001b[0m\u001b[0;34m:\u001b[0m\u001b[0;34m\u001b[0m\u001b[0;34m\u001b[0m\u001b[0m\n\u001b[0;32m---> 84\u001b[0;31m             \u001b[0mout\u001b[0m \u001b[0;34m=\u001b[0m \u001b[0mself\u001b[0m\u001b[0;34m.\u001b[0m\u001b[0m_read_url_as_StringIO\u001b[0m\u001b[0;34m(\u001b[0m\u001b[0murl\u001b[0m\u001b[0;34m,\u001b[0m \u001b[0mparams\u001b[0m\u001b[0;34m=\u001b[0m\u001b[0mparams\u001b[0m\u001b[0;34m)\u001b[0m\u001b[0;34m\u001b[0m\u001b[0;34m\u001b[0m\u001b[0m\n\u001b[0m\u001b[1;32m     85\u001b[0m         \u001b[0;32melif\u001b[0m \u001b[0mself\u001b[0m\u001b[0;34m.\u001b[0m\u001b[0m_format\u001b[0m \u001b[0;34m==\u001b[0m \u001b[0;34m'json'\u001b[0m\u001b[0;34m:\u001b[0m\u001b[0;34m\u001b[0m\u001b[0;34m\u001b[0m\u001b[0m\n\u001b[1;32m     86\u001b[0m             \u001b[0mout\u001b[0m \u001b[0;34m=\u001b[0m \u001b[0mself\u001b[0m\u001b[0;34m.\u001b[0m\u001b[0m_get_response\u001b[0m\u001b[0;34m(\u001b[0m\u001b[0murl\u001b[0m\u001b[0;34m,\u001b[0m \u001b[0mparams\u001b[0m\u001b[0;34m=\u001b[0m\u001b[0mparams\u001b[0m\u001b[0;34m)\u001b[0m\u001b[0;34m.\u001b[0m\u001b[0mjson\u001b[0m\u001b[0;34m(\u001b[0m\u001b[0;34m)\u001b[0m\u001b[0;34m\u001b[0m\u001b[0;34m\u001b[0m\u001b[0m\n","\u001b[0;32m/usr/local/lib/python3.6/dist-packages/pandas_datareader/base.py\u001b[0m in \u001b[0;36m_read_url_as_StringIO\u001b[0;34m(self, url, params)\u001b[0m\n\u001b[1;32m     93\u001b[0m         \u001b[0mOpen\u001b[0m \u001b[0murl\u001b[0m \u001b[0;34m(\u001b[0m\u001b[0;32mand\u001b[0m \u001b[0mretry\u001b[0m\u001b[0;34m)\u001b[0m\u001b[0;34m\u001b[0m\u001b[0;34m\u001b[0m\u001b[0m\n\u001b[1;32m     94\u001b[0m         \"\"\"\n\u001b[0;32m---> 95\u001b[0;31m         \u001b[0mresponse\u001b[0m \u001b[0;34m=\u001b[0m \u001b[0mself\u001b[0m\u001b[0;34m.\u001b[0m\u001b[0m_get_response\u001b[0m\u001b[0;34m(\u001b[0m\u001b[0murl\u001b[0m\u001b[0;34m,\u001b[0m \u001b[0mparams\u001b[0m\u001b[0;34m=\u001b[0m\u001b[0mparams\u001b[0m\u001b[0;34m)\u001b[0m\u001b[0;34m\u001b[0m\u001b[0;34m\u001b[0m\u001b[0m\n\u001b[0m\u001b[1;32m     96\u001b[0m         \u001b[0mtext\u001b[0m \u001b[0;34m=\u001b[0m \u001b[0mself\u001b[0m\u001b[0;34m.\u001b[0m\u001b[0m_sanitize_response\u001b[0m\u001b[0;34m(\u001b[0m\u001b[0mresponse\u001b[0m\u001b[0;34m)\u001b[0m\u001b[0;34m\u001b[0m\u001b[0;34m\u001b[0m\u001b[0m\n\u001b[1;32m     97\u001b[0m         \u001b[0mout\u001b[0m \u001b[0;34m=\u001b[0m \u001b[0mStringIO\u001b[0m\u001b[0;34m(\u001b[0m\u001b[0;34m)\u001b[0m\u001b[0;34m\u001b[0m\u001b[0;34m\u001b[0m\u001b[0m\n","\u001b[0;32m/usr/local/lib/python3.6/dist-packages/pandas_datareader/base.py\u001b[0m in \u001b[0;36m_get_response\u001b[0;34m(self, url, params, headers)\u001b[0m\n\u001b[1;32m    153\u001b[0m             \u001b[0mmsg\u001b[0m \u001b[0;34m+=\u001b[0m \u001b[0;34m'\\nResponse Text:\\n{0}'\u001b[0m\u001b[0;34m.\u001b[0m\u001b[0mformat\u001b[0m\u001b[0;34m(\u001b[0m\u001b[0mlast_response_text\u001b[0m\u001b[0;34m)\u001b[0m\u001b[0;34m\u001b[0m\u001b[0;34m\u001b[0m\u001b[0m\n\u001b[1;32m    154\u001b[0m \u001b[0;34m\u001b[0m\u001b[0m\n\u001b[0;32m--> 155\u001b[0;31m         \u001b[0;32mraise\u001b[0m \u001b[0mRemoteDataError\u001b[0m\u001b[0;34m(\u001b[0m\u001b[0mmsg\u001b[0m\u001b[0;34m)\u001b[0m\u001b[0;34m\u001b[0m\u001b[0;34m\u001b[0m\u001b[0m\n\u001b[0m\u001b[1;32m    156\u001b[0m \u001b[0;34m\u001b[0m\u001b[0m\n\u001b[1;32m    157\u001b[0m     \u001b[0;32mdef\u001b[0m \u001b[0m_get_crumb\u001b[0m\u001b[0;34m(\u001b[0m\u001b[0mself\u001b[0m\u001b[0;34m,\u001b[0m \u001b[0;34m*\u001b[0m\u001b[0margs\u001b[0m\u001b[0;34m)\u001b[0m\u001b[0;34m:\u001b[0m\u001b[0;34m\u001b[0m\u001b[0;34m\u001b[0m\u001b[0m\n","\u001b[0;31mRemoteDataError\u001b[0m: Unable to read URL: https://api.iextrading.com/1.0/stock/market/batch?symbols=FB&types=chart&range=5y\nResponse Text:\nb'Forbidden'"]}]},{"cell_type":"code","metadata":{"id":"pKrEG7E5rGZ7","colab_type":"code","colab":{}},"source":["\n","from datetime import date\n","from pandas_datareader import DataReader"],"execution_count":0,"outputs":[]},{"cell_type":"code","metadata":{"id":"_6JfE2LhOrz0","colab_type":"code","colab":{}},"source":["ser_code='T10Y2Y'\n","data_source='fred'"],"execution_count":0,"outputs":[]},{"cell_type":"code","metadata":{"id":"tx5GhxekPBRS","colab_type":"code","colab":{"base_uri":"https://localhost:8080/","height":121},"outputId":"db1f03b4-a666-46d8-ef15-bc3d5badcb08","executionInfo":{"status":"ok","timestamp":1563472988854,"user_tz":-300,"elapsed":2765,"user":{"displayName":"Hammad Khan","photoUrl":"","userId":"06283299657089000525"}}},"source":["start=date(2014,7,17)\n","Data=DataReader(ser_code,data_source,start) # date should not come 1st\n","Data.info()"],"execution_count":41,"outputs":[{"output_type":"stream","text":["<class 'pandas.core.frame.DataFrame'>\n","DatetimeIndex: 1305 entries, 2014-07-17 to 2019-07-17\n","Data columns (total 1 columns):\n","T10Y2Y    1251 non-null float64\n","dtypes: float64(1)\n","memory usage: 20.4 KB\n"],"name":"stdout"}]},{"cell_type":"code","metadata":{"id":"xgprFD-yPXZK","colab_type":"code","colab":{"base_uri":"https://localhost:8080/","height":295},"outputId":"77d91196-55f7-423c-831a-1faf929c89bd","executionInfo":{"status":"ok","timestamp":1563473228003,"user_tz":-300,"elapsed":1011,"user":{"displayName":"Hammad Khan","photoUrl":"","userId":"06283299657089000525"}}},"source":["ser_name='10 year treasury'\n","Data=Data.rename(columns={ser_code:ser_name})\n","Data.plot(title= '10 year treasury') \n","plt.show()"],"execution_count":45,"outputs":[{"output_type":"display_data","data":{"image/png":"iVBORw0KGgoAAAANSUhEUgAAAX4AAAEWCAYAAABhffzLAAAABHNCSVQICAgIfAhkiAAAAAlwSFlz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\nZwAAAABJRU5ErkJggg==\n","text/plain":["<Figure size 432x288 with 1 Axes>"]},"metadata":{"tags":[]}}]},{"cell_type":"code","metadata":{"id":"qnNlpJ0UQ5Jv","colab_type":"code","colab":{}},"source":["start=date(2010,1,1)\n","series='DCOILWTICO'\n","#source='fred'\n","oil=DataReader(series,'fred',start)\n","tick='XOM'\n","share=DataReader(tick,'yahoo',start)"],"execution_count":0,"outputs":[]},{"cell_type":"code","metadata":{"id":"jk11A0BfSDrl","colab_type":"code","colab":{}},"source":["data=pd.concat([share[['Close']],oil], axis=1)"],"execution_count":0,"outputs":[]},{"cell_type":"code","metadata":{"id":"YBo_dTYpSmGf","colab_type":"code","colab":{"base_uri":"https://localhost:8080/","height":139},"outputId":"188a6a21-4ae3-441d-8992-69d219704c51","executionInfo":{"status":"ok","timestamp":1563473662502,"user_tz":-300,"elapsed":819,"user":{"displayName":"Hammad Khan","photoUrl":"","userId":"06283299657089000525"}}},"source":["data.info()"],"execution_count":50,"outputs":[{"output_type":"stream","text":["<class 'pandas.core.frame.DataFrame'>\n","DatetimeIndex: 2490 entries, 2010-01-01 to 2019-07-18\n","Data columns (total 2 columns):\n","Close         2401 non-null float64\n","DCOILWTICO    2396 non-null float64\n","dtypes: float64(2)\n","memory usage: 58.4 KB\n"],"name":"stdout"}]},{"cell_type":"code","metadata":{"id":"d-zxgULvSULH","colab_type":"code","colab":{"base_uri":"https://localhost:8080/","height":1000},"outputId":"28674d1c-c612-4a6c-ec02-47f4a65c405e","executionInfo":{"status":"error","timestamp":1563473650527,"user_tz":-300,"elapsed":953,"user":{"displayName":"Hammad Khan","photoUrl":"","userId":"06283299657089000525"}}},"source":["data=pd.concat(share[['Close'],oil], axis=1)"],"execution_count":49,"outputs":[{"output_type":"error","ename":"TypeError","evalue":"ignored","traceback":["\u001b[0;31m---------------------------------------------------------------------------\u001b[0m","\u001b[0;31mTypeError\u001b[0m                                 Traceback (most recent call last)","\u001b[0;32m<ipython-input-49-52bef9eb7d9c>\u001b[0m in \u001b[0;36m<module>\u001b[0;34m()\u001b[0m\n\u001b[0;32m----> 1\u001b[0;31m \u001b[0mdata\u001b[0m\u001b[0;34m=\u001b[0m\u001b[0mpd\u001b[0m\u001b[0;34m.\u001b[0m\u001b[0mconcat\u001b[0m\u001b[0;34m(\u001b[0m\u001b[0mshare\u001b[0m\u001b[0;34m[\u001b[0m\u001b[0;34m[\u001b[0m\u001b[0;34m'Close'\u001b[0m\u001b[0;34m]\u001b[0m\u001b[0;34m,\u001b[0m\u001b[0moil\u001b[0m\u001b[0;34m]\u001b[0m\u001b[0;34m,\u001b[0m \u001b[0maxis\u001b[0m\u001b[0;34m=\u001b[0m\u001b[0;36m1\u001b[0m\u001b[0;34m)\u001b[0m\u001b[0;34m\u001b[0m\u001b[0;34m\u001b[0m\u001b[0m\n\u001b[0m","\u001b[0;32m/usr/local/lib/python3.6/dist-packages/pandas/core/frame.py\u001b[0m in \u001b[0;36m__getitem__\u001b[0;34m(self, key)\u001b[0m\n\u001b[1;32m   2925\u001b[0m             \u001b[0;32mif\u001b[0m \u001b[0mself\u001b[0m\u001b[0;34m.\u001b[0m\u001b[0mcolumns\u001b[0m\u001b[0;34m.\u001b[0m\u001b[0mnlevels\u001b[0m \u001b[0;34m>\u001b[0m \u001b[0;36m1\u001b[0m\u001b[0;34m:\u001b[0m\u001b[0;34m\u001b[0m\u001b[0;34m\u001b[0m\u001b[0m\n\u001b[1;32m   2926\u001b[0m                 \u001b[0;32mreturn\u001b[0m \u001b[0mself\u001b[0m\u001b[0;34m.\u001b[0m\u001b[0m_getitem_multilevel\u001b[0m\u001b[0;34m(\u001b[0m\u001b[0mkey\u001b[0m\u001b[0;34m)\u001b[0m\u001b[0;34m\u001b[0m\u001b[0;34m\u001b[0m\u001b[0m\n\u001b[0;32m-> 2927\u001b[0;31m             \u001b[0mindexer\u001b[0m \u001b[0;34m=\u001b[0m \u001b[0mself\u001b[0m\u001b[0;34m.\u001b[0m\u001b[0mcolumns\u001b[0m\u001b[0;34m.\u001b[0m\u001b[0mget_loc\u001b[0m\u001b[0;34m(\u001b[0m\u001b[0mkey\u001b[0m\u001b[0;34m)\u001b[0m\u001b[0;34m\u001b[0m\u001b[0;34m\u001b[0m\u001b[0m\n\u001b[0m\u001b[1;32m   2928\u001b[0m             \u001b[0;32mif\u001b[0m \u001b[0mis_integer\u001b[0m\u001b[0;34m(\u001b[0m\u001b[0mindexer\u001b[0m\u001b[0;34m)\u001b[0m\u001b[0;34m:\u001b[0m\u001b[0;34m\u001b[0m\u001b[0;34m\u001b[0m\u001b[0m\n\u001b[1;32m   2929\u001b[0m                 \u001b[0mindexer\u001b[0m \u001b[0;34m=\u001b[0m \u001b[0;34m[\u001b[0m\u001b[0mindexer\u001b[0m\u001b[0;34m]\u001b[0m\u001b[0;34m\u001b[0m\u001b[0;34m\u001b[0m\u001b[0m\n","\u001b[0;32m/usr/local/lib/python3.6/dist-packages/pandas/core/indexes/base.py\u001b[0m in \u001b[0;36mget_loc\u001b[0;34m(self, key, method, tolerance)\u001b[0m\n\u001b[1;32m   2655\u001b[0m                                  'backfill or nearest lookups')\n\u001b[1;32m   2656\u001b[0m             \u001b[0;32mtry\u001b[0m\u001b[0;34m:\u001b[0m\u001b[0;34m\u001b[0m\u001b[0;34m\u001b[0m\u001b[0m\n\u001b[0;32m-> 2657\u001b[0;31m                 \u001b[0;32mreturn\u001b[0m \u001b[0mself\u001b[0m\u001b[0;34m.\u001b[0m\u001b[0m_engine\u001b[0m\u001b[0;34m.\u001b[0m\u001b[0mget_loc\u001b[0m\u001b[0;34m(\u001b[0m\u001b[0mkey\u001b[0m\u001b[0;34m)\u001b[0m\u001b[0;34m\u001b[0m\u001b[0;34m\u001b[0m\u001b[0m\n\u001b[0m\u001b[1;32m   2658\u001b[0m             \u001b[0;32mexcept\u001b[0m \u001b[0mKeyError\u001b[0m\u001b[0;34m:\u001b[0m\u001b[0;34m\u001b[0m\u001b[0;34m\u001b[0m\u001b[0m\n\u001b[1;32m   2659\u001b[0m                 \u001b[0;32mreturn\u001b[0m \u001b[0mself\u001b[0m\u001b[0;34m.\u001b[0m\u001b[0m_engine\u001b[0m\u001b[0;34m.\u001b[0m\u001b[0mget_loc\u001b[0m\u001b[0;34m(\u001b[0m\u001b[0mself\u001b[0m\u001b[0;34m.\u001b[0m\u001b[0m_maybe_cast_indexer\u001b[0m\u001b[0;34m(\u001b[0m\u001b[0mkey\u001b[0m\u001b[0;34m)\u001b[0m\u001b[0;34m)\u001b[0m\u001b[0;34m\u001b[0m\u001b[0;34m\u001b[0m\u001b[0m\n","\u001b[0;32mpandas/_libs/index.pyx\u001b[0m in \u001b[0;36mpandas._libs.index.IndexEngine.get_loc\u001b[0;34m()\u001b[0m\n","\u001b[0;32mpandas/_libs/index.pyx\u001b[0m in \u001b[0;36mpandas._libs.index.IndexEngine.get_loc\u001b[0;34m()\u001b[0m\n","\u001b[0;31mTypeError\u001b[0m: '(['Close'],             DCOILWTICO\nDATE                  \n2010-01-01         NaN\n2010-01-04       81.52\n2010-01-05       81.74\n2010-01-06       83.12\n2010-01-07       82.60\n2010-01-08       82.74\n2010-01-11       82.54\n2010-01-12       80.79\n2010-01-13       79.66\n2010-01-14       79.35\n2010-01-15       77.96\n2010-01-18         NaN\n2010-01-19       78.98\n2010-01-20       77.42\n2010-01-21       75.84\n2010-01-22       74.25\n2010-01-25       74.90\n2010-01-26       74.67\n2010-01-27       73.64\n2010-01-28       73.62\n2010-01-29       72.85\n2010-02-01       74.41\n2010-02-02       77.21\n2010-02-03       76.96\n2010-02-04       73.13\n2010-02-05       71.15\n2010-02-08       71.87\n2010-02-09       73.71\n2010-02-10       74.48\n2010-02-11       75.23\n...                ...\n2019-06-04       53.50\n2019-06-05       51.57\n2019-06-06       52.59\n2019-06-07       53.95\n2019-06-10       53.33\n2019-06-11       53.30\n2019-06-12       51.13\n2019-06-13       52.38\n2019-06-14       52.47\n2019-06-17       51.94\n2019-06-18       53.86\n2019-06-19       53.74\n2019-06-20       56.88\n2019-06-21       57.35\n2019-06-24       57.73\n2019-06-25       57.63\n2019-06-26       59.17\n2019-06-27       59.18\n2019-06-28       58.20\n2019-07-01       58.91\n2019-07-02       56.00\n2019-07-03       57.06\n2019-07-04         NaN\n2019-07-05         NaN\n2019-07-08       57.35\n2019-07-09       57.57\n2019-07-10       60.28\n2019-07-11       59.93\n2019-07-12       59.99\n2019-07-15       59.30\n\n[2487 rows x 1 columns])' is an invalid key"]}]},{"cell_type":"code","metadata":{"id":"LkPctsB3Spdg","colab_type":"code","colab":{"base_uri":"https://localhost:8080/","height":269},"outputId":"1a3d6f7b-fc8f-4c1c-d510-3b23f65702ac","executionInfo":{"status":"ok","timestamp":1563473748458,"user_tz":-300,"elapsed":1331,"user":{"displayName":"Hammad Khan","photoUrl":"","userId":"06283299657089000525"}}},"source":["data.columns=['EXXON','OIL']\n","data.plot()\n","plt.show()"],"execution_count":51,"outputs":[{"output_type":"display_data","data":{"image/png":"iVBORw0KGgoAAAANSUhEUgAAAXoAAAD8CAYAAAB5Pm/hAAAABHNCSVQICAgIfAhkiAAAAAlwSFlz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\nhQAAAABJRU5ErkJggg==\n","text/plain":["<Figure size 432x288 with 1 Axes>"]},"metadata":{"tags":[]}}]},{"cell_type":"code","metadata":{"id":"LQG-dPIHTBQ7","colab_type":"code","colab":{}},"source":[""],"execution_count":0,"outputs":[]}
]}
